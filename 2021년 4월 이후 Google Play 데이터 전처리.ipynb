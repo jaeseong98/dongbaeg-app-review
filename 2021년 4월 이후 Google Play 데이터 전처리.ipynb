{
 "cells": [
  {
   "cell_type": "code",
   "execution_count": 1,
   "metadata": {},
   "outputs": [],
   "source": [
    "import os\n",
    "import datetime as dt\n",
    "import pandas as pd\n",
    "pd.set_option('display.max_rows', None)"
   ]
  },
  {
   "cell_type": "code",
   "execution_count": 2,
   "metadata": {},
   "outputs": [
    {
     "data": {
      "text/plain": [
       "'/home/a201843240/동백전 연구'"
      ]
     },
     "execution_count": 2,
     "metadata": {},
     "output_type": "execute_result"
    }
   ],
   "source": [
    "os.getcwd()"
   ]
  },
  {
   "cell_type": "code",
   "execution_count": 3,
   "metadata": {},
   "outputs": [
    {
     "data": {
      "text/plain": [
       "['4월이후_data.csv',\n",
       " '2021년 4월 이전 Google Play 데이터 전처리.ipynb',\n",
       " '.ipynb_checkpoints',\n",
       " '2021년 4월 이후 Google Play 데이터 전처리.ipynb',\n",
       " '웹크롤링-구글플레이.ipynb',\n",
       " '4월이전_data.csv']"
      ]
     },
     "execution_count": 3,
     "metadata": {},
     "output_type": "execute_result"
    }
   ],
   "source": [
    "os.listdir()"
   ]
  },
  {
   "cell_type": "code",
   "execution_count": 4,
   "metadata": {},
   "outputs": [],
   "source": [
    "df = pd.read_csv('4월이후_data.csv')"
   ]
  },
  {
   "cell_type": "code",
   "execution_count": 5,
   "metadata": {},
   "outputs": [
    {
     "data": {
      "text/html": [
       "<div>\n",
       "<style scoped>\n",
       "    .dataframe tbody tr th:only-of-type {\n",
       "        vertical-align: middle;\n",
       "    }\n",
       "\n",
       "    .dataframe tbody tr th {\n",
       "        vertical-align: top;\n",
       "    }\n",
       "\n",
       "    .dataframe thead th {\n",
       "        text-align: right;\n",
       "    }\n",
       "</style>\n",
       "<table border=\"1\" class=\"dataframe\">\n",
       "  <thead>\n",
       "    <tr style=\"text-align: right;\">\n",
       "      <th></th>\n",
       "      <th>DATE</th>\n",
       "      <th>STAR</th>\n",
       "      <th>LIKE</th>\n",
       "      <th>REVIEW</th>\n",
       "    </tr>\n",
       "  </thead>\n",
       "  <tbody>\n",
       "    <tr>\n",
       "      <th>0</th>\n",
       "      <td>2021년 06월 25일</td>\n",
       "      <td>별표 5개 만점에 1개를 받았습니다.</td>\n",
       "      <td>91.0</td>\n",
       "      <td>캐시백 한도가 30만원 이면 충전한도도 30만원, 보유한도도 30만원으로 결정하면되...</td>\n",
       "    </tr>\n",
       "    <tr>\n",
       "      <th>1</th>\n",
       "      <td>2021년 07월 22일</td>\n",
       "      <td>별표 5개 만점에 1개를 받았습니다.</td>\n",
       "      <td>1.0</td>\n",
       "      <td>로코 이벤트라고 3천원 주더니 사용조건이 충전금 전액사용 이후에 카드캐시네? 자동충...</td>\n",
       "    </tr>\n",
       "    <tr>\n",
       "      <th>2</th>\n",
       "      <td>2021년 06월 30일</td>\n",
       "      <td>별표 5개 만점에 1개를 받았습니다.</td>\n",
       "      <td>12.0</td>\n",
       "      <td>진짜 ui부터 편의기능 싹다 최악이네ㅡㅡ 삼성페이등록도 안돼 바코드결제도 안돼 qr...</td>\n",
       "    </tr>\n",
       "    <tr>\n",
       "      <th>3</th>\n",
       "      <td>2021년 07월 02일</td>\n",
       "      <td>별표 5개 만점에 1개를 받았습니다.</td>\n",
       "      <td>10.0</td>\n",
       "      <td>업뎃 이후에 개인정보 동의 안하면 화면이 안넘어가네요 이건 먼짓거리인지..쓸수록 짜...</td>\n",
       "    </tr>\n",
       "    <tr>\n",
       "      <th>4</th>\n",
       "      <td>2021년 06월 30일</td>\n",
       "      <td>별표 5개 만점에 1개를 받았습니다.</td>\n",
       "      <td>5.0</td>\n",
       "      <td>계좌등록 여러건 등록 안되나요? 입금 출금 전부다 계좌 인증하면서 수시로 바꿔야하네...</td>\n",
       "    </tr>\n",
       "  </tbody>\n",
       "</table>\n",
       "</div>"
      ],
      "text/plain": [
       "            DATE                  STAR  LIKE  \\\n",
       "0  2021년 06월 25일  별표 5개 만점에 1개를 받았습니다.  91.0   \n",
       "1  2021년 07월 22일  별표 5개 만점에 1개를 받았습니다.   1.0   \n",
       "2  2021년 06월 30일  별표 5개 만점에 1개를 받았습니다.  12.0   \n",
       "3  2021년 07월 02일  별표 5개 만점에 1개를 받았습니다.  10.0   \n",
       "4  2021년 06월 30일  별표 5개 만점에 1개를 받았습니다.   5.0   \n",
       "\n",
       "                                              REVIEW  \n",
       "0  캐시백 한도가 30만원 이면 충전한도도 30만원, 보유한도도 30만원으로 결정하면되...  \n",
       "1  로코 이벤트라고 3천원 주더니 사용조건이 충전금 전액사용 이후에 카드캐시네? 자동충...  \n",
       "2  진짜 ui부터 편의기능 싹다 최악이네ㅡㅡ 삼성페이등록도 안돼 바코드결제도 안돼 qr...  \n",
       "3  업뎃 이후에 개인정보 동의 안하면 화면이 안넘어가네요 이건 먼짓거리인지..쓸수록 짜...  \n",
       "4  계좌등록 여러건 등록 안되나요? 입금 출금 전부다 계좌 인증하면서 수시로 바꿔야하네...  "
      ]
     },
     "execution_count": 5,
     "metadata": {},
     "output_type": "execute_result"
    }
   ],
   "source": [
    "df.head()"
   ]
  },
  {
   "cell_type": "code",
   "execution_count": 6,
   "metadata": {},
   "outputs": [
    {
     "data": {
      "text/plain": [
       "(860, 4)"
      ]
     },
     "execution_count": 6,
     "metadata": {},
     "output_type": "execute_result"
    }
   ],
   "source": [
    "df.shape"
   ]
  },
  {
   "cell_type": "code",
   "execution_count": 7,
   "metadata": {},
   "outputs": [
    {
     "name": "stdout",
     "output_type": "stream",
     "text": [
      "<class 'pandas.core.frame.DataFrame'>\n",
      "RangeIndex: 860 entries, 0 to 859\n",
      "Data columns (total 4 columns):\n",
      " #   Column  Non-Null Count  Dtype  \n",
      "---  ------  --------------  -----  \n",
      " 0   DATE    860 non-null    object \n",
      " 1   STAR    860 non-null    object \n",
      " 2   LIKE    443 non-null    float64\n",
      " 3   REVIEW  860 non-null    object \n",
      "dtypes: float64(1), object(3)\n",
      "memory usage: 27.0+ KB\n"
     ]
    }
   ],
   "source": [
    "df.info(null_counts=True)"
   ]
  },
  {
   "cell_type": "markdown",
   "metadata": {},
   "source": [
    "__날짜 전처리__"
   ]
  },
  {
   "cell_type": "code",
   "execution_count": 8,
   "metadata": {},
   "outputs": [],
   "source": [
    "df['DATE'] = df['DATE'].str.replace('년 ', '-') # 'yyyy-m-dd' 형식으로 변환\n",
    "df['DATE'] = df['DATE'].str.replace('월 ', '-')\n",
    "df['DATE'] = df['DATE'].str.replace('일', '')\n",
    "\n",
    "df['DATE'] = df['DATE'].astype('datetime64') # datetime 형식으로 변환"
   ]
  },
  {
   "cell_type": "code",
   "execution_count": 9,
   "metadata": {},
   "outputs": [
    {
     "data": {
      "text/plain": [
       "0   2021-06-25\n",
       "1   2021-07-22\n",
       "2   2021-06-30\n",
       "3   2021-07-02\n",
       "4   2021-06-30\n",
       "Name: DATE, dtype: datetime64[ns]"
      ]
     },
     "execution_count": 9,
     "metadata": {},
     "output_type": "execute_result"
    }
   ],
   "source": [
    "df['DATE'].head()"
   ]
  },
  {
   "cell_type": "markdown",
   "metadata": {},
   "source": [
    "__별점 전처리__"
   ]
  },
  {
   "cell_type": "code",
   "execution_count": 10,
   "metadata": {},
   "outputs": [],
   "source": [
    "df['STAR'] = df['STAR'].str[10:11].astype('int') # 별점 숫자만 추출, 문자형식을 정수로 변환"
   ]
  },
  {
   "cell_type": "code",
   "execution_count": 11,
   "metadata": {},
   "outputs": [
    {
     "data": {
      "text/plain": [
       "0    1\n",
       "1    1\n",
       "2    1\n",
       "3    1\n",
       "4    1\n",
       "Name: STAR, dtype: int64"
      ]
     },
     "execution_count": 11,
     "metadata": {},
     "output_type": "execute_result"
    }
   ],
   "source": [
    "df['STAR'].head()"
   ]
  },
  {
   "cell_type": "markdown",
   "metadata": {},
   "source": [
    "__추천수 전처리__"
   ]
  },
  {
   "cell_type": "code",
   "execution_count": 12,
   "metadata": {},
   "outputs": [],
   "source": [
    "df['LIKE'] = df['LIKE'].fillna(0).astype('int') # 실수를 정수로 변환"
   ]
  },
  {
   "cell_type": "code",
   "execution_count": 13,
   "metadata": {},
   "outputs": [
    {
     "data": {
      "text/plain": [
       "0    91\n",
       "1     1\n",
       "2    12\n",
       "3    10\n",
       "4     5\n",
       "Name: LIKE, dtype: int64"
      ]
     },
     "execution_count": 13,
     "metadata": {},
     "output_type": "execute_result"
    }
   ],
   "source": [
    "df['LIKE'].head()"
   ]
  },
  {
   "cell_type": "code",
   "execution_count": 14,
   "metadata": {},
   "outputs": [
    {
     "data": {
      "text/html": [
       "<div>\n",
       "<style scoped>\n",
       "    .dataframe tbody tr th:only-of-type {\n",
       "        vertical-align: middle;\n",
       "    }\n",
       "\n",
       "    .dataframe tbody tr th {\n",
       "        vertical-align: top;\n",
       "    }\n",
       "\n",
       "    .dataframe thead th {\n",
       "        text-align: right;\n",
       "    }\n",
       "</style>\n",
       "<table border=\"1\" class=\"dataframe\">\n",
       "  <thead>\n",
       "    <tr style=\"text-align: right;\">\n",
       "      <th></th>\n",
       "      <th>DATE</th>\n",
       "      <th>STAR</th>\n",
       "      <th>LIKE</th>\n",
       "      <th>REVIEW</th>\n",
       "    </tr>\n",
       "  </thead>\n",
       "  <tbody>\n",
       "    <tr>\n",
       "      <th>11</th>\n",
       "      <td>2021-06-06</td>\n",
       "      <td>1</td>\n",
       "      <td>139</td>\n",
       "      <td>전반적으로 저번 업체에 비해 불편함. 특히 캐시백 사용하기가 제일 불편함. 이 어플...</td>\n",
       "    </tr>\n",
       "    <tr>\n",
       "      <th>124</th>\n",
       "      <td>2021-04-06</td>\n",
       "      <td>1</td>\n",
       "      <td>107</td>\n",
       "      <td>이전 동백전앱보다 직관성이나 사용의 편의성이 많이 떨어지는 것 같습니다. 첫 화면이...</td>\n",
       "    </tr>\n",
       "    <tr>\n",
       "      <th>15</th>\n",
       "      <td>2021-06-02</td>\n",
       "      <td>1</td>\n",
       "      <td>100</td>\n",
       "      <td>캐시백 세부사용내역 보여주세요. 기본에 기본도 안되어 있는듯요. 누가 도대체 개발하...</td>\n",
       "    </tr>\n",
       "    <tr>\n",
       "      <th>0</th>\n",
       "      <td>2021-06-25</td>\n",
       "      <td>1</td>\n",
       "      <td>91</td>\n",
       "      <td>캐시백 한도가 30만원 이면 충전한도도 30만원, 보유한도도 30만원으로 결정하면되...</td>\n",
       "    </tr>\n",
       "    <tr>\n",
       "      <th>119</th>\n",
       "      <td>2021-04-06</td>\n",
       "      <td>1</td>\n",
       "      <td>74</td>\n",
       "      <td>0점!! 앱 열자마자 카드신청 단계이고, (구 동백전카드 사용 여부와 관계없이,무조...</td>\n",
       "    </tr>\n",
       "    <tr>\n",
       "      <th>321</th>\n",
       "      <td>2021-04-03</td>\n",
       "      <td>2</td>\n",
       "      <td>70</td>\n",
       "      <td>선불카드도 차이코퍼레이션처럼 기명으로해서 삼성페이 등 간편결제 가능하도록 해주세요....</td>\n",
       "    </tr>\n",
       "    <tr>\n",
       "      <th>177</th>\n",
       "      <td>2021-04-05</td>\n",
       "      <td>1</td>\n",
       "      <td>68</td>\n",
       "      <td>카드 이관 신청을 하는 데 카드 재발급이 '필수'네요. 새로운 부산 동백전 선불카드...</td>\n",
       "    </tr>\n",
       "    <tr>\n",
       "      <th>12</th>\n",
       "      <td>2021-06-07</td>\n",
       "      <td>1</td>\n",
       "      <td>55</td>\n",
       "      <td>지난 잔액과 이번 잔액 비교가 되었으면 좋겠습니다. 최소한 어린애 가계부도 입출내역...</td>\n",
       "    </tr>\n",
       "    <tr>\n",
       "      <th>130</th>\n",
       "      <td>2021-04-06</td>\n",
       "      <td>1</td>\n",
       "      <td>49</td>\n",
       "      <td>마케팅 광고는 왜 넣었으며..왜 선불카드 의무 발급하도록 하는지요?? 공지도 카드 ...</td>\n",
       "    </tr>\n",
       "    <tr>\n",
       "      <th>167</th>\n",
       "      <td>2021-04-05</td>\n",
       "      <td>2</td>\n",
       "      <td>49</td>\n",
       "      <td>자주하는 질문에 기존 동백전카드 사용가능하다고 해서 앱깔고 잔액 이관신청하니 카드 ...</td>\n",
       "    </tr>\n",
       "  </tbody>\n",
       "</table>\n",
       "</div>"
      ],
      "text/plain": [
       "          DATE  STAR  LIKE                                             REVIEW\n",
       "11  2021-06-06     1   139  전반적으로 저번 업체에 비해 불편함. 특히 캐시백 사용하기가 제일 불편함. 이 어플...\n",
       "124 2021-04-06     1   107  이전 동백전앱보다 직관성이나 사용의 편의성이 많이 떨어지는 것 같습니다. 첫 화면이...\n",
       "15  2021-06-02     1   100  캐시백 세부사용내역 보여주세요. 기본에 기본도 안되어 있는듯요. 누가 도대체 개발하...\n",
       "0   2021-06-25     1    91  캐시백 한도가 30만원 이면 충전한도도 30만원, 보유한도도 30만원으로 결정하면되...\n",
       "119 2021-04-06     1    74  0점!! 앱 열자마자 카드신청 단계이고, (구 동백전카드 사용 여부와 관계없이,무조...\n",
       "321 2021-04-03     2    70  선불카드도 차이코퍼레이션처럼 기명으로해서 삼성페이 등 간편결제 가능하도록 해주세요....\n",
       "177 2021-04-05     1    68  카드 이관 신청을 하는 데 카드 재발급이 '필수'네요. 새로운 부산 동백전 선불카드...\n",
       "12  2021-06-07     1    55  지난 잔액과 이번 잔액 비교가 되었으면 좋겠습니다. 최소한 어린애 가계부도 입출내역...\n",
       "130 2021-04-06     1    49  마케팅 광고는 왜 넣었으며..왜 선불카드 의무 발급하도록 하는지요?? 공지도 카드 ...\n",
       "167 2021-04-05     2    49  자주하는 질문에 기존 동백전카드 사용가능하다고 해서 앱깔고 잔액 이관신청하니 카드 ..."
      ]
     },
     "execution_count": 14,
     "metadata": {},
     "output_type": "execute_result"
    }
   ],
   "source": [
    "df_like = df.sort_values(by=['LIKE'], ascending=False) # 추천수 기준으로 내림차순 정렬해서 살펴봄 (443개 행에 추천수 존재)\n",
    "\n",
    "df_like.head(10)"
   ]
  },
  {
   "cell_type": "markdown",
   "metadata": {},
   "source": [
    "========================================================================================================="
   ]
  },
  {
   "cell_type": "code",
   "execution_count": 15,
   "metadata": {},
   "outputs": [],
   "source": [
    "df = df[['DATE', 'STAR', 'REVIEW', 'LIKE']].sort_values(by=['DATE']) # 열 순서 조정, 날짜 기준으로 오름차순"
   ]
  },
  {
   "cell_type": "code",
   "execution_count": 16,
   "metadata": {
    "scrolled": true
   },
   "outputs": [
    {
     "data": {
      "text/html": [
       "<div>\n",
       "<style scoped>\n",
       "    .dataframe tbody tr th:only-of-type {\n",
       "        vertical-align: middle;\n",
       "    }\n",
       "\n",
       "    .dataframe tbody tr th {\n",
       "        vertical-align: top;\n",
       "    }\n",
       "\n",
       "    .dataframe thead th {\n",
       "        text-align: right;\n",
       "    }\n",
       "</style>\n",
       "<table border=\"1\" class=\"dataframe\">\n",
       "  <thead>\n",
       "    <tr style=\"text-align: right;\">\n",
       "      <th></th>\n",
       "      <th>DATE</th>\n",
       "      <th>STAR</th>\n",
       "      <th>REVIEW</th>\n",
       "      <th>LIKE</th>\n",
       "    </tr>\n",
       "  </thead>\n",
       "  <tbody>\n",
       "    <tr>\n",
       "      <th>831</th>\n",
       "      <td>2021-04-02</td>\n",
       "      <td>5</td>\n",
       "      <td>동백전 오픈!</td>\n",
       "      <td>1</td>\n",
       "    </tr>\n",
       "    <tr>\n",
       "      <th>606</th>\n",
       "      <td>2021-04-02</td>\n",
       "      <td>5</td>\n",
       "      <td>오! 드디어 새로운 동백전 완전 기대하고 있습니다! 좋은 서비스 부탁해용~~</td>\n",
       "      <td>7</td>\n",
       "    </tr>\n",
       "    <tr>\n",
       "      <th>660</th>\n",
       "      <td>2021-04-02</td>\n",
       "      <td>5</td>\n",
       "      <td>가지고 있던 동백전 잔액이 잘 옮겨질까요? 정말 이거되면 대박인데! 응원하는 주주 ...</td>\n",
       "      <td>4</td>\n",
       "    </tr>\n",
       "    <tr>\n",
       "      <th>734</th>\n",
       "      <td>2021-04-02</td>\n",
       "      <td>5</td>\n",
       "      <td>최고의 지역화폐</td>\n",
       "      <td>3</td>\n",
       "    </tr>\n",
       "    <tr>\n",
       "      <th>628</th>\n",
       "      <td>2021-04-02</td>\n",
       "      <td>5</td>\n",
       "      <td>새로워진 동백전 기대가 됩니다~</td>\n",
       "      <td>2</td>\n",
       "    </tr>\n",
       "    <tr>\n",
       "      <th>501</th>\n",
       "      <td>2021-04-02</td>\n",
       "      <td>5</td>\n",
       "      <td>이전과 차별화된 편의성과 서비스 기대합니다!</td>\n",
       "      <td>33</td>\n",
       "    </tr>\n",
       "    <tr>\n",
       "      <th>674</th>\n",
       "      <td>2021-04-02</td>\n",
       "      <td>5</td>\n",
       "      <td>새로운동백전 기대가 큽니다~!</td>\n",
       "      <td>1</td>\n",
       "    </tr>\n",
       "    <tr>\n",
       "      <th>846</th>\n",
       "      <td>2021-04-02</td>\n",
       "      <td>5</td>\n",
       "      <td>좋아요~</td>\n",
       "      <td>1</td>\n",
       "    </tr>\n",
       "    <tr>\n",
       "      <th>847</th>\n",
       "      <td>2021-04-02</td>\n",
       "      <td>5</td>\n",
       "      <td>굿</td>\n",
       "      <td>1</td>\n",
       "    </tr>\n",
       "    <tr>\n",
       "      <th>579</th>\n",
       "      <td>2021-04-02</td>\n",
       "      <td>5</td>\n",
       "      <td>인천에서 사용하는 앱과 비슷하겠죠?? 편리하다고 하던데 기대됩니다. 그 전앱이 너무...</td>\n",
       "      <td>10</td>\n",
       "    </tr>\n",
       "  </tbody>\n",
       "</table>\n",
       "</div>"
      ],
      "text/plain": [
       "          DATE  STAR                                             REVIEW  LIKE\n",
       "831 2021-04-02     5                                            동백전 오픈!     1\n",
       "606 2021-04-02     5         오! 드디어 새로운 동백전 완전 기대하고 있습니다! 좋은 서비스 부탁해용~~     7\n",
       "660 2021-04-02     5  가지고 있던 동백전 잔액이 잘 옮겨질까요? 정말 이거되면 대박인데! 응원하는 주주 ...     4\n",
       "734 2021-04-02     5                                           최고의 지역화폐     3\n",
       "628 2021-04-02     5                                  새로워진 동백전 기대가 됩니다~     2\n",
       "501 2021-04-02     5                           이전과 차별화된 편의성과 서비스 기대합니다!    33\n",
       "674 2021-04-02     5                                   새로운동백전 기대가 큽니다~!     1\n",
       "846 2021-04-02     5                                               좋아요~     1\n",
       "847 2021-04-02     5                                                  굿     1\n",
       "579 2021-04-02     5  인천에서 사용하는 앱과 비슷하겠죠?? 편리하다고 하던데 기대됩니다. 그 전앱이 너무...    10"
      ]
     },
     "execution_count": 16,
     "metadata": {},
     "output_type": "execute_result"
    }
   ],
   "source": [
    "df.head(10)"
   ]
  },
  {
   "cell_type": "code",
   "execution_count": 17,
   "metadata": {},
   "outputs": [
    {
     "data": {
      "text/html": [
       "<div>\n",
       "<style scoped>\n",
       "    .dataframe tbody tr th:only-of-type {\n",
       "        vertical-align: middle;\n",
       "    }\n",
       "\n",
       "    .dataframe tbody tr th {\n",
       "        vertical-align: top;\n",
       "    }\n",
       "\n",
       "    .dataframe thead th {\n",
       "        text-align: right;\n",
       "    }\n",
       "</style>\n",
       "<table border=\"1\" class=\"dataframe\">\n",
       "  <thead>\n",
       "    <tr style=\"text-align: right;\">\n",
       "      <th></th>\n",
       "      <th>DATE</th>\n",
       "      <th>STAR</th>\n",
       "      <th>REVIEW</th>\n",
       "      <th>LIKE</th>\n",
       "    </tr>\n",
       "  </thead>\n",
       "  <tbody>\n",
       "    <tr>\n",
       "      <th>608</th>\n",
       "      <td>2021-07-15</td>\n",
       "      <td>1</td>\n",
       "      <td>예전 이관되기전에 카드 사용되나요 ??</td>\n",
       "      <td>0</td>\n",
       "    </tr>\n",
       "    <tr>\n",
       "      <th>47</th>\n",
       "      <td>2021-07-15</td>\n",
       "      <td>3</td>\n",
       "      <td>케이뱅크도 지원 좀 해주세요. 카카오뱅크도 있는데 1금융권인 케이뱅크가 없는건 이해...</td>\n",
       "      <td>0</td>\n",
       "    </tr>\n",
       "    <tr>\n",
       "      <th>10</th>\n",
       "      <td>2021-07-18</td>\n",
       "      <td>1</td>\n",
       "      <td>21/07/18 설문조사하라해서 설문조사중 맨밑에 건의사항 적고 있는데 갑자기 휴대...</td>\n",
       "      <td>4</td>\n",
       "    </tr>\n",
       "    <tr>\n",
       "      <th>53</th>\n",
       "      <td>2021-07-19</td>\n",
       "      <td>1</td>\n",
       "      <td>ㅋㅋㅋ불편사항 백날 말하면 머하누 매크로가 답변하는데 ㅋㅋㅋ +네 매크로저격하는 리...</td>\n",
       "      <td>0</td>\n",
       "    </tr>\n",
       "    <tr>\n",
       "      <th>8</th>\n",
       "      <td>2021-07-19</td>\n",
       "      <td>2</td>\n",
       "      <td>연결계좌 여러개 할수 있도록 조치 부탁 드립니다 충전시 연결계좌가 하나라 사용이 너...</td>\n",
       "      <td>4</td>\n",
       "    </tr>\n",
       "    <tr>\n",
       "      <th>181</th>\n",
       "      <td>2021-07-20</td>\n",
       "      <td>2</td>\n",
       "      <td>가맹점찾비불편합니다</td>\n",
       "      <td>0</td>\n",
       "    </tr>\n",
       "    <tr>\n",
       "      <th>39</th>\n",
       "      <td>2021-07-21</td>\n",
       "      <td>5</td>\n",
       "      <td>다 좋긴한데 빠른시일내에 삼성페이 연동되길 바랍니다</td>\n",
       "      <td>0</td>\n",
       "    </tr>\n",
       "    <tr>\n",
       "      <th>442</th>\n",
       "      <td>2021-07-21</td>\n",
       "      <td>3</td>\n",
       "      <td>업데이트가안되요ㅜㅜ 설정에서 데이터 삭제했는데두요 ㅜㅜ</td>\n",
       "      <td>0</td>\n",
       "    </tr>\n",
       "    <tr>\n",
       "      <th>1</th>\n",
       "      <td>2021-07-22</td>\n",
       "      <td>1</td>\n",
       "      <td>로코 이벤트라고 3천원 주더니 사용조건이 충전금 전액사용 이후에 카드캐시네? 자동충...</td>\n",
       "      <td>1</td>\n",
       "    </tr>\n",
       "    <tr>\n",
       "      <th>808</th>\n",
       "      <td>2021-07-23</td>\n",
       "      <td>4</td>\n",
       "      <td>부산에서 사용해서는 정말 좋아요</td>\n",
       "      <td>0</td>\n",
       "    </tr>\n",
       "  </tbody>\n",
       "</table>\n",
       "</div>"
      ],
      "text/plain": [
       "          DATE  STAR                                             REVIEW  LIKE\n",
       "608 2021-07-15     1                              예전 이관되기전에 카드 사용되나요 ??     0\n",
       "47  2021-07-15     3  케이뱅크도 지원 좀 해주세요. 카카오뱅크도 있는데 1금융권인 케이뱅크가 없는건 이해...     0\n",
       "10  2021-07-18     1  21/07/18 설문조사하라해서 설문조사중 맨밑에 건의사항 적고 있는데 갑자기 휴대...     4\n",
       "53  2021-07-19     1  ㅋㅋㅋ불편사항 백날 말하면 머하누 매크로가 답변하는데 ㅋㅋㅋ +네 매크로저격하는 리...     0\n",
       "8   2021-07-19     2  연결계좌 여러개 할수 있도록 조치 부탁 드립니다 충전시 연결계좌가 하나라 사용이 너...     4\n",
       "181 2021-07-20     2                                         가맹점찾비불편합니다     0\n",
       "39  2021-07-21     5                       다 좋긴한데 빠른시일내에 삼성페이 연동되길 바랍니다     0\n",
       "442 2021-07-21     3                     업데이트가안되요ㅜㅜ 설정에서 데이터 삭제했는데두요 ㅜㅜ     0\n",
       "1   2021-07-22     1  로코 이벤트라고 3천원 주더니 사용조건이 충전금 전액사용 이후에 카드캐시네? 자동충...     1\n",
       "808 2021-07-23     4                                  부산에서 사용해서는 정말 좋아요     0"
      ]
     },
     "execution_count": 17,
     "metadata": {},
     "output_type": "execute_result"
    }
   ],
   "source": [
    "df.tail(10)"
   ]
  },
  {
   "cell_type": "code",
   "execution_count": 18,
   "metadata": {},
   "outputs": [
    {
     "name": "stdout",
     "output_type": "stream",
     "text": [
      "<class 'pandas.core.frame.DataFrame'>\n",
      "Int64Index: 860 entries, 831 to 808\n",
      "Data columns (total 4 columns):\n",
      " #   Column  Non-Null Count  Dtype         \n",
      "---  ------  --------------  -----         \n",
      " 0   DATE    860 non-null    datetime64[ns]\n",
      " 1   STAR    860 non-null    int64         \n",
      " 2   REVIEW  860 non-null    object        \n",
      " 3   LIKE    860 non-null    int64         \n",
      "dtypes: datetime64[ns](1), int64(2), object(1)\n",
      "memory usage: 33.6+ KB\n"
     ]
    }
   ],
   "source": [
    "df.info()"
   ]
  },
  {
   "cell_type": "code",
   "execution_count": 20,
   "metadata": {},
   "outputs": [],
   "source": [
    "df.to_csv('4월이후_googleplay_전처리완료.csv')"
   ]
  }
 ],
 "metadata": {
  "kernelspec": {
   "display_name": "Python 3",
   "language": "python",
   "name": "python3"
  },
  "language_info": {
   "codemirror_mode": {
    "name": "ipython",
    "version": 3
   },
   "file_extension": ".py",
   "mimetype": "text/x-python",
   "name": "python",
   "nbconvert_exporter": "python",
   "pygments_lexer": "ipython3",
   "version": "3.6.9"
  }
 },
 "nbformat": 4,
 "nbformat_minor": 4
}
