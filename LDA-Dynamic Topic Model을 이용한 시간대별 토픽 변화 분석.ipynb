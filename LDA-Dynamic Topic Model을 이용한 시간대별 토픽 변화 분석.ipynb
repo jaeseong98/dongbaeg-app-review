{
 "cells": [
  {
   "cell_type": "markdown",
   "id": "aaeb5e2d",
   "metadata": {},
   "source": [
    "## 1. 리뷰내용 불러오기"
   ]
  },
  {
   "cell_type": "code",
   "execution_count": 1,
   "id": "57fa5602",
   "metadata": {},
   "outputs": [],
   "source": [
    "import pandas as pd\n",
    "import numpy as np\n",
    "import pickle\n",
    "from pprint import pprint\n",
    "import re"
   ]
  },
  {
   "cell_type": "code",
   "execution_count": 2,
   "id": "d505cd41",
   "metadata": {},
   "outputs": [],
   "source": [
    "import matplotlib # 글자 깨짐 방지 폰트설정\n",
    "from matplotlib import font_manager, rc\n",
    "import platform\n",
    "\n",
    "if platform.system() == 'Windows':\n",
    "# 윈도우인 경우\n",
    "    font_name = font_manager.FontProperties(fname=\"c:/Windows/Fonts/malgun.ttf\").get_name()\n",
    "    rc('font', family=font_name)\n",
    "else:    \n",
    "# Mac 인 경우\n",
    "    rc('font', family='AppleGothic')\n",
    "    \n",
    "matplotlib.rcParams['axes.unicode_minus'] = False   \n",
    "#그래프에서 마이너스 기호가 표시되도록 하는 설정입니다."
   ]
  },
  {
   "cell_type": "code",
   "execution_count": 3,
   "id": "30b15543",
   "metadata": {},
   "outputs": [
    {
     "name": "stdout",
     "output_type": "stream",
     "text": [
      "         DATE  STAR                                             REVIEW  LIKE\n",
      "0  2020-01-07     1          오류 자체 오류 이용 자수 결제 툭하면 점검 충전 체크카드 출금 충전 금액     0\n",
      "1  2020-01-07     5                          국굿 아이폰 바코드 큐알 코드 결제 가능 최고     0\n",
      "2  2020-01-07     3                           현상 사용 오늘 업데이트 접속 화면 바탕화면     0\n",
      "3  2020-01-07     2        설치 아이폰 설치 아버지 설치 갤럭시 노트 부산 지역화폐 설치 사용 버전 설치     0\n",
      "4  2020-01-07     4  개선 사항 요청 본인 인증 수단 공인 인증서 추가 어머니 발급 어머니 핸드폰 명의 ...     0\n",
      "<class 'pandas.core.frame.DataFrame'>\n",
      "RangeIndex: 2266 entries, 0 to 2265\n",
      "Data columns (total 4 columns):\n",
      " #   Column  Non-Null Count  Dtype \n",
      "---  ------  --------------  ----- \n",
      " 0   DATE    2266 non-null   object\n",
      " 1   STAR    2266 non-null   int64 \n",
      " 2   REVIEW  2266 non-null   object\n",
      " 3   LIKE    2266 non-null   int64 \n",
      "dtypes: int64(2), object(2)\n",
      "memory usage: 70.9+ KB\n",
      "None\n"
     ]
    }
   ],
   "source": [
    "with open(\"D:/cleaned_data.pk\", \"rb\") as f:\n",
    "    data = pickle.load(f)\n",
    "\n",
    "data.reset_index(drop=True, inplace=True)\n",
    "print(data.head())\n",
    "print(data.info())"
   ]
  },
  {
   "cell_type": "markdown",
   "id": "8ff269d4",
   "metadata": {},
   "source": [
    "## 2. 분석시기 설정하기"
   ]
  },
  {
   "cell_type": "code",
   "execution_count": 4,
   "id": "44f2992e",
   "metadata": {},
   "outputs": [],
   "source": [
    "##Date column을 pandas.Datetime으로 변환\n",
    "data['DATE'] = pd.to_datetime(data['DATE'])\n",
    "# Date column을 index로 설정\n",
    "data = data.set_index(\"DATE\")"
   ]
  },
  {
   "cell_type": "code",
   "execution_count": 5,
   "id": "670348c5",
   "metadata": {},
   "outputs": [],
   "source": [
    "## 4월을 기준으로 나누기\n",
    "before_4 = data['2019-12-27' : '2021-04-04']\n",
    "after_4 = data['2021-04-05': '2021-7-23']"
   ]
  },
  {
   "cell_type": "code",
   "execution_count": 6,
   "id": "25def421",
   "metadata": {},
   "outputs": [
    {
     "name": "stdout",
     "output_type": "stream",
     "text": [
      "<class 'pandas.core.frame.DataFrame'>\n",
      "DatetimeIndex: 1333 entries, 2020-01-07 to 2021-04-04\n",
      "Data columns (total 3 columns):\n",
      " #   Column  Non-Null Count  Dtype \n",
      "---  ------  --------------  ----- \n",
      " 0   STAR    1333 non-null   int64 \n",
      " 1   REVIEW  1333 non-null   object\n",
      " 2   LIKE    1333 non-null   int64 \n",
      "dtypes: int64(2), object(1)\n",
      "memory usage: 41.7+ KB\n",
      "None\n",
      "<class 'pandas.core.frame.DataFrame'>\n",
      "DatetimeIndex: 933 entries, 2021-04-05 to 2021-07-23\n",
      "Data columns (total 3 columns):\n",
      " #   Column  Non-Null Count  Dtype \n",
      "---  ------  --------------  ----- \n",
      " 0   STAR    933 non-null    int64 \n",
      " 1   REVIEW  933 non-null    object\n",
      " 2   LIKE    933 non-null    int64 \n",
      "dtypes: int64(2), object(1)\n",
      "memory usage: 29.2+ KB\n",
      "None\n"
     ]
    }
   ],
   "source": [
    "# 확인해보기\n",
    "print(before_4.info())\n",
    "print(after_4.info())"
   ]
  },
  {
   "cell_type": "markdown",
   "id": "0275f531",
   "metadata": {},
   "source": [
    "### 시기별로 나눠서 데이터 저장하기"
   ]
  },
  {
   "cell_type": "code",
   "execution_count": 7,
   "id": "d82506c4",
   "metadata": {},
   "outputs": [],
   "source": [
    "# time_slice별로 데이터 갯수를 저장할 리스트 생성\n",
    "time_slice = []\n",
    "## 나눈 시점부터 리뷰 가져오기\n",
    "slice0 = list(before_4['REVIEW'])\n",
    "slice1 = list(after_4['REVIEW'])\n",
    "\n",
    "# LDA 분석할 때와 비슷하게 모든 분석 대상 텍스트를 담는 리스트 생성\n",
    "tokenized_data = [msg.split() for msg in (slice0 + slice1)]\n",
    "\n",
    "# 각 slice에 들어 있는 갯수를 원소로 갖는 리스트 생성\n",
    "time_slice.append(len(slice0))\n",
    "time_slice.append(len(slice1))\n"
   ]
  },
  {
   "cell_type": "code",
   "execution_count": 8,
   "id": "7a18998c",
   "metadata": {
    "scrolled": true
   },
   "outputs": [
    {
     "name": "stdout",
     "output_type": "stream",
     "text": [
      "2266\n",
      "[1333, 933]\n",
      "['오류 자체 오류 이용 자수 결제 툭하면 점검 충전 체크카드 출금 충전 금액', '국굿 아이폰 바코드 큐알 코드 결제 가능 최고', '현상 사용 오늘 업데이트 접속 화면 바탕화면', '설치 아이폰 설치 아버지 설치 갤럭시 노트 부산 지역화폐 설치 사용 버전 설치', '개선 사항 요청 본인 인증 수단 공인 인증서 추가 어머니 발급 어머니 핸드폰 명의 사용 어머니 발급']\n",
      "['삼페 선불카드 선불카드', '그동안 사용 업체 지금 설치 인터페이스 이전 업체 사용성 이유 도대체', '다시 신규 카드 발급 지금 현재 카드 다시 카드 발급 사용 발급 신청 정상 설치 화면 인터페이스 이전 업체 이전 업체 인터페이스 화면 현찰 포인트 지금 화면 사용 가능 금액 표기 금액 포인트 포함 금액 사용 현찰 금액 표기 마지막 현재 카드 카드 사용 카드 현재 카드 사용 마지막 고객 센터 통화 계속 전화기 잡고 통화 인원 충당 방법', '사용자 편의 고려', '알바 달러 꼬름 선불카드 강매 전화통화 포인트 다시 운영']\n",
      "[['오류',\n",
      "  '자체',\n",
      "  '오류',\n",
      "  '이용',\n",
      "  '자수',\n",
      "  '결제',\n",
      "  '툭하면',\n",
      "  '점검',\n",
      "  '충전',\n",
      "  '체크카드',\n",
      "  '출금',\n",
      "  '충전',\n",
      "  '금액'],\n",
      " ['국굿', '아이폰', '바코드', '큐알', '코드', '결제', '가능', '최고'],\n",
      " ['현상', '사용', '오늘', '업데이트', '접속', '화면', '바탕화면'],\n",
      " ['설치',\n",
      "  '아이폰',\n",
      "  '설치',\n",
      "  '아버지',\n",
      "  '설치',\n",
      "  '갤럭시',\n",
      "  '노트',\n",
      "  '부산',\n",
      "  '지역화폐',\n",
      "  '설치',\n",
      "  '사용',\n",
      "  '버전',\n",
      "  '설치'],\n",
      " ['개선',\n",
      "  '사항',\n",
      "  '요청',\n",
      "  '본인',\n",
      "  '인증',\n",
      "  '수단',\n",
      "  '공인',\n",
      "  '인증서',\n",
      "  '추가',\n",
      "  '어머니',\n",
      "  '발급',\n",
      "  '어머니',\n",
      "  '핸드폰',\n",
      "  '명의',\n",
      "  '사용',\n",
      "  '어머니',\n",
      "  '발급']]\n"
     ]
    }
   ],
   "source": [
    "print(len(tokenized_data))\n",
    "print(time_slice)\n",
    "print(slice0[:5])\n",
    "print(slice1[:5])\n",
    "pprint(tokenized_data[:5])"
   ]
  },
  {
   "cell_type": "markdown",
   "id": "5bdd7b5f",
   "metadata": {},
   "source": [
    "## 3.Dynamic Topic Model 돌리기"
   ]
  },
  {
   "cell_type": "code",
   "execution_count": 9,
   "id": "9f7f5442",
   "metadata": {},
   "outputs": [
    {
     "name": "stderr",
     "output_type": "stream",
     "text": [
      "C:\\ProgramData\\Anaconda3\\envs\\textmining\\lib\\site-packages\\gensim\\similarities\\__init__.py:15: UserWarning: The gensim.similarities.levenshtein submodule is disabled, because the optional Levenshtein package <https://pypi.org/project/python-Levenshtein/> is unavailable. Install Levenhstein (e.g. `pip install python-Levenshtein`) to suppress this warning.\n",
      "  warnings.warn(msg)\n"
     ]
    }
   ],
   "source": [
    "from gensim.models import ldaseqmodel\n",
    "from gensim.models import CoherenceModel\n",
    "from gensim.corpora import Dictionary, bleicorpus\n",
    "from gensim.matutils import hellinger\n",
    "from gensim import corpora\n",
    "from tqdm import tqdm_notebook\n",
    "from time import time\n",
    "\n",
    "import os"
   ]
  },
  {
   "cell_type": "code",
   "execution_count": 11,
   "id": "f26cc160",
   "metadata": {},
   "outputs": [
    {
     "name": "stdout",
     "output_type": "stream",
     "text": [
      "Dictionary(2050 unique tokens: ['결제', '금액', '오류', '이용', '자수']...)\n"
     ]
    }
   ],
   "source": [
    "from gensim.corpora import Dictionary, bleicorpus\n",
    "\n",
    "# OKT dictionary 저장.\n",
    "if not os.path.exists('last_dong(okt)_dict'):\n",
    "    dictionary = corpora.Dictionary(tokenized_data)\n",
    "    dictionary.save('last_dong(okt)_dict')\n",
    "    print(dictionary)\n",
    "else:\n",
    "    dictionary = Dictionary.load('last_dong(okt)_dict')\n",
    "\n",
    "# okt Corpus 저장.\n",
    "if not os.path.exists('last_dong(okt)_corpus'):\n",
    "    corpus = [dictionary.doc2bow(doc) for doc in tokenized_data]\n",
    "    corpora.BleiCorpus.serialize('last_dong(okt)_corpus', corpus)\n",
    "else:\n",
    "    corpus = bleicorpus.BleiCorpus('last_dong(okt)_corpus')"
   ]
  },
  {
   "cell_type": "code",
   "execution_count": 16,
   "id": "9e3e6d0e",
   "metadata": {},
   "outputs": [
    {
     "ename": "TypeError",
     "evalue": "expected str, bytes or os.PathLike object, not list",
     "output_type": "error",
     "traceback": [
      "\u001b[1;31m---------------------------------------------------------------------------\u001b[0m",
      "\u001b[1;31mTypeError\u001b[0m                                 Traceback (most recent call last)",
      "\u001b[1;32m<ipython-input-16-ce91f1511172>\u001b[0m in \u001b[0;36m<module>\u001b[1;34m\u001b[0m\n\u001b[0;32m      7\u001b[0m \u001b[1;31m# corpus 만들기\u001b[0m\u001b[1;33m\u001b[0m\u001b[1;33m\u001b[0m\u001b[1;33m\u001b[0m\u001b[0m\n\u001b[0;32m      8\u001b[0m \u001b[0mcorpus\u001b[0m \u001b[1;33m=\u001b[0m \u001b[1;33m[\u001b[0m\u001b[0mdictionary\u001b[0m\u001b[1;33m.\u001b[0m\u001b[0mdoc2bow\u001b[0m\u001b[1;33m(\u001b[0m\u001b[0mdoc\u001b[0m\u001b[1;33m)\u001b[0m \u001b[1;32mfor\u001b[0m \u001b[0mdoc\u001b[0m \u001b[1;32min\u001b[0m \u001b[0mtokenized_data\u001b[0m\u001b[1;33m]\u001b[0m\u001b[1;33m\u001b[0m\u001b[1;33m\u001b[0m\u001b[0m\n\u001b[1;32m----> 9\u001b[1;33m \u001b[0mcorpora\u001b[0m\u001b[1;33m.\u001b[0m\u001b[0mBleiCorpus\u001b[0m\u001b[1;33m(\u001b[0m\u001b[0mcorpus\u001b[0m\u001b[1;33m)\u001b[0m\u001b[1;33m\u001b[0m\u001b[1;33m\u001b[0m\u001b[0m\n\u001b[0m",
      "\u001b[1;32mC:\\ProgramData\\Anaconda3\\envs\\textmining\\lib\\site-packages\\gensim\\corpora\\bleicorpus.py\u001b[0m in \u001b[0;36m__init__\u001b[1;34m(self, fname, fname_vocab)\u001b[0m\n\u001b[0;32m     60\u001b[0m \u001b[1;33m\u001b[0m\u001b[0m\n\u001b[0;32m     61\u001b[0m         \u001b[1;32mif\u001b[0m \u001b[0mfname_vocab\u001b[0m \u001b[1;32mis\u001b[0m \u001b[1;32mNone\u001b[0m\u001b[1;33m:\u001b[0m\u001b[1;33m\u001b[0m\u001b[1;33m\u001b[0m\u001b[0m\n\u001b[1;32m---> 62\u001b[1;33m             \u001b[0mfname_base\u001b[0m\u001b[1;33m,\u001b[0m \u001b[0m_\u001b[0m \u001b[1;33m=\u001b[0m \u001b[0mpath\u001b[0m\u001b[1;33m.\u001b[0m\u001b[0msplitext\u001b[0m\u001b[1;33m(\u001b[0m\u001b[0mfname\u001b[0m\u001b[1;33m)\u001b[0m\u001b[1;33m\u001b[0m\u001b[1;33m\u001b[0m\u001b[0m\n\u001b[0m\u001b[0;32m     63\u001b[0m             \u001b[0mfname_dir\u001b[0m \u001b[1;33m=\u001b[0m \u001b[0mpath\u001b[0m\u001b[1;33m.\u001b[0m\u001b[0mdirname\u001b[0m\u001b[1;33m(\u001b[0m\u001b[0mfname\u001b[0m\u001b[1;33m)\u001b[0m\u001b[1;33m\u001b[0m\u001b[1;33m\u001b[0m\u001b[0m\n\u001b[0;32m     64\u001b[0m             for fname_vocab in [\n",
      "\u001b[1;32mC:\\ProgramData\\Anaconda3\\envs\\textmining\\lib\\ntpath.py\u001b[0m in \u001b[0;36msplitext\u001b[1;34m(p)\u001b[0m\n\u001b[0;32m    222\u001b[0m \u001b[1;33m\u001b[0m\u001b[0m\n\u001b[0;32m    223\u001b[0m \u001b[1;32mdef\u001b[0m \u001b[0msplitext\u001b[0m\u001b[1;33m(\u001b[0m\u001b[0mp\u001b[0m\u001b[1;33m)\u001b[0m\u001b[1;33m:\u001b[0m\u001b[1;33m\u001b[0m\u001b[1;33m\u001b[0m\u001b[0m\n\u001b[1;32m--> 224\u001b[1;33m     \u001b[0mp\u001b[0m \u001b[1;33m=\u001b[0m \u001b[0mos\u001b[0m\u001b[1;33m.\u001b[0m\u001b[0mfspath\u001b[0m\u001b[1;33m(\u001b[0m\u001b[0mp\u001b[0m\u001b[1;33m)\u001b[0m\u001b[1;33m\u001b[0m\u001b[1;33m\u001b[0m\u001b[0m\n\u001b[0m\u001b[0;32m    225\u001b[0m     \u001b[1;32mif\u001b[0m \u001b[0misinstance\u001b[0m\u001b[1;33m(\u001b[0m\u001b[0mp\u001b[0m\u001b[1;33m,\u001b[0m \u001b[0mbytes\u001b[0m\u001b[1;33m)\u001b[0m\u001b[1;33m:\u001b[0m\u001b[1;33m\u001b[0m\u001b[1;33m\u001b[0m\u001b[0m\n\u001b[0;32m    226\u001b[0m         \u001b[1;32mreturn\u001b[0m \u001b[0mgenericpath\u001b[0m\u001b[1;33m.\u001b[0m\u001b[0m_splitext\u001b[0m\u001b[1;33m(\u001b[0m\u001b[0mp\u001b[0m\u001b[1;33m,\u001b[0m \u001b[1;34mb'\\\\'\u001b[0m\u001b[1;33m,\u001b[0m \u001b[1;34mb'/'\u001b[0m\u001b[1;33m,\u001b[0m \u001b[1;34mb'.'\u001b[0m\u001b[1;33m)\u001b[0m\u001b[1;33m\u001b[0m\u001b[1;33m\u001b[0m\u001b[0m\n",
      "\u001b[1;31mTypeError\u001b[0m: expected str, bytes or os.PathLike object, not list"
     ]
    }
   ],
   "source": [
    "from gensim.corpora import Dictionary, bleicorpus\n",
    "from gensim import corpora\n",
    "\n",
    "# dictionary 만들기\n",
    "dictionary = corpora.Dictionary(tokenized_data)\n",
    "\n",
    "# corpus 만들기\n",
    "corpus = [dictionary.doc2bow(doc) for doc in tokenized_data]\n",
    "corpora.BleiCorpus.serialize(corpus)"
   ]
  },
  {
   "cell_type": "markdown",
   "id": "73005fe6",
   "metadata": {},
   "source": [
    "### RUN DTM model"
   ]
  },
  {
   "cell_type": "code",
   "execution_count": 12,
   "id": "780eb1d6",
   "metadata": {},
   "outputs": [
    {
     "name": "stderr",
     "output_type": "stream",
     "text": [
      "C:\\ProgramData\\Anaconda3\\envs\\textmining\\lib\\site-packages\\gensim\\models\\ldaseqmodel.py:297: RuntimeWarning: divide by zero encountered in double_scalars\n",
      "  convergence = np.fabs((bound - old_bound) / old_bound)\n"
     ]
    }
   ],
   "source": [
    "from gensim.models import ldaseqmodel\n",
    "\n",
    "NUM_TOPICS = 8\n",
    "\n",
    "if not os.path.exists('last_dong(okt)_model'):\n",
    "    dtm_model = ldaseqmodel.LdaSeqModel(corpus=corpus, id2word=dictionary, time_slice=time_slice, num_topics=NUM_TOPICS, passes=10)\n",
    "    dtm_model.save('last_dong(okt)_model')\n",
    "else:\n",
    "    dtm_model = ldaseqmodel.LdaSeqModel.load('last_dong(okt)_model')"
   ]
  },
  {
   "cell_type": "code",
   "execution_count": 15,
   "id": "c373df72",
   "metadata": {
    "scrolled": false
   },
   "outputs": [
    {
     "name": "stdout",
     "output_type": "stream",
     "text": [
      "[[('최고', 0.07062006250042156),\n",
      "  ('포인트', 0.053411398187502734),\n",
      "  ('적립', 0.05200975139860206),\n",
      "  ('프로', 0.05162119458100169),\n",
      "  ('답변', 0.04570841865409775),\n",
      "  ('다운', 0.04057125755208223),\n",
      "  ('회사', 0.025873993886910654),\n",
      "  ('현재', 0.025282645222782948),\n",
      "  ('에러', 0.02320360521152509),\n",
      "  ('문의', 0.022523918860693073),\n",
      "  ('사용', 0.0215423669056965),\n",
      "  ('예전', 0.01984606429409958),\n",
      "  ('버전', 0.019496561255528927),\n",
      "  ('가게', 0.017637146243612914),\n",
      "  ('지금', 0.015636670151540997),\n",
      "  ('이제', 0.015298179487032446),\n",
      "  ('감사', 0.015063061645856742),\n",
      "  ('대기', 0.014875866807749247),\n",
      "  ('세상', 0.014389541174000113),\n",
      "  ('대박', 0.01387743004762505)],\n",
      " [('가맹', 0.11205637767847315),\n",
      "  ('결제', 0.05886482385845901),\n",
      "  ('확인', 0.05203310367948237),\n",
      "  ('알림', 0.049540866964165695),\n",
      "  ('잔액', 0.043618275974409745),\n",
      "  ('찾기', 0.04233699569931909),\n",
      "  ('검색', 0.0378599048522072),\n",
      "  ('개선', 0.02725647591433964),\n",
      "  ('기능', 0.024282020391938025),\n",
      "  ('충전', 0.02197033986341508),\n",
      "  ('화면', 0.020527682200989765),\n",
      "  ('설정', 0.01937788165861298),\n",
      "  ('사용', 0.018087251854541114),\n",
      "  ('아이폰', 0.016310836824283408),\n",
      "  ('제발', 0.013407858354497568),\n",
      "  ('메뉴', 0.012954560181539095),\n",
      "  ('부분', 0.012406193395252861),\n",
      "  ('카드', 0.012140649077606853),\n",
      "  ('알람', 0.011881361740544017),\n",
      "  ('조회', 0.011137361834728217)],\n",
      " [('카드', 0.20755580956045394),\n",
      "  ('발급', 0.10116974612705028),\n",
      "  ('기존', 0.06981979629428169),\n",
      "  ('신청', 0.03826362427688667),\n",
      "  ('사용', 0.03498957824698463),\n",
      "  ('신규', 0.03308866621720359),\n",
      "  ('선불카드', 0.018760258850626172),\n",
      "  ('무조건', 0.0151459072015973),\n",
      "  ('취소', 0.013539268839719388),\n",
      "  ('재발', 0.011546031199129276),\n",
      "  ('연동', 0.011500360512370186),\n",
      "  ('강제', 0.011359754581011563),\n",
      "  ('등록', 0.01068192296433322),\n",
      "  ('부산시', 0.008934891009430583),\n",
      "  ('시스템', 0.008461986181229406),\n",
      "  ('계속', 0.008403290729662814),\n",
      "  ('설명', 0.00808854269951808),\n",
      "  ('낭비', 0.00799188682645274),\n",
      "  ('쓰레기', 0.007933083141341678),\n",
      "  ('안내', 0.007700075292967411)],\n",
      " [('카드', 0.08680364723349343),\n",
      "  ('페이', 0.054930934159154),\n",
      "  ('등록', 0.052247806295180305),\n",
      "  ('혜택', 0.03421157291728044),\n",
      "  ('체크카드', 0.033842885610400525),\n",
      "  ('사용', 0.03232674264754175),\n",
      "  ('삼성', 0.02878385591795786),\n",
      "  ('실물', 0.020602784453310583),\n",
      "  ('선불카드', 0.019879807866361215),\n",
      "  ('기존', 0.015360129763580978),\n",
      "  ('그냥', 0.014767082099656121),\n",
      "  ('결재', 0.014357441611116366),\n",
      "  ('발급', 0.010858664178816492),\n",
      "  ('이벤트', 0.010833884909388929),\n",
      "  ('소득공제', 0.010655058067966572),\n",
      "  ('교통카드', 0.010145247488105764),\n",
      "  ('동의', 0.009752621482757988),\n",
      "  ('입력', 0.009739014072749741),\n",
      "  ('정보', 0.009351598104631006),\n",
      "  ('신청', 0.009059866016111535)],\n",
      " [('오류', 0.04671879723063112),\n",
      "  ('접속', 0.041795583798141946),\n",
      "  ('인증', 0.0346345163586488),\n",
      "  ('실행', 0.03221799222335726),\n",
      "  ('연결', 0.030603231897875824),\n",
      "  ('네트워크', 0.02774968606663024),\n",
      "  ('충전', 0.026832876228462244),\n",
      "  ('다시', 0.02564248801880364),\n",
      "  ('계좌', 0.024370127794495523),\n",
      "  ('계속', 0.024354228040320957),\n",
      "  ('번호', 0.020163419345255923),\n",
      "  ('고객', 0.017863218396224304),\n",
      "  ('확인', 0.017152411885511656),\n",
      "  ('센터', 0.016096884931048872),\n",
      "  ('문제', 0.014667181793168699),\n",
      "  ('와이파이', 0.014042584579122535),\n",
      "  ('사용', 0.013601575095429103),\n",
      "  ('데이터', 0.012112872526181337),\n",
      "  ('상태', 0.01189556362908981),\n",
      "  ('은행', 0.011121731794659181)],\n",
      " [('결제', 0.07960457765215713),\n",
      "  ('카드', 0.05953007429046597),\n",
      "  ('기능', 0.030959691485973734),\n",
      "  ('충전', 0.024963592237200648),\n",
      "  ('부산', 0.02202628434078477),\n",
      "  ('사용자', 0.018250331887826834),\n",
      "  ('지역', 0.01787578402023525),\n",
      "  ('서비스', 0.01565624588286651),\n",
      "  ('업체', 0.014734352264143893),\n",
      "  ('경제', 0.013744674933084325),\n",
      "  ('한도', 0.013054199254302136),\n",
      "  ('바코드', 0.012349733629732918),\n",
      "  ('운영', 0.012266739971043996),\n",
      "  ('이전', 0.011210558986954298),\n",
      "  ('부산시', 0.010029508858197558),\n",
      "  ('저번', 0.00810894466965195),\n",
      "  ('코드', 0.008013128267732511),\n",
      "  ('편의', 0.007956374999780991),\n",
      "  ('미리', 0.007790820698723551),\n",
      "  ('기존', 0.0073585141817323636)],\n",
      " [('불편', 0.043651038842204136),\n",
      "  ('최악', 0.0418906095252836),\n",
      "  ('할인', 0.031295275938733345),\n",
      "  ('도움', 0.02905230876883173),\n",
      "  ('이전', 0.028917894657733437),\n",
      "  ('리뷰', 0.028503159863025082),\n",
      "  ('사용', 0.02668710765639741),\n",
      "  ('사람', 0.026671800237083043),\n",
      "  ('사항', 0.023066631410682405),\n",
      "  ('하루', 0.02177770561092601),\n",
      "  ('생각', 0.021263953921296038),\n",
      "  ('직관', 0.020040778652322983),\n",
      "  ('종일', 0.018561968284964325),\n",
      "  ('자주', 0.01693648635951483),\n",
      "  ('디자인', 0.01678134959999937),\n",
      "  ('이름', 0.015137230458039243),\n",
      "  ('불만', 0.014944911926635945),\n",
      "  ('이해', 0.0140368859199479),\n",
      "  ('일부러', 0.01270544370340239),\n",
      "  ('정신', 0.011744798577829079)],\n",
      " [('사용', 0.1886896180446772),\n",
      "  ('금액', 0.08131991932644447),\n",
      "  ('캐시', 0.07705054825149772),\n",
      "  ('충전', 0.057553645958800886),\n",
      "  ('확인', 0.019891408265803927),\n",
      "  ('이전', 0.01903548053003944),\n",
      "  ('이용', 0.017535542576040692),\n",
      "  ('잔액', 0.016702529652592595),\n",
      "  ('환불', 0.016315580833219143),\n",
      "  ('포인트', 0.015005126975462706),\n",
      "  ('캐쉬백', 0.01433178162760491),\n",
      "  ('적립', 0.01428199277126919),\n",
      "  ('가능', 0.012697474833246887),\n",
      "  ('표시', 0.010683588619804429),\n",
      "  ('개선', 0.010429005380098657),\n",
      "  ('합계', 0.009723747455532448),\n",
      "  ('예전', 0.00964443683917796),\n",
      "  ('설정', 0.009114099720941057),\n",
      "  ('혜택', 0.008976795583494433),\n",
      "  ('결제', 0.008477547225364456)],\n",
      " [('업데이트', 0.14915480414545845),\n",
      "  ('부산', 0.09423892437259551),\n",
      "  ('설치', 0.08861101364145552),\n",
      "  ('시민', 0.03485138900756348),\n",
      "  ('다시', 0.033860236631401655),\n",
      "  ('사용', 0.024444852991294095),\n",
      "  ('삭제', 0.023900062574378007),\n",
      "  ('계속', 0.021026460583009204),\n",
      "  ('쓰레기', 0.019805049962138086),\n",
      "  ('운영', 0.01734720311004037),\n",
      "  ('지역화폐', 0.015987481807535703),\n",
      "  ('기대', 0.0157768715778107),\n",
      "  ('업뎃', 0.012791452907607012),\n",
      "  ('시청', 0.012131666647969074),\n",
      "  ('짜증', 0.012089043353679645),\n",
      "  ('개선', 0.011494309566613592),\n",
      "  ('문제', 0.011347246539845516),\n",
      "  ('화면', 0.010855293790005527),\n",
      "  ('수준', 0.010801207784296912),\n",
      "  ('선정', 0.009585985630675498)]]\n"
     ]
    }
   ],
   "source": [
    "# 고정된 시간 내에서 전체 토픽보기\n",
    "pprint(dtm_model.print_topics(time=0, top_terms=20)) "
   ]
  },
  {
   "cell_type": "markdown",
   "id": "1a091e6c",
   "metadata": {},
   "source": [
    "## 4. coherence score 계산 함수 만들기"
   ]
  },
  {
   "cell_type": "markdown",
   "id": "8543b605",
   "metadata": {},
   "source": [
    "### topic 개수 지정하기"
   ]
  },
  {
   "cell_type": "code",
   "execution_count": 12,
   "id": "7149380f",
   "metadata": {},
   "outputs": [],
   "source": [
    "start=4\n",
    "end=15\n",
    "step=1\n",
    "times=[0,1]"
   ]
  },
  {
   "cell_type": "markdown",
   "id": "7794b176",
   "metadata": {},
   "source": [
    "### DTM과 coherence score 계산하는 함수"
   ]
  },
  {
   "cell_type": "code",
   "execution_count": 13,
   "id": "5dc4346b",
   "metadata": {},
   "outputs": [],
   "source": [
    "# 함수 작성\n",
    "def compute_coherence(dictionary, corpus, texts, times, start, end, step):\n",
    "    coherence_score_list = []\n",
    "    model_list = []\n",
    "    for num_topics in tqdm_notebook(range(start, end, step)):\n",
    "        ###################\n",
    "        start_dtm = time()\n",
    "        \n",
    "        dtm_name = \"donglast_dtm_model_\" + str(num_topics)\n",
    "        # 하나씩 계산될 때마다 파일로 저장\n",
    "        if os.path.exists(dtm_name):\n",
    "            dtm_model = ldaseqmodel.LdaSeqModel.load(dtm_name)\n",
    "        else:\n",
    "            dtm_model = ldaseqmodel.LdaSeqModel(corpus=corpus, id2word=dictionary,\n",
    "                                                time_slice=time_slice, num_topics=num_topics, passes=10) # 여기 passes 값 주의\n",
    "            dtm_model.save(dtm_name)\n",
    "            \n",
    "        end_dtm = time()\n",
    "        ###################\n",
    "        print(\"Elapsed Time for DTM in %d topics : %.2f sec.\" % (num_topics, (end_dtm - start_dtm)))\n",
    "        topic_cs_list = []\n",
    "        for time_slot in times:\n",
    "            topics_dtm = dtm_model.dtm_coherence(time=time_slot)        \n",
    "            cs = CoherenceModel(topics=topics_dtm, texts=texts,\n",
    "                                dictionary=dictionary, coherence='c_v')\n",
    "            topic_cs_list.append(cs.get_coherence())\n",
    "            \n",
    "        model_list.append(dtm_model)\n",
    "        coherence_score_list.append(topic_cs_list)\n",
    "        \n",
    "    return model_list, coherence_score_list"
   ]
  },
  {
   "cell_type": "code",
   "execution_count": 14,
   "id": "d0809c5f",
   "metadata": {},
   "outputs": [
    {
     "name": "stderr",
     "output_type": "stream",
     "text": [
      "C:\\ProgramData\\Anaconda3\\envs\\textmining\\lib\\site-packages\\ipykernel_launcher.py:5: TqdmDeprecationWarning: This function will be removed in tqdm==5.0.0\n",
      "Please use `tqdm.notebook.tqdm` instead of `tqdm.tqdm_notebook`\n",
      "  \"\"\"\n"
     ]
    },
    {
     "data": {
      "application/vnd.jupyter.widget-view+json": {
       "model_id": "23ab2e97f8bc49c387cb91d90f035d3a",
       "version_major": 2,
       "version_minor": 0
      },
      "text/plain": [
       "  0%|          | 0/11 [00:00<?, ?it/s]"
      ]
     },
     "metadata": {},
     "output_type": "display_data"
    },
    {
     "name": "stdout",
     "output_type": "stream",
     "text": [
      "Elapsed Time for DTM in 4 topics : 0.04 sec.\n",
      "Elapsed Time for DTM in 5 topics : 0.15 sec.\n",
      "Elapsed Time for DTM in 6 topics : 0.13 sec.\n",
      "Elapsed Time for DTM in 7 topics : 0.14 sec.\n",
      "Elapsed Time for DTM in 8 topics : 0.43 sec.\n",
      "Elapsed Time for DTM in 9 topics : 0.16 sec.\n",
      "Elapsed Time for DTM in 10 topics : 0.37 sec.\n"
     ]
    },
    {
     "name": "stderr",
     "output_type": "stream",
     "text": [
      "C:\\ProgramData\\Anaconda3\\envs\\textmining\\lib\\site-packages\\gensim\\models\\ldaseqmodel.py:297: RuntimeWarning: divide by zero encountered in double_scalars\n",
      "  convergence = np.fabs((bound - old_bound) / old_bound)\n"
     ]
    },
    {
     "name": "stdout",
     "output_type": "stream",
     "text": [
      "Elapsed Time for DTM in 11 topics : 774.42 sec.\n"
     ]
    },
    {
     "name": "stderr",
     "output_type": "stream",
     "text": [
      "C:\\ProgramData\\Anaconda3\\envs\\textmining\\lib\\site-packages\\gensim\\models\\ldaseqmodel.py:297: RuntimeWarning: divide by zero encountered in double_scalars\n",
      "  convergence = np.fabs((bound - old_bound) / old_bound)\n"
     ]
    },
    {
     "name": "stdout",
     "output_type": "stream",
     "text": [
      "Elapsed Time for DTM in 12 topics : 1027.88 sec.\n"
     ]
    },
    {
     "name": "stderr",
     "output_type": "stream",
     "text": [
      "C:\\ProgramData\\Anaconda3\\envs\\textmining\\lib\\site-packages\\gensim\\models\\ldaseqmodel.py:297: RuntimeWarning: divide by zero encountered in double_scalars\n",
      "  convergence = np.fabs((bound - old_bound) / old_bound)\n"
     ]
    },
    {
     "name": "stdout",
     "output_type": "stream",
     "text": [
      "Elapsed Time for DTM in 13 topics : 873.08 sec.\n"
     ]
    },
    {
     "name": "stderr",
     "output_type": "stream",
     "text": [
      "C:\\ProgramData\\Anaconda3\\envs\\textmining\\lib\\site-packages\\gensim\\models\\ldaseqmodel.py:297: RuntimeWarning: divide by zero encountered in double_scalars\n",
      "  convergence = np.fabs((bound - old_bound) / old_bound)\n"
     ]
    },
    {
     "name": "stdout",
     "output_type": "stream",
     "text": [
      "Elapsed Time for DTM in 14 topics : 847.88 sec.\n"
     ]
    }
   ],
   "source": [
    "# 함수 실행\n",
    "model_list , coherence_scores = compute_coherence(dictionary=dictionary, \n",
    "                                                 corpus=corpus, \n",
    "                                                 texts=tokenized_data,\n",
    "                                                 times=times,\n",
    "                                                 start=start, end=end, step=step)\n",
    "                                                   \n",
    "                                       \n",
    "                                                "
   ]
  },
  {
   "cell_type": "code",
   "execution_count": 18,
   "id": "baa1a45f",
   "metadata": {},
   "outputs": [],
   "source": [
    "import pickle\n",
    "\n",
    "with open(\"dong(okt)_models.pk\", 'wb') as f:\n",
    "    pickle.dump(dtm_model, f)\n",
    "    \n",
    "# with open(\"dong(okt)_cs.pk\", 'wb') as f:\n",
    "#     pickle.dump(coherence_scores, f)"
   ]
  },
  {
   "cell_type": "code",
   "execution_count": 22,
   "id": "232175a1",
   "metadata": {},
   "outputs": [],
   "source": [
    "import pickle\n",
    "\n",
    "with open(\"dong(okt)_models.pk\", 'rb') as f:\n",
    "    dtm_model = pickle.load(f)\n",
    "    \n",
    "# with open(\"dong_dtm_cs.pk\", 'rb') as f:\n",
    "#     coherence_scores = pickle.load(f)"
   ]
  },
  {
   "cell_type": "code",
   "execution_count": 17,
   "id": "317e3f69",
   "metadata": {},
   "outputs": [
    {
     "name": "stdout",
     "output_type": "stream",
     "text": [
      "[<gensim.models.ldaseqmodel.LdaSeqModel object at 0x000002368216A128>, <gensim.models.ldaseqmodel.LdaSeqModel object at 0x000002368249B5C0>, <gensim.models.ldaseqmodel.LdaSeqModel object at 0x00000236824995F8>, <gensim.models.ldaseqmodel.LdaSeqModel object at 0x000002368263C4E0>, <gensim.models.ldaseqmodel.LdaSeqModel object at 0x0000023680FB7550>, <gensim.models.ldaseqmodel.LdaSeqModel object at 0x00000236822EA400>, <gensim.models.ldaseqmodel.LdaSeqModel object at 0x00000236822EAEB8>, <gensim.models.ldaseqmodel.LdaSeqModel object at 0x000002368225DA58>, <gensim.models.ldaseqmodel.LdaSeqModel object at 0x00000236826AF518>, <gensim.models.ldaseqmodel.LdaSeqModel object at 0x00000236826AFD68>, <gensim.models.ldaseqmodel.LdaSeqModel object at 0x00000236826AD6A0>] [[0.4926778214625601, 0.4926778214625601], [0.45528121233305957, 0.4552812123330595], [0.4869571612072237, 0.48695716120722365], [0.4579937735827225, 0.4576193336773568], [0.49273573270200677, 0.4927357327020068], [0.47831718258993194, 0.47831718258993194], [0.4609369427479324, 0.46327528537705726], [0.4975301856184134, 0.49424848517342457], [0.4969067016398602, 0.49886766666932036], [0.46175700930911684, 0.46660442606444263], [0.45735801523034264, 0.45735801523034264]]\n"
     ]
    }
   ],
   "source": [
    "print(model_list, coherence_scores)"
   ]
  },
  {
   "cell_type": "code",
   "execution_count": 18,
   "id": "a531bc8c",
   "metadata": {},
   "outputs": [
    {
     "name": "stdout",
     "output_type": "stream",
     "text": [
      "[[0.4926778214625601, 0.4926778214625601],\n",
      " [0.45528121233305957, 0.4552812123330595],\n",
      " [0.4869571612072237, 0.48695716120722365],\n",
      " [0.4579937735827225, 0.4576193336773568],\n",
      " [0.49273573270200677, 0.4927357327020068],\n",
      " [0.47831718258993194, 0.47831718258993194],\n",
      " [0.4609369427479324, 0.46327528537705726],\n",
      " [0.4975301856184134, 0.49424848517342457],\n",
      " [0.4969067016398602, 0.49886766666932036],\n",
      " [0.46175700930911684, 0.46660442606444263],\n",
      " [0.45735801523034264, 0.45735801523034264]]\n"
     ]
    }
   ],
   "source": [
    "pprint(coherence_scores)"
   ]
  },
  {
   "cell_type": "code",
   "execution_count": 19,
   "id": "de0e85a2",
   "metadata": {},
   "outputs": [],
   "source": [
    "# 편한 연산을 위해 numpy array로 변경.\n",
    "import numpy as np\n",
    "\n",
    "np_coherence_scores = np.array(coherence_scores) \n",
    "np_cs_avg_list = np_coherence_scores.mean(axis=1)"
   ]
  },
  {
   "cell_type": "code",
   "execution_count": 20,
   "id": "edfc4c7a",
   "metadata": {},
   "outputs": [
    {
     "data": {
      "text/plain": [
       "array([0.49267782, 0.45528121, 0.48695716, 0.45780655, 0.49273573,\n",
       "       0.47831718, 0.46210611, 0.49588934, 0.49788718, 0.46418072,\n",
       "       0.45735802])"
      ]
     },
     "execution_count": 20,
     "metadata": {},
     "output_type": "execute_result"
    }
   ],
   "source": [
    "np_cs_avg_list"
   ]
  },
  {
   "cell_type": "code",
   "execution_count": 21,
   "id": "2cafa3d1",
   "metadata": {},
   "outputs": [],
   "source": [
    "# 그래프 출력을 위한 한글 글꼴 설정.\n",
    "\n",
    "import matplotlib.pyplot as plt\n",
    "import platform\n",
    "from matplotlib import font_manager, rc\n",
    "%matplotlib inline\n",
    "\n",
    "path = \"c:/Windows/Fonts/malgun.ttf\"\n",
    "if platform.system() == 'Darwin':\n",
    "    rc('font', family='AppleGothic')\n",
    "elif platform.system() == 'Windows':\n",
    "    font_name = font_manager.FontProperties(fname=path).get_name()\n",
    "    rc('font', family=font_name)\n",
    "else:\n",
    "    print('Unknown system... sorry~~~~')"
   ]
  },
  {
   "cell_type": "code",
   "execution_count": 22,
   "id": "0a86e608",
   "metadata": {},
   "outputs": [
    {
     "data": {
      "text/plain": [
       "([<matplotlib.axis.XTick at 0x23685f568d0>,\n",
       "  <matplotlib.axis.XTick at 0x23685f56588>,\n",
       "  <matplotlib.axis.XTick at 0x23685f56240>,\n",
       "  <matplotlib.axis.XTick at 0x23685f92240>,\n",
       "  <matplotlib.axis.XTick at 0x23685f926d8>,\n",
       "  <matplotlib.axis.XTick at 0x23685f92b70>,\n",
       "  <matplotlib.axis.XTick at 0x23685f9c048>,\n",
       "  <matplotlib.axis.XTick at 0x23685f9c4e0>,\n",
       "  <matplotlib.axis.XTick at 0x23685f92780>,\n",
       "  <matplotlib.axis.XTick at 0x23685f9c8d0>,\n",
       "  <matplotlib.axis.XTick at 0x23685f9cc18>],\n",
       " [Text(0, 0, ''),\n",
       "  Text(0, 0, ''),\n",
       "  Text(0, 0, ''),\n",
       "  Text(0, 0, ''),\n",
       "  Text(0, 0, ''),\n",
       "  Text(0, 0, ''),\n",
       "  Text(0, 0, ''),\n",
       "  Text(0, 0, ''),\n",
       "  Text(0, 0, ''),\n",
       "  Text(0, 0, ''),\n",
       "  Text(0, 0, '')])"
      ]
     },
     "execution_count": 22,
     "metadata": {},
     "output_type": "execute_result"
    },
    {
     "data": {
      "image/png": "[encoded data removed]",
      "text/plain": [
       "<Figure size 864x720 with 1 Axes>"
      ]
     },
     "metadata": {
      "needs_background": "light"
     },
     "output_type": "display_data"
    }
   ],
   "source": [
    "# 그래프 그리기\n",
    "x = range(start, end, step)\n",
    "\n",
    "plt.figure(figsize=(12, 10)) \n",
    "plt.plot(x, np_cs_avg_list, '-b')\n",
    "plt.xlabel(\"토픽 수\")\n",
    "plt.ylabel(\"평균 일관성 점수 (avg of coherence score)\")\n",
    "plt.xticks(x)"
   ]
  },
  {
   "cell_type": "markdown",
   "id": "2b8d5ffc",
   "metadata": {},
   "source": [
    "## 위에서 구한 일관성 점수 기준으로 최적 토픽 모델 결정"
   ]
  },
  {
   "cell_type": "code",
   "execution_count": 23,
   "id": "fc9c5308",
   "metadata": {},
   "outputs": [
    {
     "ename": "NameError",
     "evalue": "name 'np_cs_avg_list' is not defined",
     "output_type": "error",
     "traceback": [
      "\u001b[1;31m---------------------------------------------------------------------------\u001b[0m",
      "\u001b[1;31mNameError\u001b[0m                                 Traceback (most recent call last)",
      "\u001b[1;32m<ipython-input-23-d40249417ad9>\u001b[0m in \u001b[0;36m<module>\u001b[1;34m\u001b[0m\n\u001b[1;32m----> 1\u001b[1;33m \u001b[0mdtm_model\u001b[0m \u001b[1;33m=\u001b[0m \u001b[0mdtm_model\u001b[0m\u001b[1;33m[\u001b[0m\u001b[0mnp\u001b[0m\u001b[1;33m.\u001b[0m\u001b[0margmax\u001b[0m\u001b[1;33m(\u001b[0m\u001b[0mnp_cs_avg_list\u001b[0m\u001b[1;33m)\u001b[0m\u001b[1;33m]\u001b[0m\u001b[1;33m\u001b[0m\u001b[1;33m\u001b[0m\u001b[0m\n\u001b[0m\u001b[0;32m      2\u001b[0m \u001b[0mlen\u001b[0m\u001b[1;33m(\u001b[0m\u001b[0mdtm_model\u001b[0m\u001b[1;33m.\u001b[0m\u001b[0mprint_topics\u001b[0m\u001b[1;33m(\u001b[0m\u001b[1;33m)\u001b[0m\u001b[1;33m)\u001b[0m\u001b[1;33m\u001b[0m\u001b[1;33m\u001b[0m\u001b[0m\n",
      "\u001b[1;31mNameError\u001b[0m: name 'np_cs_avg_list' is not defined"
     ]
    }
   ],
   "source": [
    "dtm_model = dtm_model[np.argmax(np_cs_avg_list)]\n",
    "len(dtm_model.print_topics())"
   ]
  },
  {
   "cell_type": "markdown",
   "id": "c2436f17",
   "metadata": {},
   "source": [
    "## DTM 결과보기"
   ]
  },
  {
   "cell_type": "code",
   "execution_count": 25,
   "id": "f6bad566",
   "metadata": {},
   "outputs": [
    {
     "name": "stdout",
     "output_type": "stream",
     "text": [
      "[[('최고', 0.07001649798931316),\n",
      "  ('포인트', 0.053602048229677804),\n",
      "  ('적립', 0.0521056152605506),\n",
      "  ('프로', 0.051559040845456),\n",
      "  ('답변', 0.04651368737304476),\n",
      "  ('다운', 0.03922151463627158),\n",
      "  ('회사', 0.026164036893195387),\n",
      "  ('현재', 0.025317303405731885),\n",
      "  ('에러', 0.023131949917973706),\n",
      "  ('문의', 0.022628526674195067),\n",
      "  ('사용', 0.021568832197757022),\n",
      "  ('예전', 0.020226310080671047),\n",
      "  ('버전', 0.019535381107736394),\n",
      "  ('가게', 0.01751299756545957),\n",
      "  ('지금', 0.015725736780723452),\n",
      "  ('이제', 0.015361431996847084),\n",
      "  ('감사', 0.01507301379432452),\n",
      "  ('대기', 0.014921422836049624),\n",
      "  ('세상', 0.014338640663679427),\n",
      "  ('대박', 0.013808324418750862)],\n",
      " [('가맹', 0.1120175720002429),\n",
      "  ('결제', 0.05867388394132755),\n",
      "  ('확인', 0.05196633086634966),\n",
      "  ('알림', 0.049918155758229346),\n",
      "  ('잔액', 0.043911515516504636),\n",
      "  ('찾기', 0.04219288161486457),\n",
      "  ('검색', 0.03786719217745438),\n",
      "  ('개선', 0.027582749040177743),\n",
      "  ('기능', 0.02436930662288557),\n",
      "  ('충전', 0.021857605917944976),\n",
      "  ('화면', 0.020607776059782514),\n",
      "  ('설정', 0.019379978487790023),\n",
      "  ('사용', 0.018217174999497248),\n",
      "  ('아이폰', 0.016232036226360342),\n",
      "  ('제발', 0.013444972947531721),\n",
      "  ('메뉴', 0.013084819570579423),\n",
      "  ('부분', 0.01239557153935567),\n",
      "  ('카드', 0.012104888312396356),\n",
      "  ('알람', 0.01196443393794761),\n",
      "  ('조회', 0.011160084691468869)],\n",
      " [('카드', 0.20679005713382204),\n",
      "  ('발급', 0.10091969349549905),\n",
      "  ('기존', 0.07430408385185028),\n",
      "  ('신청', 0.03800335146819772),\n",
      "  ('사용', 0.03499348775803182),\n",
      "  ('신규', 0.03319709237876355),\n",
      "  ('선불카드', 0.018840777331045205),\n",
      "  ('무조건', 0.015069930304065008),\n",
      "  ('취소', 0.01348482139952493),\n",
      "  ('연동', 0.011577968988921558),\n",
      "  ('재발', 0.011559972345986923),\n",
      "  ('강제', 0.011364212036250461),\n",
      "  ('등록', 0.010631340097722677),\n",
      "  ('부산시', 0.008918834378543884),\n",
      "  ('시스템', 0.008408890984670377),\n",
      "  ('계속', 0.008327022111266241),\n",
      "  ('설명', 0.00807703151445029),\n",
      "  ('낭비', 0.007965620544842603),\n",
      "  ('쓰레기', 0.007889877337175319),\n",
      "  ('안내', 0.007653317407292289)],\n",
      " [('카드', 0.08692670102539318),\n",
      "  ('페이', 0.056453715230779994),\n",
      "  ('등록', 0.05280328611593053),\n",
      "  ('체크카드', 0.03393526484134785),\n",
      "  ('혜택', 0.03362162280999482),\n",
      "  ('사용', 0.032335924263596265),\n",
      "  ('삼성', 0.029195332988704043),\n",
      "  ('실물', 0.020671468543909687),\n",
      "  ('선불카드', 0.02003989547339197),\n",
      "  ('기존', 0.01565115484846714),\n",
      "  ('그냥', 0.01470654663903581),\n",
      "  ('결재', 0.014110988493151053),\n",
      "  ('이벤트', 0.010861265879871988),\n",
      "  ('발급', 0.010813560017732371),\n",
      "  ('소득공제', 0.010747348594057038),\n",
      "  ('교통카드', 0.010123567903492958),\n",
      "  ('입력', 0.009741171089298293),\n",
      "  ('동의', 0.009557612701443032),\n",
      "  ('정보', 0.00938395162493835),\n",
      "  ('신청', 0.009055884611001616)],\n",
      " [('오류', 0.04667621678231401),\n",
      "  ('접속', 0.04157349845065354),\n",
      "  ('인증', 0.034542669403132414),\n",
      "  ('실행', 0.032079970223627546),\n",
      "  ('연결', 0.031507987730594045),\n",
      "  ('네트워크', 0.027582813625545977),\n",
      "  ('충전', 0.02681113246669785),\n",
      "  ('다시', 0.02559432180647407),\n",
      "  ('계좌', 0.02460947539459961),\n",
      "  ('계속', 0.02431342424938992),\n",
      "  ('번호', 0.020089881776700815),\n",
      "  ('고객', 0.01810339587290415),\n",
      "  ('확인', 0.017104027442034517),\n",
      "  ('센터', 0.017065870255973132),\n",
      "  ('문제', 0.01459654926550188),\n",
      "  ('와이파이', 0.013965896081336705),\n",
      "  ('사용', 0.01356597437881003),\n",
      "  ('데이터', 0.012045465767445645),\n",
      "  ('상태', 0.011825287092873029),\n",
      "  ('은행', 0.011113707175401905)],\n",
      " [('결제', 0.07940334427157032),\n",
      "  ('카드', 0.05940968704380691),\n",
      "  ('기능', 0.03116081733419574),\n",
      "  ('충전', 0.024874249686484856),\n",
      "  ('부산', 0.021688204603877),\n",
      "  ('사용자', 0.018405422472329052),\n",
      "  ('지역', 0.017674056163574377),\n",
      "  ('서비스', 0.015792047406151186),\n",
      "  ('업체', 0.015588922566293338),\n",
      "  ('경제', 0.013500419773975468),\n",
      "  ('한도', 0.01308103847873084),\n",
      "  ('바코드', 0.0125279372390363),\n",
      "  ('운영', 0.012362804186594177),\n",
      "  ('이전', 0.011306576834502823),\n",
      "  ('부산시', 0.010095764353523232),\n",
      "  ('저번', 0.00816882642605596),\n",
      "  ('편의', 0.007996688030558786),\n",
      "  ('코드', 0.007888937833961763),\n",
      "  ('미리', 0.007840228673478958),\n",
      "  ('기존', 0.007412697677677996)],\n",
      " [('불편', 0.04397140548228035),\n",
      "  ('최악', 0.04237738566236265),\n",
      "  ('할인', 0.03088028734346712),\n",
      "  ('이전', 0.030070539595987482),\n",
      "  ('리뷰', 0.028769191537835574),\n",
      "  ('도움', 0.027942107073464912),\n",
      "  ('사람', 0.026750527611176998),\n",
      "  ('사용', 0.026719229637009942),\n",
      "  ('사항', 0.02321888442391216),\n",
      "  ('하루', 0.02155839172768698),\n",
      "  ('생각', 0.021282508527561),\n",
      "  ('직관', 0.0203343478906113),\n",
      "  ('종일', 0.01832631487784268),\n",
      "  ('디자인', 0.016947473679397695),\n",
      "  ('자주', 0.01683594122628338),\n",
      "  ('이름', 0.015064707799011616),\n",
      "  ('불만', 0.015008295883891463),\n",
      "  ('이해', 0.014131732156419727),\n",
      "  ('일부러', 0.012763363306875617),\n",
      "  ('정신', 0.01183670733143384)],\n",
      " [('사용', 0.18837709253817297),\n",
      "  ('금액', 0.08185845471569131),\n",
      "  ('캐시', 0.07722223187620184),\n",
      "  ('충전', 0.0575438006272783),\n",
      "  ('확인', 0.01994907219644027),\n",
      "  ('이전', 0.019348864841330478),\n",
      "  ('이용', 0.017541536853402134),\n",
      "  ('잔액', 0.017036197985722146),\n",
      "  ('환불', 0.016253070276860827),\n",
      "  ('포인트', 0.01517355267576183),\n",
      "  ('캐쉬백', 0.014270245257732777),\n",
      "  ('적립', 0.014208904331506171),\n",
      "  ('가능', 0.012794060292402511),\n",
      "  ('표시', 0.010667038607852756),\n",
      "  ('개선', 0.010491687250259969),\n",
      "  ('예전', 0.009789928809971923),\n",
      "  ('합계', 0.009658905865894294),\n",
      "  ('설정', 0.009155781874257255),\n",
      "  ('혜택', 0.008962298165462864),\n",
      "  ('결제', 0.008491140203109312)],\n",
      " [('업데이트', 0.14846033539707354),\n",
      "  ('부산', 0.09422825543406166),\n",
      "  ('설치', 0.08900573076245621),\n",
      "  ('시민', 0.03526939392476994),\n",
      "  ('다시', 0.0339925519614993),\n",
      "  ('사용', 0.02450203154445032),\n",
      "  ('삭제', 0.023856390086579523),\n",
      "  ('계속', 0.020335172876408944),\n",
      "  ('쓰레기', 0.020054375784526422),\n",
      "  ('운영', 0.017575950291083182),\n",
      "  ('기대', 0.015789944337829858),\n",
      "  ('지역화폐', 0.01557277200974277),\n",
      "  ('업뎃', 0.012793210102476416),\n",
      "  ('시청', 0.012464357514558875),\n",
      "  ('짜증', 0.012233443600806505),\n",
      "  ('개선', 0.011614841149157574),\n",
      "  ('문제', 0.011433878525475626),\n",
      "  ('수준', 0.010983706810365767),\n",
      "  ('화면', 0.010871194860376493),\n",
      "  ('선정', 0.009769163110246218)]]\n"
     ]
    }
   ],
   "source": [
    "# 고정된 시간 내에서 전체 토픽보기\n",
    "pprint(dtm_model.print_topics(time=1, top_terms=20))"
   ]
  },
  {
   "cell_type": "code",
   "execution_count": 26,
   "id": "23a3fdb5",
   "metadata": {
    "scrolled": true
   },
   "outputs": [
    {
     "data": {
      "text/plain": [
       "[[('최고', 0.07062006250042156),\n",
       "  ('포인트', 0.053411398187502734),\n",
       "  ('적립', 0.05200975139860206),\n",
       "  ('프로', 0.05162119458100169),\n",
       "  ('답변', 0.04570841865409775),\n",
       "  ('다운', 0.04057125755208223),\n",
       "  ('회사', 0.025873993886910654),\n",
       "  ('현재', 0.025282645222782948),\n",
       "  ('에러', 0.02320360521152509),\n",
       "  ('문의', 0.022523918860693073),\n",
       "  ('사용', 0.0215423669056965),\n",
       "  ('예전', 0.01984606429409958),\n",
       "  ('버전', 0.019496561255528927),\n",
       "  ('가게', 0.017637146243612914),\n",
       "  ('지금', 0.015636670151540997),\n",
       "  ('이제', 0.015298179487032446),\n",
       "  ('감사', 0.015063061645856742),\n",
       "  ('대기', 0.014875866807749247),\n",
       "  ('세상', 0.014389541174000113),\n",
       "  ('대박', 0.01387743004762505)],\n",
       " [('최고', 0.07001649798931316),\n",
       "  ('포인트', 0.053602048229677804),\n",
       "  ('적립', 0.0521056152605506),\n",
       "  ('프로', 0.051559040845456),\n",
       "  ('답변', 0.04651368737304476),\n",
       "  ('다운', 0.03922151463627158),\n",
       "  ('회사', 0.026164036893195387),\n",
       "  ('현재', 0.025317303405731885),\n",
       "  ('에러', 0.023131949917973706),\n",
       "  ('문의', 0.022628526674195067),\n",
       "  ('사용', 0.021568832197757022),\n",
       "  ('예전', 0.020226310080671047),\n",
       "  ('버전', 0.019535381107736394),\n",
       "  ('가게', 0.01751299756545957),\n",
       "  ('지금', 0.015725736780723452),\n",
       "  ('이제', 0.015361431996847084),\n",
       "  ('감사', 0.01507301379432452),\n",
       "  ('대기', 0.014921422836049624),\n",
       "  ('세상', 0.014338640663679427),\n",
       "  ('대박', 0.013808324418750862)]]"
      ]
     },
     "execution_count": 26,
     "metadata": {},
     "output_type": "execute_result"
    }
   ],
   "source": [
    "# 고정된 토픽 내에서 전체 시간 변화 보기\n",
    "dtm_model.print_topic_times(topic=0, top_terms=20)"
   ]
  },
  {
   "cell_type": "code",
   "execution_count": 14,
   "id": "a76194ec",
   "metadata": {},
   "outputs": [
    {
     "ename": "NameError",
     "evalue": "name 'NUM_TOPICS' is not defined",
     "output_type": "error",
     "traceback": [
      "\u001b[1;31m---------------------------------------------------------------------------\u001b[0m",
      "\u001b[1;31mNameError\u001b[0m                                 Traceback (most recent call last)",
      "\u001b[1;32m<ipython-input-14-0858de758ff3>\u001b[0m in \u001b[0;36m<module>\u001b[1;34m\u001b[0m\n\u001b[0;32m      1\u001b[0m \u001b[0mword_dict\u001b[0m \u001b[1;33m=\u001b[0m \u001b[1;33m{\u001b[0m\u001b[1;33m}\u001b[0m\u001b[1;33m;\u001b[0m\u001b[1;33m\u001b[0m\u001b[1;33m\u001b[0m\u001b[0m\n\u001b[0;32m      2\u001b[0m \u001b[1;33m\u001b[0m\u001b[0m\n\u001b[1;32m----> 3\u001b[1;33m \u001b[1;32mfor\u001b[0m \u001b[0mi\u001b[0m \u001b[1;32min\u001b[0m \u001b[0mrange\u001b[0m\u001b[1;33m(\u001b[0m\u001b[0mNUM_TOPICS\u001b[0m\u001b[1;33m)\u001b[0m\u001b[1;33m:\u001b[0m\u001b[1;33m\u001b[0m\u001b[1;33m\u001b[0m\u001b[0m\n\u001b[0m\u001b[0;32m      4\u001b[0m \u001b[1;33m\u001b[0m\u001b[0m\n\u001b[0;32m      5\u001b[0m     \u001b[0mwords\u001b[0m \u001b[1;33m=\u001b[0m \u001b[0mdtm_model\u001b[0m\u001b[1;33m.\u001b[0m\u001b[0mprint_topic\u001b[0m\u001b[1;33m(\u001b[0m\u001b[0mi\u001b[0m\u001b[1;33m)\u001b[0m\u001b[1;33m\u001b[0m\u001b[1;33m\u001b[0m\u001b[0m\n",
      "\u001b[1;31mNameError\u001b[0m: name 'NUM_TOPICS' is not defined"
     ]
    }
   ],
   "source": [
    "word_dict = {};\n",
    "\n",
    "for i in range(NUM_TOPICS):\n",
    "\n",
    "    words = dtm_model.print_topic(i)\n",
    "\n",
    "    word_dict['Topic # ' + '{:02d}'.format(i+1)] = [i[0] for i in words]\n",
    "\n",
    "pd.DataFrame(word_dict)"
   ]
  },
  {
   "cell_type": "markdown",
   "id": "b9883f18",
   "metadata": {},
   "source": [
    "## 6. 문서별 토픽 비중 구하기\n",
    "> 1) 토픽 비중 계산을 위한 데이터 전처리\n",
    "\n",
    "> 2) OOM 문제 해결을 위한 샘플링\n",
    "\n",
    "> 3) DataFrame으로 만들어 excel 파일로 저장"
   ]
  },
  {
   "cell_type": "code",
   "execution_count": 27,
   "id": "8458ea58",
   "metadata": {
    "scrolled": true
   },
   "outputs": [
    {
     "name": "stdout",
     "output_type": "stream",
     "text": [
      "2266\n"
     ]
    }
   ],
   "source": [
    "doc_time = []\n",
    "\n",
    "for doc_id in range(len(tokenized_data)):\n",
    "    if doc_id < time_slice[0]:\n",
    "        doc_time.append(0)\n",
    "    else:\n",
    "        doc_time.append(1)\n",
    "    \n",
    "        \n",
    "print(len(doc_time))"
   ]
  },
  {
   "cell_type": "code",
   "execution_count": 28,
   "id": "95ce9de5",
   "metadata": {},
   "outputs": [
    {
     "name": "stdout",
     "output_type": "stream",
     "text": [
      "[ 952  113  939 1235 1047  865   42  108  916 1191]\n",
      "[1597 1396 1338 1856 1355 2255 1406 1806 2194 1390]\n"
     ]
    }
   ],
   "source": [
    "# time_slot 별로 900개씩만 뽑기.\n",
    "sample_idx1 = np.random.randint(0, time_slice[0], size=900)\n",
    "sample_idx2 = np.random.randint(time_slice[0], time_slice[0] + time_slice[1], size=900)\n",
    "\n"
   ]
  },
  {
   "cell_type": "code",
   "execution_count": 29,
   "id": "6a5fe9ee",
   "metadata": {
    "scrolled": false
   },
   "outputs": [
    {
     "name": "stdout",
     "output_type": "stream",
     "text": [
      "1800\n",
      "1800\n"
     ]
    }
   ],
   "source": [
    "# OOM(Out-of-Memory) 문제로 인해 1000개씩 샘플링 하여 실행.\n",
    "\n",
    "processing_docs = []\n",
    "processing_time = []\n",
    "\n",
    "sample_indices = np.concatenate((sample_idx1, sample_idx2))\n",
    "\n",
    "for idx in sample_indices:\n",
    "    processing_docs.append(tokenized_data[idx])\n",
    "    processing_time.append(doc_time[idx])\n",
    "    "
   ]
  },
  {
   "cell_type": "code",
   "execution_count": 32,
   "id": "2d835d17",
   "metadata": {},
   "outputs": [],
   "source": [
    "doc_dist = []\n",
    "\n",
    "for doc_id in sample_indices:\n",
    "    doc_dist.append(dtm_model.doc_topics(doc_id))"
   ]
  },
  {
   "cell_type": "code",
   "execution_count": 33,
   "id": "c10a281b",
   "metadata": {},
   "outputs": [
    {
     "data": {
      "text/plain": [
       "(9, 1800)"
      ]
     },
     "execution_count": 33,
     "metadata": {},
     "output_type": "execute_result"
    }
   ],
   "source": [
    "doc_dist = np.array(doc_dist)\n",
    "doc_topic_dist = doc_dist.T\n",
    "doc_topic_dist.shape"
   ]
  },
  {
   "cell_type": "code",
   "execution_count": 34,
   "id": "760a4e86",
   "metadata": {},
   "outputs": [
    {
     "name": "stdout",
     "output_type": "stream",
     "text": [
      "0.001642, 0.001642, 0.001642, 0.001642, 0.001642, 0.001642, 0.581646, 0.406859, 0.001642, \n",
      "0.001642, 0.001642, 0.001642, 0.001642, 0.001642, 0.001642, 0.581646, 0.406859, 0.001642, "
     ]
    }
   ],
   "source": [
    "NUM_TOPICS = dtm_model.num_topics\n",
    "\n",
    "for i in range(NUM_TOPICS):\n",
    "    print(\"%f\" % doc_dist[0][i], end=\", \")\n",
    "\n",
    "print()\n",
    "\n",
    "for i in range(NUM_TOPICS):\n",
    "    print(\"%f\" % doc_topic_dist[i][0], end=\", \")"
   ]
  },
  {
   "cell_type": "code",
   "execution_count": 35,
   "id": "92adbdec",
   "metadata": {},
   "outputs": [
    {
     "data": {
      "text/plain": [
       "(1800,)"
      ]
     },
     "execution_count": 35,
     "metadata": {},
     "output_type": "execute_result"
    }
   ],
   "source": [
    "doc_topic_dist[0].shape"
   ]
  },
  {
   "cell_type": "code",
   "execution_count": 37,
   "id": "be9b0f32",
   "metadata": {},
   "outputs": [
    {
     "name": "stdout",
     "output_type": "stream",
     "text": [
      "   Time    Topic0    Topic1    Topic2    Topic3    Topic4    Topic5    Topic6  \\\n",
      "0     0  0.001642  0.001642  0.001642  0.001642  0.001642  0.001642  0.581646   \n",
      "1     0  0.001100  0.526072  0.001100  0.110039  0.087428  0.001100  0.001100   \n",
      "2     0  0.004785  0.004785  0.004785  0.004785  0.004785  0.004785  0.004785   \n",
      "3     0  0.004785  0.004785  0.004785  0.004785  0.482376  0.004785  0.004785   \n",
      "4     0  0.000827  0.000827  0.000827  0.000827  0.162540  0.000827  0.000827   \n",
      "\n",
      "     Topic7    Topic8  \n",
      "0  0.406859  0.001642  \n",
      "1  0.270959  0.001100  \n",
      "2  0.961722  0.004785  \n",
      "3  0.004785  0.484131  \n",
      "4  0.421942  0.410556  \n"
     ]
    }
   ],
   "source": [
    "dtm_df = pd.DataFrame({\"Time\" : processing_time, \"Topic0\" : doc_topic_dist[0], \"Topic1\" : doc_topic_dist[1],\n",
    "                      \"Topic2\" : doc_topic_dist[2], \"Topic3\" : doc_topic_dist[3], \"Topic4\" : doc_topic_dist[4]\n",
    "                    , \"Topic5\" : doc_topic_dist[5], \"Topic6\" : doc_topic_dist[6], \"Topic7\" : doc_topic_dist[7],\n",
    "                       \"Topic8\" : doc_topic_dist[8]\n",
    "                      })\n",
    "\n",
    "print(dtm_df.head())\n",
    "dtm_df.to_excel(\"dong100_dtm_12topic_dist.xlsx\")"
   ]
  },
  {
   "cell_type": "markdown",
   "id": "2eaa0d2b",
   "metadata": {},
   "source": [
    "## 7. 시간대별 토픽비중 변화 추이\n",
    "> 1) 토픽 비중 변화를 보기 위한 데이터 전처리\n",
    "\n",
    "> 2) 시간대별 토픽 비중 평균 계산"
   ]
  },
  {
   "cell_type": "code",
   "execution_count": 38,
   "id": "ca814b5b",
   "metadata": {},
   "outputs": [
    {
     "data": {
      "text/plain": [
       "{0: Int64Index([  0,   1,   2,   3,   4,   5,   6,   7,   8,   9,\n",
       "             ...\n",
       "             890, 891, 892, 893, 894, 895, 896, 897, 898, 899],\n",
       "            dtype='int64', length=900),\n",
       " 1: Int64Index([ 900,  901,  902,  903,  904,  905,  906,  907,  908,  909,\n",
       "             ...\n",
       "             1790, 1791, 1792, 1793, 1794, 1795, 1796, 1797, 1798, 1799],\n",
       "            dtype='int64', length=900)}"
      ]
     },
     "execution_count": 38,
     "metadata": {},
     "output_type": "execute_result"
    }
   ],
   "source": [
    "# groupby 오브젝트 생성하기\n",
    "doctopic_timeslot = dtm_df.groupby('Time')\n",
    "doctopic_timeslot.groups"
   ]
  },
  {
   "cell_type": "code",
   "execution_count": 39,
   "id": "ae48ff74",
   "metadata": {},
   "outputs": [
    {
     "data": {
      "text/html": [
       "<div>\n",
       "<style scoped>\n",
       "    .dataframe tbody tr th:only-of-type {\n",
       "        vertical-align: middle;\n",
       "    }\n",
       "\n",
       "    .dataframe tbody tr th {\n",
       "        vertical-align: top;\n",
       "    }\n",
       "\n",
       "    .dataframe thead th {\n",
       "        text-align: right;\n",
       "    }\n",
       "</style>\n",
       "<table border=\"1\" class=\"dataframe\">\n",
       "  <thead>\n",
       "    <tr style=\"text-align: right;\">\n",
       "      <th></th>\n",
       "      <th>Time</th>\n",
       "      <th>Topic0</th>\n",
       "      <th>Topic1</th>\n",
       "      <th>Topic2</th>\n",
       "      <th>Topic3</th>\n",
       "      <th>Topic4</th>\n",
       "      <th>Topic5</th>\n",
       "      <th>Topic6</th>\n",
       "      <th>Topic7</th>\n",
       "      <th>Topic8</th>\n",
       "    </tr>\n",
       "  </thead>\n",
       "  <tbody>\n",
       "    <tr>\n",
       "      <th>0</th>\n",
       "      <td>0</td>\n",
       "      <td>0.099541</td>\n",
       "      <td>0.067436</td>\n",
       "      <td>0.062597</td>\n",
       "      <td>0.050793</td>\n",
       "      <td>0.271521</td>\n",
       "      <td>0.096385</td>\n",
       "      <td>0.056102</td>\n",
       "      <td>0.183136</td>\n",
       "      <td>0.112490</td>\n",
       "    </tr>\n",
       "    <tr>\n",
       "      <th>1</th>\n",
       "      <td>1</td>\n",
       "      <td>0.060739</td>\n",
       "      <td>0.126155</td>\n",
       "      <td>0.205124</td>\n",
       "      <td>0.131779</td>\n",
       "      <td>0.072033</td>\n",
       "      <td>0.104924</td>\n",
       "      <td>0.069071</td>\n",
       "      <td>0.152031</td>\n",
       "      <td>0.078145</td>\n",
       "    </tr>\n",
       "  </tbody>\n",
       "</table>\n",
       "</div>"
      ],
      "text/plain": [
       "   Time    Topic0    Topic1    Topic2    Topic3    Topic4    Topic5    Topic6  \\\n",
       "0     0  0.099541  0.067436  0.062597  0.050793  0.271521  0.096385  0.056102   \n",
       "1     1  0.060739  0.126155  0.205124  0.131779  0.072033  0.104924  0.069071   \n",
       "\n",
       "     Topic7    Topic8  \n",
       "0  0.183136  0.112490  \n",
       "1  0.152031  0.078145  "
      ]
     },
     "execution_count": 39,
     "metadata": {},
     "output_type": "execute_result"
    }
   ],
   "source": [
    "# mean() 함수 이용해서 Topic0~TopicN까지의 모든 열 평균 구하기\n",
    "timeslot_avg = doctopic_timeslot.mean()\n",
    "timeslot_avg = timeslot_avg.reset_index()   # index 리셋하기\n",
    "timeslot_avg"
   ]
  },
  {
   "cell_type": "code",
   "execution_count": 40,
   "id": "6d4d7e03",
   "metadata": {},
   "outputs": [
    {
     "data": {
      "text/plain": [
       "0    1.0\n",
       "1    2.0\n",
       "dtype: float64"
      ]
     },
     "execution_count": 40,
     "metadata": {},
     "output_type": "execute_result"
    }
   ],
   "source": [
    "# 시기별 모든 토픽 값들의 합은 1이다.\n",
    "timeslot_avg.sum(axis=1)"
   ]
  },
  {
   "cell_type": "markdown",
   "id": "05d4cc40",
   "metadata": {},
   "source": [
    "## 8. 6번7번 결과를 그래프로"
   ]
  },
  {
   "cell_type": "code",
   "execution_count": 82,
   "id": "b8c3442f",
   "metadata": {
    "scrolled": false
   },
   "outputs": [
    {
     "data": {
      "image/png": "[encoded data removed]",
      "text/plain": [
       "<Figure size 1152x864 with 1 Axes>"
      ]
     },
     "metadata": {
      "needs_background": "light"
     },
     "output_type": "display_data"
    }
   ],
   "source": [
    "# figure 하나당 4개씩 그래프 그리기\n",
    "from matplotlib import pyplot as plt\n",
    "plt.figure(figsize=(16, 12)) \n",
    "plt.plot(timeslot_avg['Time'], timeslot_avg['Topic0'], 'b*--', label='토픽0')\n",
    "plt.plot(timeslot_avg['Time'], timeslot_avg['Topic1'], 'rs--', label='토픽1')\n",
    "plt.plot(timeslot_avg['Time'], timeslot_avg['Topic2'], 'g^--', label='토픽2')\n",
    "plt.plot(timeslot_avg['Time'], timeslot_avg['Topic3'], 'y*--', label='토픽3')\n",
    "plt.plot(timeslot_avg['Time'], timeslot_avg['Topic4'], 'bs--', label='토픽4')\n",
    "plt.plot(timeslot_avg['Time'], timeslot_avg['Topic5'], 'm*--', label='토픽5')\n",
    "plt.plot(timeslot_avg['Time'], timeslot_avg['Topic6'], 'k*--', label='토픽6')\n",
    "plt.plot(timeslot_avg['Time'], timeslot_avg['Topic7'], 'c*--', label='토픽7')\n",
    "plt.plot(timeslot_avg['Time'], timeslot_avg['Topic8'], 'b--', label='토픽8')\n",
    "\n",
    "#그래프에서 값 표시하는 annotate 방법 찾기\n",
    "for topic_id in ['Topic0', 'Topic1', 'Topic2', 'Topic3', 'Topic4', 'Topic5', 'Topic6', 'Topic7', 'Topic8']:\n",
    "    for x, y in zip(range(len(time_slice)), timeslot_avg[topic_id]):\n",
    "        plt.annotate(\"%.4f\"%y, (x, y), textcoords=\"offset points\", xytext=(0,10), ha='center')\n",
    "\n",
    "plt.title(\"12개의 대화 토픽\", fontsize=14)\n",
    "plt.xlabel(\"대화 시기\", fontsize=13)\n",
    "plt.ylabel(\"토픽의 비중 (%)\", fontsize=13)\n",
    "plt.xticks(timeslot_avg['Time'], ['4월 이전','4월 이후'])\n",
    "plt.ylim([0.00, 0.3])\n",
    "plt.legend(loc=\"best\")\n",
    "plt.savefig(\"dong100_topic_distribution_graph.png\")\n",
    "plt.show()"
   ]
  },
  {
   "cell_type": "code",
   "execution_count": 59,
   "id": "4dd23189",
   "metadata": {},
   "outputs": [],
   "source": [
    "from collections import defaultdict\n",
    "# 단어의 확률 변화를 보고 싶은 topic 번호 \n",
    "topic_id = 4\n",
    "# 해당 토픽에서 포함할 단어목록 결정\n",
    "topic_info = dtm_model.print_topic_times(topic=topic_id, top_terms=10)\n",
    "topic_dict = defaultdict(list)\n",
    "\n",
    "#time별 특정 topic(topic_id)의 단어별 확률값.\n",
    "for dist_inTime in topic_info:\n",
    "    #time별로 단어와 확률값 저장.\n",
    "    for word, prob in dist_inTime:\n",
    "        topic_dict[word].append(prob)"
   ]
  },
  {
   "cell_type": "code",
   "execution_count": 80,
   "id": "52f44101",
   "metadata": {
    "scrolled": false
   },
   "outputs": [
    {
     "name": "stdout",
     "output_type": "stream",
     "text": [
      "defaultdict(<class 'list'>, {'오류': [0.04671879723063112, 0.04667621678231401], '접속': [0.041795583798141946, 0.04157349845065354], '인증': [0.0346345163586488, 0.034542669403132414], '실행': [0.03221799222335726, 0.032079970223627546], '연결': [0.030603231897875824, 0.031507987730594045], '네트워크': [0.02774968606663024, 0.027582813625545977], '충전': [0.026832876228462244, 0.02681113246669785], '다시': [0.02564248801880364, 0.02559432180647407], '계좌': [0.024370127794495523, 0.02460947539459961], '계속': [0.024354228040320957, 0.02431342424938992]})\n"
     ]
    }
   ],
   "source": [
    "print(topic_dict)"
   ]
  },
  {
   "cell_type": "code",
   "execution_count": 83,
   "id": "313dd19b",
   "metadata": {},
   "outputs": [],
   "source": [
    "from collections import defaultdict\n",
    "# 단어의 확률 변화를 보고 싶은 topic 번호 \n",
    "topic_id = 2\n",
    "# 해당 토픽에서 포함할 단어목록 결정\n",
    "topic_info = dtm_model.print_topic_times(topic=topic_id, top_terms=10)\n",
    "topic_dict = defaultdict(list)\n",
    "\n",
    "#time별 특정 topic(topic_id)의 단어별 확률값.\n",
    "for dist_inTime in topic_info:\n",
    "    #time별로 단어와 확률값 저장.\n",
    "    for word, prob in dist_inTime:\n",
    "        topic_dict[word].append(prob)"
   ]
  },
  {
   "cell_type": "code",
   "execution_count": 84,
   "id": "e3c70caf",
   "metadata": {},
   "outputs": [
    {
     "name": "stdout",
     "output_type": "stream",
     "text": [
      "defaultdict(<class 'list'>, {'카드': [0.20755580956045394, 0.20679005713382204], '발급': [0.10116974612705028, 0.10091969349549905], '기존': [0.06981979629428169, 0.07430408385185028], '신청': [0.03826362427688667, 0.03800335146819772], '사용': [0.03498957824698463, 0.03499348775803182], '신규': [0.03308866621720359, 0.03319709237876355], '선불카드': [0.018760258850626172, 0.018840777331045205], '무조건': [0.0151459072015973, 0.015069930304065008], '취소': [0.013539268839719388, 0.01348482139952493], '재발': [0.011546031199129276], '연동': [0.011577968988921558]})\n"
     ]
    }
   ],
   "source": [
    "print(topic_dict)"
   ]
  },
  {
   "cell_type": "code",
   "execution_count": 81,
   "id": "2b0a7310",
   "metadata": {
    "scrolled": false
   },
   "outputs": [
    {
     "data": {
      "image/png": "[encoded data removed]",
      "text/plain": [
       "<Figure size 1152x864 with 1 Axes>"
      ]
     },
     "metadata": {
      "needs_background": "light"
     },
     "output_type": "display_data"
    }
   ],
   "source": [
    "#확률값 추이를 보고싶은 단어 목록\n",
    "keywords = [\"오류\",\"접속\",\"네트워크\",\"인증\"]\n",
    "\n",
    "# time_slot\n",
    "t = [i for i in range(len(time_slice))]\n",
    "\n",
    "plt.figure(figsize=(16, 12))\n",
    "for keyword in keywords:\n",
    "    plt.plot(t, topic_dict[keyword], label=keyword)\n",
    "    \n",
    "    for x, y in zip(t, topic_dict[keyword]):\n",
    "         plt.annotate(\"%.4f\"%y, (x, y), textcoords=\"offset points\", xytext=(0,10), ha='center')\n",
    "\n",
    "plt.title(\"시간별 단어의 토픽비중 변화\")\n",
    "plt.xlabel(\"시간\")\n",
    "plt.ylabel(\"토픽 비중\")\n",
    "plt.legend(loc='best')\n",
    "plt.savefig(\"kakao_keywords_distribution_overtime_graph.png\")\n",
    "plt.show()"
   ]
  },
  {
   "cell_type": "code",
   "execution_count": null,
   "id": "f54e94bc",
   "metadata": {},
   "outputs": [],
   "source": []
  },
  {
   "cell_type": "code",
   "execution_count": null,
   "id": "0f934b6f",
   "metadata": {},
   "outputs": [],
   "source": []
  }
 ],
 "metadata": {
  "kernelspec": {
   "display_name": "Python 3",
   "language": "python",
   "name": "python3"
  },
  "language_info": {
   "codemirror_mode": {
    "name": "ipython",
    "version": 3
   },
   "file_extension": ".py",
   "mimetype": "text/x-python",
   "name": "python",
   "nbconvert_exporter": "python",
   "pygments_lexer": "ipython3",
   "version": "3.6.10"
  },
  "toc": {
   "base_numbering": 1,
   "nav_menu": {},
   "number_sections": false,
   "sideBar": true,
   "skip_h1_title": false,
   "title_cell": "Table of Contents",
   "title_sidebar": "Contents",
   "toc_cell": false,
   "toc_position": {},
   "toc_section_display": true,
   "toc_window_display": false
  }
 },
 "nbformat": 4,
 "nbformat_minor": 5
}
