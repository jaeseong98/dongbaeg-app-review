{
 "cells": [
  {
   "cell_type": "code",
   "execution_count": null,
   "id": "f398c2ed",
   "metadata": {
    "scrolled": true
   },
   "outputs": [],
   "source": [
    "pip install selenium"
   ]
  },
  {
   "cell_type": "code",
   "execution_count": null,
   "id": "60d5f6d2",
   "metadata": {},
   "outputs": [],
   "source": [
    "import urllib.request as req \n",
    "import pandas as pd \n",
    "import numpy as np \n",
    "import collections as cor\n",
    "from selenium import webdriver \n",
    "from bs4 import BeautifulSoup \n",
    "import chromedriver_autoinstaller\n",
    "chromedriver_autoinstaller.install()\n",
    "import time\n",
    "from selenium import webdriver\n",
    "from selenium.webdriver.chrome.options import Options\n",
    "\n",
    "## 디버깅으로 우회해서 접속\n",
    "co = Options()\n",
    "co.add_experimental_option('debuggerAddress', '127.0.0.1:9222')\n",
    "driver = webdriver.Chrome(options=co)\n",
    "driver.get('https://play.google.com/store/apps/details?id=com.kt.android.dongbaekpay&hl=ko&gl=US&showAllReviews=true')"
   ]
  },
  {
   "cell_type": "markdown",
   "id": "5df57b42",
   "metadata": {},
   "source": [
    "- 스크롤 내리기"
   ]
  },
  {
   "cell_type": "code",
   "execution_count": null,
   "id": "ecf7537a",
   "metadata": {},
   "outputs": [],
   "source": [
    "import time\n",
    "SCROLL_PAUSE_TIME = 1.5 \n",
    "last_height = driver.execute_script(\"return document.body.scrollHeight\") \n",
    "while True: \n",
    "    # (1) 4번의 스크롤링 \n",
    "    for i in range(4): \n",
    "        driver.execute_script(\"window.scrollTo(0, document.body.scrollHeight);\") \n",
    "        time.sleep(SCROLL_PAUSE_TIME)\n",
    "    # (2) 더보기 클릭 \n",
    "    try:\n",
    "        driver.find_element_by_xpath(\"//span[@class='RveJvd snByac']\").click() \n",
    "    except:\n",
    "        pass\n",
    "    \n",
    "    # (3) 종료 조건 \n",
    "    new_height = driver.execute_script(\"return document.body.scrollHeight\")\n",
    "    if new_height == last_height: \n",
    "        break\n",
    "    last_height = new_height\n",
    "   \n",
    "     \n",
    "    \n",
    "    \n",
    "\n"
   ]
  },
  {
   "cell_type": "code",
   "execution_count": null,
   "id": "417a0c92",
   "metadata": {},
   "outputs": [],
   "source": [
    "## [전체 리뷰] 버튼 클릭하여 펼치기 \n",
    "spread_review = driver.find_elements_by_xpath(\"//button[@jsaction='click:TiglPc']\") \n",
    "for i in range(len(spread_review)): \n",
    "    isTrue = spread_review[i].is_displayed() \n",
    "    print(\"Element is visible? \" + str(isTrue)) \n",
    "    if isTrue: \n",
    "        \n",
    "        spread_review[i].click() \n",
    "        print(str(i)+\"th more button is clicked and wait 1.5 secs...\") \n",
    "        time.sleep(SCROLL_PAUSE_TIME)"
   ]
  },
  {
   "cell_type": "code",
   "execution_count": null,
   "id": "83972957",
   "metadata": {},
   "outputs": [],
   "source": [
    "reviews = driver.find_elements_by_xpath(\"//span[contains(@jsname, 'bN97Pc')]\") \n",
    "# for i in range(len(reviews)): \n",
    "#     print(str(i) + \"\\t\" + reviews[i].text) \n",
    "long_reviews = driver.find_elements_by_xpath(\"//span[@jsname='fbQN7e']\") \n",
    "# for i in range(len(reviews)): \n",
    "#     print(str(i) + \"\\t\" + long_reviews[i].text)\n",
    "\n",
    "print(len(reviews))\n",
    "print(len(long_reviews))\n"
   ]
  },
  {
   "cell_type": "code",
   "execution_count": null,
   "id": "c7dbba2a",
   "metadata": {},
   "outputs": [],
   "source": [
    "empty = [i for i,t in enumerate(reviews) if t.text==''] \n",
    "long = [i for i,t in enumerate(long_reviews) if t.text!=''] \n",
    "empty == long\n",
    "\n"
   ]
  },
  {
   "cell_type": "code",
   "execution_count": null,
   "id": "f41dbb0c",
   "metadata": {},
   "outputs": [],
   "source": [
    "# merge two list \n",
    "merged_review = [t.text if t.text!='' else long_reviews[i].text for i,t in enumerate(reviews)] \n",
    "\n",
    "\n"
   ]
  },
  {
   "cell_type": "code",
   "execution_count": null,
   "id": "8b9f8381",
   "metadata": {},
   "outputs": [],
   "source": [
    "dates = driver.find_elements_by_xpath(\"//div[@class='bAhLNe kx8XBd']/div/span[@class='p2TkOb']\")\n",
    "likes = driver.find_elements_by_xpath(\"//div[@aria-label='이 리뷰가 유용하다는 평가를 받은 횟수입니다.']\") \n",
    "stars = driver.find_elements_by_xpath(\"//span[@class='nt2C1d']/div[@class='pf5lIe']/div[@role='img']\") \n",
    "stars_text = stars[3].get_attribute('aria-label')\n",
    "\n"
   ]
  },
  {
   "cell_type": "code",
   "execution_count": null,
   "id": "a37a6063",
   "metadata": {},
   "outputs": [],
   "source": [
    "res_deque = cor.deque([]) \n",
    "for i in range(len(reviews)): \n",
    "    res_deque.append({ \n",
    "        'DATE' : dates[i].text, \n",
    "        'STAR' : stars[i].get_attribute('aria-label'), \n",
    "        'LIKE' : likes[i].text, \n",
    "        'REVIEW' : merged_review[i] \n",
    "    }) \n",
    "res_df = pd.DataFrame(res_deque) \n",
    "res_df.to_csv('D:/4월이전_data.csv', index=False, encoding='utf-8-sig')\n",
    "\n"
   ]
  },
  {
   "cell_type": "code",
   "execution_count": null,
   "id": "584f0c3a",
   "metadata": {},
   "outputs": [],
   "source": [
    "res_df = pd.read_csv(\"D:/Crawling_2_data.csv\")\n",
    "res_df.info()"
   ]
  },
  {
   "cell_type": "code",
   "execution_count": null,
   "id": "809dbb64",
   "metadata": {},
   "outputs": [],
   "source": []
  }
 ],
 "metadata": {
  "kernelspec": {
   "display_name": "project_1",
   "language": "python",
   "name": "textmining"
  },
  "language_info": {
   "codemirror_mode": {
    "name": "ipython",
    "version": 3
   },
   "file_extension": ".py",
   "mimetype": "text/x-python",
   "name": "python",
   "nbconvert_exporter": "python",
   "pygments_lexer": "ipython3",
   "version": "3.6.10"
  },
  "toc": {
   "base_numbering": 1,
   "nav_menu": {},
   "number_sections": true,
   "sideBar": true,
   "skip_h1_title": false,
   "title_cell": "Table of Contents",
   "title_sidebar": "Contents",
   "toc_cell": false,
   "toc_position": {},
   "toc_section_display": true,
   "toc_window_display": false
  }
 },
 "nbformat": 4,
 "nbformat_minor": 5
}
