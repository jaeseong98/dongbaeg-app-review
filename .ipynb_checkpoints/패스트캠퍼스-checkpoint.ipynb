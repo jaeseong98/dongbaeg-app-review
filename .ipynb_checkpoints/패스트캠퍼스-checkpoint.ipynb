{
 "cells": [
  {
   "cell_type": "code",
   "execution_count": 72,
   "id": "4969d1b7",
   "metadata": {},
   "outputs": [],
   "source": [
    "from konlpy.tag import Kkma\n",
    "from konlpy.tag import Komoran\n",
    "from konlpy.tag import Hannanum\n",
    "import MeCab\n",
    "\n",
    "#윈도우 mecab 불러오기\n",
    "\n",
    "\n",
    "from konlpy.tag import Okt\n",
    "import re\n",
    "\n",
    "# 형태소 분석을 위한 객체 생성\n",
    "\n",
    "kkma = Kkma()\n",
    "komoran = Komoran()\n",
    "hannanum = Hannanum()\n",
    "mecab = MeCab.Tagger()\n",
    "okt = Okt()"
   ]
  },
  {
   "cell_type": "code",
   "execution_count": 73,
   "id": "b2e16b83",
   "metadata": {},
   "outputs": [],
   "source": [
    "import os\n",
    "import sys\n",
    "import urllib.request\n",
    "import requests\n",
    "\n",
    "news_data = []\n",
    "page_count = 3\n",
    "\n",
    "\n",
    "client_id = \"V0kdD0OZOywdoqKK8AT8\"\n",
    "client_secret = \"p9MgPFNYk8\"\n",
    "encText = urllib.parse.quote(\"파이썬\")\n",
    "\n",
    "for idx in range(page_count):\n",
    "    url = \"https://openapi.naver.com/v1/search/news?query=\" + encText + \"&start=\"+ str(idx*10 +1)# json 결과\n",
    "    # url = \"https://openapi.naver.com/v1/search/blog.xml?query=\" + encText # xml 결과\n",
    "\n",
    "    request = urllib.request.Request(url)\n",
    "    request.add_header(\"X-Naver-Client-Id\",client_id)\n",
    "    request.add_header(\"X-Naver-Client-Secret\",client_secret)\n",
    "    response = urllib.request.urlopen(request)\n",
    "    rescode = response.getcode()\n",
    "\n",
    "    if(rescode==200):\n",
    "    #    response_body = response.read()\n",
    "        result = requests.get(response.geturl(),\n",
    "                              headers={\"X-Naver-Client-Id\":client_id,\n",
    "                                       \"X-Naver-Client-Secret\":client_secret}\n",
    "                             )\n",
    "        news_data.append(result.json())\n",
    "    #    print(response_body.decode('utf-8'))\n",
    "    else:\n",
    "        print(\"Error Code:\" + rescode)"
   ]
  },
  {
   "cell_type": "code",
   "execution_count": 74,
   "id": "f5e8ceb4",
   "metadata": {},
   "outputs": [
    {
     "data": {
      "text/plain": [
       "[{'lastBuildDate': 'Sat, 24 Jul 2021 15:52:36 +0900',\n",
       "  'total': 10845,\n",
       "  'start': 1,\n",
       "  'display': 10,\n",
       "  'items': [{'title': '[교육소식] 경남지역 대학교 총장-경남교육감 간담회 개최…지역대학 위기 극...',\n",
       "    'originallink': 'http://www.kukinews.com/newsView/kuk202107230225',\n",
       "    'link': 'http://www.kukinews.com/newsView/kuk202107230225',\n",
       "    'description': '이번 교육과정은 ▲<b>파이썬</b>과 데이터 분석 기초 ▲코로나19 데이터 분석 ▲국민건강보험 처방 데이터를 통한... 인제대는 이번 교육을 통해 교육생들이 아나콘다, <b>파이썬</b>, 판다스 등 데이터 과학 및 머신러닝에서 많이... ',\n",
       "    'pubDate': 'Fri, 23 Jul 2021 18:20:00 +0900'},\n",
       "   {'title': '“코딩 교육 과정의 빈 공간에 ‘사다리’를 놓습니다”',\n",
       "    'originallink': 'http://edu.chosun.com/site/data/html_dir/2021/07/23/2021072301667.html',\n",
       "    'link': 'http://edu.chosun.com/site/data/html_dir/2021/07/23/2021072301667.html',\n",
       "    'description': '두 회사는 최근 많은 글로벌 IT 기업에서 사용하는 프로그래밍 언어 <b>파이썬</b>을 코딩 입문자도 손쉽게 배울 수... -올해 씨엠에스에듀와 유니티 코리아는 프로그래밍 언어인 <b>파이썬</b>을 배울 수 있는 코딩 교육 프로그램 코드... ',\n",
       "    'pubDate': 'Fri, 23 Jul 2021 17:00:00 +0900'},\n",
       "   {'title': '인제대 빅드림웰바이오사업단, 바이오 클러스터 AI교육 실시',\n",
       "    'originallink': 'http://www.cnbnews.com/news/article.html?no=503351',\n",
       "    'link': 'http://www.cnbnews.com/news/article.html?no=503351',\n",
       "    'description': '이번 교육과정은 ▲<b>파이썬</b>과 데이터 분석 기초 ▲코로나19 데이터 분석 ▲국민건강보험 처방 데이터를 통한... 인제대는 이번 교육을 통해 교육생들이 아나콘다, <b>파이썬</b>, 판다스 등 데이터 과학 및 머신러닝에서 많이... ',\n",
       "    'pubDate': 'Fri, 23 Jul 2021 14:58:00 +0900'},\n",
       "   {'title': '인제대 빅드림웰바이오사업단, 바이오 클러스터 AI교육 실시',\n",
       "    'originallink': 'http://www.kookje.co.kr/news2011/asp/newsbody.asp?code=0300&key=20210723.99099006578',\n",
       "    'link': 'http://www.kookje.co.kr/news2011/asp/newsbody.asp?code=0300&key=20210723.99099006578',\n",
       "    'description': '이번 교육과정은 ▲ <b>파이썬</b>과 데이터 분석 기초 ▲ 코로나19 데이터 분석 ▲ 국민건강보험 처방 데이터를... 인제대는 이번 교육을 통해 교육생들이 아나콘다, <b>파이썬</b>, 판다스 등 데이터 과학 및 머신러닝에서 많이... ',\n",
       "    'pubDate': 'Fri, 23 Jul 2021 13:40:00 +0900'},\n",
       "   {'title': '‘소수의 영웅적 활동 넘어서게’··· 렉스마크의 데이터 혁신 여정',\n",
       "    'originallink': 'http://www.ciokorea.com/news/202239',\n",
       "    'link': 'http://www.ciokorea.com/news/202239',\n",
       "    'description': 'DS&amp;A 팀은 렉스마크의 데이터 영웅을 파악하여 발전시키는 일과 마이크로소프트 엑셀 및 VBA 툴을 R, <b>파이썬</b>과 같은 툴로 대체시키는 일에 전념했다. 코프는 “당사의 데이터 관리 기술 또는 기능 측면은 모두 이... ',\n",
       "    'pubDate': 'Fri, 23 Jul 2021 12:22:00 +0900'},\n",
       "   {'title': '[HotJobs100] 비즈니스피플이 엄선한 오늘의 경력직 채용-7월23일',\n",
       "    'originallink': 'https://www.businesspost.co.kr/BP?command=article_view&num=242259',\n",
       "    'link': 'https://www.businesspost.co.kr/BP?command=article_view&num=242259',\n",
       "    'description': '데이터분석과 고객관계관리(CRM) 경력이 3년 이상이고 데이터분석 및 시각화 도구(Tool)인 시퀄(SQL), <b>파이썬</b>(Python), 알(R), 구글 애널리틱스(GA) 등을 활용할 수 있는 사람에게 지원자격이 주어진다. 대량의 데이터베이스... ',\n",
       "    'pubDate': 'Fri, 23 Jul 2021 11:54:00 +0900'},\n",
       "   {'title': '[지역대학 신설학과 릴레이 인터뷰] &lt;1&gt; 영진전문대 미래자동차전자과 김재완...',\n",
       "    'originallink': 'https://www.yeongnam.com/web/view.php?key=20210720010002518',\n",
       "    'link': 'https://www.yeongnam.com/web/view.php?key=20210720010002518',\n",
       "    'description': '미래 자동차에 필요한 <b>파이썬</b>, C프로그래밍등의 프로그래밍 언어, 자율주행을 위한 영상인식과 AI 딥러닝 등을 교육한다. 또 한편으로는 미래자동차의 중심이 비록 소프트웨어이지만, 여전히 바퀴로 이동한다는 측면에서... ',\n",
       "    'pubDate': 'Fri, 23 Jul 2021 10:58:00 +0900'},\n",
       "   {'title': '[이소영의 다음 인재] 이 시대가 원하는 진짜 인재상은? | 머리 좋고 공부 잘...',\n",
       "    'originallink': 'http://topclass.chosun.com/topp/view.asp?idx=832&Newsnumb=202107832&ctcd=C37',\n",
       "    'link': 'http://topclass.chosun.com/topp/view.asp?idx=832&Newsnumb=202107832&ctcd=C37',\n",
       "    'description': '오픈소스 커뮤니티 오픈스택 홈페이지 ⓒ오픈스택 우분투(Ubuntu, http://ubuntu.org), <b>파이썬</b>(Python, http://www.python.... 주로 8월 15일 광복절을 전후로 2~3일간 코엑스에서 열리는 한국 <b>파이썬</b> 커뮤니티의 파이콘 행사에 한번... ',\n",
       "    'pubDate': 'Fri, 23 Jul 2021 10:36:00 +0900'},\n",
       "   {'title': \"고려사이버대, '군위탁 전형' 통해 군인·군무원 자기계발 돕는다\",\n",
       "    'originallink': 'http://www.kyosu.net/news/articleView.html?idxno=72768',\n",
       "    'link': 'http://www.kyosu.net/news/articleView.html?idxno=72768',\n",
       "    'description': \"머신러닝 기반의 빅데이터 기획, 처리, 분석, 활용으로 이어지는 종합적인 교육과정과 <b>파이썬</b>, 케라스 등 인공지능 개발 도구를 활용한 실무 프로젝트를 진행한다. 또한 미래 시대에 필요한 커리큘럼의 '융합전공... \",\n",
       "    'pubDate': 'Fri, 23 Jul 2021 10:26:00 +0900'},\n",
       "   {'title': '전남지역목포대사업단, 전남지역 여중고생과 Girls’Engineering Week 성황리...',\n",
       "    'originallink': 'https://www.siminilbo.co.kr/news/newsview.php?ncode=1065603773839869',\n",
       "    'link': 'https://www.siminilbo.co.kr/news/newsview.php?ncode=1065603773839869',\n",
       "    'description': '(건축) ▲<b>파이썬</b>으로 게임 제작(컴퓨터) ▲3D 모델링과 프린팅(제어로봇) ▲너와 나의 연결다리(토목) ▲<b>파이썬</b>으로 게임 제작(컴퓨터)을 진행했으며, 학과소개 및 실험·실습 위주의 체험활동과 공과대학 Lab Tour 및... ',\n",
       "    'pubDate': 'Fri, 23 Jul 2021 10:16:00 +0900'}]},\n",
       " {'lastBuildDate': 'Sat, 24 Jul 2021 15:52:36 +0900',\n",
       "  'total': 10845,\n",
       "  'start': 11,\n",
       "  'display': 10,\n",
       "  'items': [{'title': '인제대 빅드림웰바이오사업단, 바이오 클러스터 AI교육 실시',\n",
       "    'originallink': 'http://news.mt.co.kr/mtview.php?no=2021072309157455064',\n",
       "    'link': 'https://news.naver.com/main/read.naver?mode=LSD&mid=sec&sid1=102&oid=008&aid=0004620810',\n",
       "    'description': '이번 교육과정은 △<b>파이썬</b>과 데이터 분석 기초 △코로나19 데이터 분석 △국민건강보험 처방 데이터를 통한... 인제대는 이번 교육을 통해 교육생들이 아나콘다, <b>파이썬</b>, 판다스 등 데이터 과학·머신러닝에서 많이... ',\n",
       "    'pubDate': 'Fri, 23 Jul 2021 09:38:00 +0900'},\n",
       "   {'title': '인제대 빅드림웰바이오사업단, 바이오 클러스터 AI교육 실시',\n",
       "    'originallink': 'http://www.busan.com/view/busan/view.php?code=2021072309200763876',\n",
       "    'link': 'https://news.naver.com/main/read.naver?mode=LSD&mid=sec&sid1=102&oid=082&aid=0001108872',\n",
       "    'description': '이번 교육과정은 ▲ <b>파이썬</b>과 데이터 분석 기초 ▲ 코로나19 데이터 분석 ▲ 국민건강보험 처방 데이터를... 인제대는 이번 교육을 통해 교육생들이 아나콘다, <b>파이썬</b>, 판다스 등 데이터 과학 및 머신러닝에서 많이 사용하는... ',\n",
       "    'pubDate': 'Fri, 23 Jul 2021 09:21:00 +0900'},\n",
       "   {'title': '인제대 빅드림웰바이오사업단, 바이오 클러스터 AI교육 실시',\n",
       "    'originallink': 'http://www.kyosu.net/news/articleView.html?idxno=72740',\n",
       "    'link': 'http://www.kyosu.net/news/articleView.html?idxno=72740',\n",
       "    'description': '이번 교육과정은 ▲ <b>파이썬</b>과 데이터 분석 기초 ▲ 코로나19 데이터 분석 ▲ 국민건강보험 처방 데이터를... 인제대는 이번 교육을 통해 교육생들이 아나콘다, <b>파이썬</b>, 판다스 등 데이터 과학 및 머신러닝에서 많이... ',\n",
       "    'pubDate': 'Fri, 23 Jul 2021 09:12:00 +0900'},\n",
       "   {'title': \"[기고] 초보자도 쉽게 사용 가능한 AI 보드, '라즈베리파이 피코'\",\n",
       "    'originallink': 'http://www.epnc.co.kr/news/articleView.html?idxno=212723',\n",
       "    'link': 'http://www.epnc.co.kr/news/articleView.html?idxno=212723',\n",
       "    'description': '[그림 4] 개발언어는 마이크로<b>파이썬</b>(MicroPython)과 C을 지원해, 초급 학습자부터 고급 개발자까지 다양한 범위의 사용자들이 활용할 수 있도록 했다. 고급 사용자들을 위해 C SDK(Software Development Kit), GCC... ',\n",
       "    'pubDate': 'Fri, 23 Jul 2021 09:00:00 +0900'},\n",
       "   {'title': '예스24 &quot;MZ세대 직장생활 관련 도서 구매율 꾸준히 증가&quot;',\n",
       "    'originallink': 'http://www.lecturernews.com/news/articleView.html?idxno=72184',\n",
       "    'link': 'http://www.lecturernews.com/news/articleView.html?idxno=72184',\n",
       "    'description': \"<b>파이썬</b> 활용법을 담은 '6개월 치 업무를 하루 만에 끝내는 업무 자동화'나 개발자들과의 협업 노하우를 풀어낸 '오늘도 개발자가 안 된다고 말했다' 등이 상반기 베스트셀러에 올랐고 IT 시대의 필수 교양서... \",\n",
       "    'pubDate': 'Thu, 22 Jul 2021 19:00:00 +0900'},\n",
       "   {'title': \"K-MOOC 우수강의 '블루리본' 15개대 30개강좌 선정.. 이대7개 '최다' 동국대/...\",\n",
       "    'originallink': 'http://www.veritas-a.com/news/articleView.html?idxno=378382',\n",
       "    'link': 'http://www.veritas-a.com/news/articleView.html?idxno=378382',\n",
       "    'description': \"개론) △한동대(<b>파이썬</b>으로 배우는 기계학습 입문) △이화여대(동물의 행동) △제주대(학교에서의... (포스텍/유환조) ▲16위 '<b>파이썬</b> 프로그래밍' 1만694명 (한동대/김경미) ▲17위 '상담학 들어가기' 1만612명... \",\n",
       "    'pubDate': 'Thu, 22 Jul 2021 19:00:00 +0900'},\n",
       "   {'title': \"취업부터 퇴사까지…'책'에서 찾는 MZ세대\",\n",
       "    'originallink': 'http://www.dynews.co.kr/news/articleView.html?idxno=638807',\n",
       "    'link': 'http://www.dynews.co.kr/news/articleView.html?idxno=638807',\n",
       "    'description': '또 <b>파이썬</b>(오픈소스 고급 프로그래밍 언어) 활용법을 담은 나 개발자들과의 협업 노하우를 풀어낸 등이 상반기 베스트셀러에 올랐고 IT 시대의 필수 교양서 은 예스24 IT 모바일 분야 베스트셀러 20위권에 무려 52주간... ',\n",
       "    'pubDate': 'Thu, 22 Jul 2021 18:56:00 +0900'},\n",
       "   {'title': \"MZ세대, 직장생활 '책'으로 배운다\",\n",
       "    'originallink': 'http://www.womentimes.co.kr/news/articleView.html?idxno=53302',\n",
       "    'link': 'http://www.womentimes.co.kr/news/articleView.html?idxno=53302',\n",
       "    'description': \"<b>파이썬</b> 활용법을 담은 '6개월 치 업무를 하루 만에 끝내는 업무 자동화'나 개발자들과의 협업 노하우를 풀어낸 '오늘도 개발자가 안 된다고 말했다' 등은 상반기 베스트셀러를 차지했고,\\xa0 '비전공자를 위한 이해할 수... \",\n",
       "    'pubDate': 'Thu, 22 Jul 2021 18:14:00 +0900'},\n",
       "   {'title': 'WISET 전남지역목포대사업단, 두근두근 공학소녀 페스티벌 성황리 개최',\n",
       "    'originallink': 'http://www.enewstoday.co.kr/news/articleView.html?idxno=1498490',\n",
       "    'link': 'http://www.enewstoday.co.kr/news/articleView.html?idxno=1498490',\n",
       "    'description': '(건축) ▲<b>파이썬</b>으로 게임 제작(컴퓨터) ▲3D 모델링과 프린팅(제어로봇) ▲너와 나의 연결다리(토목) ▲<b>파이썬</b>으로 게임 제작(컴퓨터)을 진행했으며, 학과소개 및 실험·실습 위주의 체험활동과 공과대학 Lab Tour 및... ',\n",
       "    'pubDate': 'Thu, 22 Jul 2021 17:23:00 +0900'},\n",
       "   {'title': \"WISET 전남지역목포대사업단, 전남지역 여중고생과 Girls'Engineering Week 성...\",\n",
       "    'originallink': 'http://www.newsworker.co.kr/news/articleView.html?idxno=123271',\n",
       "    'link': 'http://www.newsworker.co.kr/news/articleView.html?idxno=123271',\n",
       "    'description': '(건축) ▲<b>파이썬</b>으로 게임 제작(컴퓨터) ▲3D 모델링과 프린팅(제어로봇) ▲너와 나의 연결다리(토목) ▲<b>파이썬</b>으로 게임 제작(컴퓨터)을 진행했으며, 학과소개 및 실험·실습 위주의 체험활동과 공과대학 Lab Tour 및... ',\n",
       "    'pubDate': 'Thu, 22 Jul 2021 17:08:00 +0900'}]},\n",
       " {'lastBuildDate': 'Sat, 24 Jul 2021 15:52:37 +0900',\n",
       "  'total': 10845,\n",
       "  'start': 21,\n",
       "  'display': 10,\n",
       "  'items': [{'title': '강남 이젠아카데미컴퓨터학원, AI 시대 K-Digital Training(케이 디지털 트레...',\n",
       "    'originallink': 'http://www.lecturernews.com/news/articleView.html?idxno=72165',\n",
       "    'link': 'http://www.lecturernews.com/news/articleView.html?idxno=72165',\n",
       "    'description': '■ AI를 활용, 개발하기 위한 지식 AI 인공지능 서비스를 개발하기 위한 지식은 <b>파이썬</b>, 빅데이터, AI... (keras), <b>파이썬</b>(Python)), AI 서비스 프론트 개발, Github 협업 시스템의 이해, <b>파이썬</b>(Python)활용, 머신러닝과 딥러닝... ',\n",
       "    'pubDate': 'Thu, 22 Jul 2021 17:00:00 +0900'},\n",
       "   {'title': \"컴퓨터학원 '대전둔산 그린컴퓨터아트학원', 자바·<b>파이썬</b> 개발자 실무과정 운...\",\n",
       "    'originallink': 'http://www.datanet.co.kr/news/articleView.html?idxno=162294',\n",
       "    'link': 'http://www.datanet.co.kr/news/articleView.html?idxno=162294',\n",
       "    'description': '자바와 <b>파이썬</b>은 세계에서 가장 많이 쓰이는 프로그래밍 언어다. 특히\\xa0자바는 애플리케이션 개발에서, <b>파이썬</b>은 데이터 과학 부문에서 빼놓을 수 없을 만큼 위상이 높다. 때문에 입문자들이 첫 프로그래밍 언어로 주로... ',\n",
       "    'pubDate': 'Thu, 22 Jul 2021 16:50:00 +0900'},\n",
       "   {'title': \"목포대 WISET 전남지역목포대사업단, 전남지역 여중고생과 Girls'Engineering...\",\n",
       "    'originallink': 'http://www.veritas-a.com/news/articleView.html?idxno=378357',\n",
       "    'link': 'http://www.veritas-a.com/news/articleView.html?idxno=378357',\n",
       "    'description': '(건축) ▲<b>파이썬</b>으로 게임 제작(컴퓨터) ▲3D 모델링과 프린팅(제어로봇) ▲너와 나의 연결다리(토목) ▲<b>파이썬</b>으로 게임 제작(컴퓨터)을 진행했으며, 학과소개 및 실험/실습 위주의 체험활동과 공과대학 Lab Tour 및... ',\n",
       "    'pubDate': 'Thu, 22 Jul 2021 16:12:00 +0900'},\n",
       "   {'title': \"WISET 전남지역'목포대'사업단, 전남지역 여중고생과 Girls'Engineering Week...\",\n",
       "    'originallink': 'http://www.kyosu.net/news/articleView.html?idxno=72709',\n",
       "    'link': 'http://www.kyosu.net/news/articleView.html?idxno=72709',\n",
       "    'description': '(건축) ▲<b>파이썬</b>으로 게임 제작(컴퓨터) ▲3D 모델링과 프린팅(제어로봇) ▲너와 나의 연결다리(토목) ▲<b>파이썬</b>으로 게임 제작(컴퓨터)을 진행했으며, 학과소개 및 실험·실습 위주의 체험활동과 공과대학 Lab Tour 및... ',\n",
       "    'pubDate': 'Thu, 22 Jul 2021 16:02:00 +0900'},\n",
       "   {'title': \"취업부터 퇴사까지… 선배도 안 알려 준 고급 정보, '책'에서 찾는 MZ세대\",\n",
       "    'originallink': 'http://ch.yes24.com/Article/View/45426',\n",
       "    'link': 'http://ch.yes24.com/Article/View/45426',\n",
       "    'description': '<b>파이썬</b> 활용법을 담은\\xa0『6개월 치 업무를 하루 만에 끝내는 업무 자동화』나 개발자들과의 협업 노하우를 풀어낸\\xa0『오늘도 개발자가 안 된다고 말했다』\\xa0등이 상반기 베스트셀러에 올랐고 IT 시대의 필수 교양서... ',\n",
       "    'pubDate': 'Thu, 22 Jul 2021 15:20:00 +0900'},\n",
       "   {'title': '어디로 튈 지 모르는 MZ세대, 직장생활·사람관계·퇴사 팁…선배 아닌 OO에서...',\n",
       "    'originallink': 'https://magazine.hankyung.com/job-joy/article/202107220900d',\n",
       "    'link': 'https://magazine.hankyung.com/job-joy/article/202107220900d',\n",
       "    'description': '<b>파이썬</b> 활용법을 담은 &lt;6개월 치 업무를 하루 만에 끝내는 업무 자동화&gt;나 개발자들과의 협업 노하우를 풀어낸 &lt;오늘도 개발자가 안 된다고 말했다&gt; 등이 상반기 베스트셀러에 올랐고 IT 시대의 필수 교양서 &lt;비전공자를... ',\n",
       "    'pubDate': 'Thu, 22 Jul 2021 15:04:00 +0900'},\n",
       "   {'title': \"에듀윌 국비교육원 구로센터, 제대군인 지원 '빅데이터 실무자 과정' 개강\",\n",
       "    'originallink': 'http://www.datanews.co.kr/news/article.html?no=114126',\n",
       "    'link': 'http://www.datanews.co.kr/news/article.html?no=114126',\n",
       "    'description': '솔루션 운용과 더불어 빅데이터 분석에 필요한 <b>파이썬</b> 프로그램밍에 대한 기초 이론 및 예제에 대한 실무를 배운다. RPA의 시각적 효과를 반영할 수 있는 HTML, 자바스크립트 등을 실무 단계까지 학습하도록 구성됐다. 해당... ',\n",
       "    'pubDate': 'Thu, 22 Jul 2021 13:22:00 +0900'},\n",
       "   {'title': '[HotJobs100] 비즈니스피플이 엄선한 오늘의 경력직 채용-7월22일',\n",
       "    'originallink': 'https://www.businesspost.co.kr/BP?command=article_view&num=242054',\n",
       "    'link': 'https://www.businesspost.co.kr/BP?command=article_view&num=242054',\n",
       "    'description': '데이터 거버넌스(Data Governance) 정책(Guideline) 업무를 경험한 사람, 데이터 품질 관리·정책을 경험한 사람, 데이터 처리를 위한 자바(Java), <b>파이썬</b>(Python) 등으로 프로그래밍을 할 수 있는 사람은 우대한다. 접수기간은... ',\n",
       "    'pubDate': 'Thu, 22 Jul 2021 12:04:00 +0900'},\n",
       "   {'title': 'KG에듀원 내일배움, 주택관리사 최단기과정 최대국비지원 제공',\n",
       "    'originallink': 'http://www.gosiweek.com/17154',\n",
       "    'link': 'http://www.gosiweek.com/17154',\n",
       "    'description': '재경관리사, <b>파이썬</b> 프로그래밍, 품질경영기사, 대기환경기사, 수질환경기사, 사회복지사 1급, 직업상담사 등 취업에 직접적으로 도움이 되는 자격증이다. \\xa0 더 자세한 내용은 KG에듀원 내일배움 홈페이지를 통해 확인할... ',\n",
       "    'pubDate': 'Thu, 22 Jul 2021 12:02:00 +0900'},\n",
       "   {'title': \"취업부터 퇴사까지…직장 정보 '책'에서 찾는 MZ세대\",\n",
       "    'originallink': 'https://www.dailian.co.kr/news/view/1014179/?sc=Naver',\n",
       "    'link': 'https://news.naver.com/main/read.naver?mode=LSD&mid=sec&sid1=103&oid=119&aid=0002513418',\n",
       "    'description': \"<b>파이썬</b> 활용법을 담은 '6개월 치 업무를 하루 만에 끝내는 업무 자동화'나 개발자들과의 협업 노하우를 풀어낸 '오늘도 개발자가 안 된다고 말했다' 등이 상반기 베스트셀러에 올랐고, IT 시대의 필수 교양서 '비전공자를... \",\n",
       "    'pubDate': 'Thu, 22 Jul 2021 10:28:00 +0900'}]}]"
      ]
     },
     "execution_count": 74,
     "metadata": {},
     "output_type": "execute_result"
    }
   ],
   "source": [
    "news_data"
   ]
  },
  {
   "cell_type": "code",
   "execution_count": 75,
   "id": "17969ebf",
   "metadata": {},
   "outputs": [],
   "source": [
    "naver_news_link = []\n",
    "\n",
    "for page in news_data:\n",
    "\n",
    "    page_news_link = []\n",
    "\n",
    "    for item in page['items']:\n",
    "        link = item['link']\n",
    "        if \"naver\" in link:\n",
    "            page_news_link.append(link)\n",
    "    naver_news_link.append(page_news_link)"
   ]
  },
  {
   "cell_type": "code",
   "execution_count": 76,
   "id": "5a337e55",
   "metadata": {},
   "outputs": [],
   "source": [
    "with open(\"naver_news_title.pk\",\"wb\") as f:\n",
    "    pickle.dump(naver_news_title, f)\n",
    "    \n",
    "with open(\"naver_news_content.pk\",\"wb\") as f:\n",
    "    pickle.dump(naver_news_content, f)"
   ]
  },
  {
   "cell_type": "code",
   "execution_count": 77,
   "id": "5aafc3d4",
   "metadata": {},
   "outputs": [],
   "source": [
    "import pandas as pd\n",
    "import numpy as np\n",
    "from selenium import webdriver\n",
    "from tqdm import tqdm_notebook\n",
    "import requests\n",
    "import pickle\n",
    "import re\n",
    "import ast\n",
    "\n",
    "from bs4 import BeautifulSoup \n",
    "from urllib.request import urlopen\n",
    "import urllib\n",
    "import time"
   ]
  },
  {
   "cell_type": "code",
   "execution_count": 78,
   "id": "7f13e65f",
   "metadata": {},
   "outputs": [],
   "source": [
    "driver = webdriver.Chrome('d:/chromedriver/chromedriver.exe')"
   ]
  },
  {
   "cell_type": "code",
   "execution_count": 79,
   "id": "53721a09",
   "metadata": {},
   "outputs": [
    {
     "data": {
      "application/vnd.jupyter.widget-view+json": {
       "model_id": "5a77fb827f55467c96473956b3cf23fc",
       "version_major": 2,
       "version_minor": 0
      },
      "text/plain": [
       "  0%|          | 0/3 [00:00<?, ?it/s]"
      ]
     },
     "metadata": {},
     "output_type": "display_data"
    },
    {
     "data": {
      "application/vnd.jupyter.widget-view+json": {
       "model_id": "9552183d27de460291855e2f82a1c2ae",
       "version_major": 2,
       "version_minor": 0
      },
      "text/plain": [
       "0it [00:00, ?it/s]"
      ]
     },
     "metadata": {},
     "output_type": "display_data"
    },
    {
     "data": {
      "application/vnd.jupyter.widget-view+json": {
       "model_id": "fb80fad88c8245b0a919d0830bbc953c",
       "version_major": 2,
       "version_minor": 0
      },
      "text/plain": [
       "  0%|          | 0/2 [00:00<?, ?it/s]"
      ]
     },
     "metadata": {},
     "output_type": "display_data"
    },
    {
     "name": "stdout",
     "output_type": "stream",
     "text": [
      "https://news.naver.com/main/read.naver?mode=LSD&mid=sec&sid1=102&oid=008&aid=0004620810\n",
      "https://news.naver.com/main/read.naver?mode=LSD&mid=sec&sid1=102&oid=082&aid=0001108872\n"
     ]
    },
    {
     "data": {
      "application/vnd.jupyter.widget-view+json": {
       "model_id": "fc4d987c81014f8a8ec277fb09879da6",
       "version_major": 2,
       "version_minor": 0
      },
      "text/plain": [
       "  0%|          | 0/1 [00:00<?, ?it/s]"
      ]
     },
     "metadata": {},
     "output_type": "display_data"
    },
    {
     "name": "stdout",
     "output_type": "stream",
     "text": [
      "https://news.naver.com/main/read.naver?mode=LSD&mid=sec&sid1=103&oid=119&aid=0002513418\n",
      "[]\n",
      "================================\n",
      "[]\n"
     ]
    }
   ],
   "source": [
    "naver_news_title = []\n",
    "naver_news_content = []\n",
    "\n",
    "for n in tqdm_notebook(range(len(naver_news_link))):\n",
    "    news_page_title = []\n",
    "    news_page_content = []\n",
    "    \n",
    "    for idx in tqdm_notebook(range(len(naver_news_link[n]))):\n",
    "        \n",
    "        \n",
    "        try :\n",
    "            driver.get(naver_news_link[n][idx])\n",
    "            print(naver_news_link[n][idx])\n",
    "            \n",
    "        except :\n",
    "            print(\"Timeout!\")\n",
    "            continue\n",
    "            \n",
    "        try:\n",
    "            response = driver.page_source\n",
    "            \n",
    "        except UnexpectedAlertPresentException:\n",
    "            driver.switch_to_alert().accept()\n",
    "            print(\"게시글이 삭제된 경우입니다\")\n",
    "            continue\n",
    "            \n",
    "        soup = BeautifulSoup(response, \"html.parser\")\n",
    "        \n",
    "        title = None\n",
    "        \n",
    "        try:\n",
    "            item = soup.find('div', class_ = \"article_info\")\n",
    "            title = item.find('h3', class_ = \"tta_head\").get_text()\n",
    "            \n",
    "        except:\n",
    "            title = \"OUTLINK\"\n",
    "            \n",
    "        news_page_title.append(title)\n",
    "        \n",
    "        \n",
    "        doc = None\n",
    "        text = \"\"\n",
    "        \n",
    "        data = soup.find_all(\"div\",{\"class\":\"_article_body_contents\"})\n",
    "        if data:\n",
    "            for item in data:\n",
    "                \n",
    "                text = text + str(item.find_all(text = True)).strip()\n",
    "                text = ast.literal_eval(text)\n",
    "                doc = ' '.join(text)\n",
    "                \n",
    "        else:\n",
    "            doc = \"OUTLINK\"\n",
    "        \n",
    "        news_page_content.append(doc.replace('\\n',' '))\n",
    "        \n",
    "    naver_news_title.append(news_page_title)\n",
    "    naver_news_content.append(news_page_content)\n",
    "    \n",
    "    time.sleep(2)\n",
    "print(naver_news_title[0])\n",
    "print(\"================================\")\n",
    "print(naver_news_content[0])\n",
    "      "
   ]
  },
  {
   "cell_type": "code",
   "execution_count": 80,
   "id": "ef4ebdeb",
   "metadata": {},
   "outputs": [],
   "source": [
    "def mecab_nouns(text):\n",
    "    nouns = []\n",
    "    \n",
    "    # 우리가 원하는 TOKEN\\tPOS의 형태를 추출하는 정규표현식.\n",
    "    pattern = re.complie(\".*\\t[A-Z]+\")\n",
    "    \n",
    "    # 패턴에 맞는 문자열을 추출하여 konlpy의 mecab 결과와 같아지도록 수정.\n",
    "    temp = [tuple(pattern.match(token).group(0).split(\"\\t\")) for token in mecab.parse(text).splitlines()[:-1]] \n",
    "    \n",
    "    # 추출한 token중에 POS가 명사 분류에 속하는 토큰만 선택.\n",
    "    for token in temp:\n",
    "        if token[1] == \"NNG\" or token[1] == \"NNP\" or token[1] == \"NNB\" or token[1] == \"NNBC\" or token[1] == \"NP\" or token[1] == \"NR\":\n",
    "            nouns.append(token[0])\n",
    "    return nouns\n",
    "\n",
    "def mecab_morphs(text):\n",
    "    morphs = []\n",
    "    \n",
    "    # 우리가 원하는 TOKEN\\tPOS의 형태를 추출하는 정규표현식.\n",
    "    pattern = re.complie(\".*\\t[A-Z]+\")\n",
    "    \n",
    "    # 패턴에 맞는 문자열을 추출하여 konlpy의 mecab 결과와 같아지도록 수정.\n",
    "    temp = [tuple(pattern.match(token).group(0).split(\"\\t\")) for token in mecab.parse(text).splitlines()[:-1]]    \n",
    "    # 추출한 token중에 문자열만 선택.\n",
    "    for token in temp:\n",
    "        morphs.append(token[0])\n",
    "    return morphs\n",
    "\n",
    "def mecab_pos(text):\n",
    "    pos = []\n",
    "    # 우리가 원하는 TOKEN\\tPOS의 형태를 추출하는 정규표현식.\n",
    "    pattern = re.compile(\".*\\t[A-Z]+\")\n",
    "    \n",
    "    # 패턴에 맞는 문자열을 추출하여 konlpy의 mecab 결과와 같아지도록 수정.\n",
    "    pos = [tuple(pattern.match(token).group(0).split(\"\\t\")) for token in mecab.parse(text).splitlines()[:-1]]   \n",
    "    return pos"
   ]
  },
  {
   "cell_type": "markdown",
   "id": "04cfff16",
   "metadata": {},
   "source": [
    "# 문장 분석 품질 비교"
   ]
  },
  {
   "cell_type": "code",
   "execution_count": 81,
   "id": "8f39cb36",
   "metadata": {},
   "outputs": [],
   "source": [
    "text = \"아버지가방에들어가신다\""
   ]
  },
  {
   "cell_type": "code",
   "execution_count": 82,
   "id": "bf385c1a",
   "metadata": {},
   "outputs": [
    {
     "data": {
      "text/plain": [
       "['아버지', '가방', '에', '들어가', '시', 'ㄴ다']"
      ]
     },
     "execution_count": 82,
     "metadata": {},
     "output_type": "execute_result"
    }
   ],
   "source": [
    "# 꼬꼬마 형태소 분석 결과\n",
    "## pos = part of speech\n",
    "# kkma.pos(text)\n",
    "kkma.morphs(text)"
   ]
  },
  {
   "cell_type": "code",
   "execution_count": 83,
   "id": "bde8e355",
   "metadata": {},
   "outputs": [
    {
     "data": {
      "text/plain": [
       "[('아버지', 'NNG'),\n",
       " ('가방', 'NNP'),\n",
       " ('에', 'JKB'),\n",
       " ('들어가', 'VV'),\n",
       " ('시', 'EP'),\n",
       " ('ㄴ다', 'EC')]"
      ]
     },
     "execution_count": 83,
     "metadata": {},
     "output_type": "execute_result"
    }
   ],
   "source": [
    "## 코모란 형태소 분석 결과\n",
    "komoran.pos(text)"
   ]
  },
  {
   "cell_type": "code",
   "execution_count": 84,
   "id": "40bdbeb2",
   "metadata": {},
   "outputs": [
    {
     "data": {
      "text/plain": [
       "[('아버지가방에들어가', 'N'), ('이', 'J'), ('시ㄴ다', 'E')]"
      ]
     },
     "execution_count": 84,
     "metadata": {},
     "output_type": "execute_result"
    }
   ],
   "source": [
    "hannanum.pos(text)"
   ]
  },
  {
   "cell_type": "code",
   "execution_count": 85,
   "id": "ac0cec7b",
   "metadata": {
    "scrolled": true
   },
   "outputs": [
    {
     "data": {
      "text/plain": [
       "[('아버지', 'NNG'),\n",
       " ('가', 'JKS'),\n",
       " ('방', 'NNG'),\n",
       " ('에', 'JKB'),\n",
       " ('들어가', 'VV'),\n",
       " ('신다', 'EP')]"
      ]
     },
     "execution_count": 85,
     "metadata": {},
     "output_type": "execute_result"
    }
   ],
   "source": [
    "mecab_pos(text)"
   ]
  },
  {
   "cell_type": "code",
   "execution_count": 86,
   "id": "4ac51982",
   "metadata": {},
   "outputs": [
    {
     "data": {
      "text/plain": [
       "[('아버지', 'Noun'), ('가방', 'Noun'), ('에', 'Josa'), ('들어가신다', 'Verb')]"
      ]
     },
     "execution_count": 86,
     "metadata": {},
     "output_type": "execute_result"
    }
   ],
   "source": [
    "okt.pos(text)"
   ]
  },
  {
   "cell_type": "code",
   "execution_count": 87,
   "id": "7f733335",
   "metadata": {},
   "outputs": [],
   "source": [
    "text2 = \"ㄱㅐㄴㅏ리가 피어있는 동산에 누워있고싶ㄷㅏ\""
   ]
  },
  {
   "cell_type": "code",
   "execution_count": 88,
   "id": "24d462f1",
   "metadata": {},
   "outputs": [
    {
     "name": "stdout",
     "output_type": "stream",
     "text": [
      "코모란 : [('개나리', 'NNP'), ('가', 'JKS'), ('피', 'VV'), ('어', 'EC'), ('있', 'VX'), ('는', 'ETM'), ('동산', 'NNP'), ('에', 'JKB'), ('눕', 'VV'), ('어', 'EC'), ('있', 'VX'), ('고', 'EC'), ('싶', 'VX'), ('다', 'EC')]\n",
      "\n",
      "한나눔 : [('ㄱㅐㄴㅏ리', 'N'), ('가', 'J'), ('피', 'P'), ('어', 'E'), ('있', 'P'), ('는', 'E'), ('동산', 'N'), ('에', 'J'), ('누워있고싶ㄷㅏ', 'N')]\n",
      "\n",
      "mecab : [('ㄱ', 'NNG'), ('ㅐㄴㅏ리가', 'UNKNOWN'), ('피', 'VV'), ('어', 'EC'), ('있', 'VX'), ('는', 'ETM'), ('동산', 'NNG'), ('에', 'JKB'), ('누워', 'VV'), ('있', 'VX'), ('고', 'EC'), ('싶', 'VX'), ('ㄷ', 'NNG'), ('ㅏ', 'UNKNOWN')]\n",
      "\n",
      "Okt : [('ㄱㅐㄴㅏ', 'KoreanParticle'), ('리가', 'Noun'), ('피어있는', 'Verb'), ('동산', 'Noun'), ('에', 'Josa'), ('누워있고싶', 'Verb'), ('ㄷㅏ', 'KoreanParticle')]\n",
      "\n"
     ]
    }
   ],
   "source": [
    "# 꼬꼬마 형태소 결과 출력하기.\n",
    "\n",
    "print(\"코모란 : %s\\n\" % komoran.pos(text2))\n",
    "print(\"한나눔 : %s\\n\" % hannanum.pos(text2))\n",
    "print(\"mecab : %s\\n\" % mecab_pos(text2))\n",
    "print(\"Okt : %s\\n\" % okt.pos(text2))"
   ]
  },
  {
   "cell_type": "code",
   "execution_count": 89,
   "id": "b768c2b2",
   "metadata": {},
   "outputs": [],
   "source": [
    "text3 = \"\"\"5G 이동통신망을 빌려 사용하는 ‘5G 알뜰폰’이 올해 도입되고, 내년부터는 의무화된다.\n",
    "정부는 알뜰폰 사업자(MNVO)가 통신사(MNO)에 통신망을 빌리는 비용(도매대가)을 지난해보다 큰 폭으로 낮춰, 알뜰폰 요금 인하를 유도하기로 했다. 하지만 줄어드는 알뜰폰 시장을 살릴 수 있을지는 지켜봐야 하는 상황이다.\n",
    "과학기술정보통신부는 알뜰폰 활성화 추진대책을 25일 발표했다. 알뜰폰 가입자는 800만명으로 이동통신 시장의 12%를 차지한다. 2011년 출시 뒤 저렴한 요금제로 통신비 부담을 낮춰왔다. 하지만 지난해 5월 통신 3사가 준보편제 요금을 내놓은 이후 알뜰폰 이탈 현상이 지속되고 있다.\n",
    "우선 올해 안에 3개 이상의 5G 알뜰폰이 시장에 나온다. 통신사가 5G망을 알뜰폰 사업자에게 도매 제공할지 여부는 통신사 자율로 정한다. 앞서 LG유플러스는 오는 10월 알뜰폰 사업을 시작하는 KB국민은행에 5G망을 제공한다고 밝힌 바 있다. SK텔레콤와 KT도 특정 제휴사를 선택해 올해 안에 5G 알뜰폰을 내놓기로 했다.\n",
    "내년부터는 5G 알뜰폰 제공이 의무화된다. 지난 22일자로 종료된 도매제공 의무제도의 유효기간을 2022년 9월22일까지 연장하는 전기통신사업법 개정안이 국회에서 통과되면, 관련 고시를 개정해 SK텔레콤의 5G망 도매제공을 의무화하겠다는 것이다.\n",
    "과기정통부 관계자는 “SK텔레콤이 자사와 계약을 맺은 13개 알뜰폰 사업자에게 5G망을 의무 제공하면, 그 외 31개의 알뜰폰 사업자들이 경쟁에서 밀릴 것을 우려해 KT와 LG유플러스도 5G망을 제공하게 될 것”이라고 내다봤다.\n",
    "알뜰폰 사업자가 상품을 만드는 방식 크게 2가지다. 하나는 통신사로부터 음성·문자·데이터를 도매로 사들인 뒤 이를 바탕으로 통신사보다 저렴한 요금제를 내놓는 방식(종량제 도매제공)이다. 이를 위해 정부는 도매대가 인하율을 음성 17.8%, 데이터 19.2%, 단문메시지 1.15%로, 지난해 음성 15.1%, 데이터 19.1%, 단문메시지 1.13%에 비해 높여 잡았다.\n",
    "또 다른 방식은 일정비용을 통신사에 내고 통신사의 정액 요금제를 그대로 판매하면서, 그 차액의 범위에서 저렴한 요금제를 내놓는 방식(수익배분 도매제공)이다. 정부는 SK텔레콤의 준보편 요금제인 ‘T플랜 요금제’를 알뜰폰 사업자가 재판매할 수 있게 했다. 기존에 SK텔레콤이 도매제공했던 ‘밴드데이터 요금제’의 최고구간의 대가도 1.5%포인트 낮췄다.\n",
    "알뜰폰 업계는 대체로 반기는 분위기지만, 알뜰폰 시장을 살릴 수 있을지에는 의구심을 갖고 있다. 업계 관계자는 “도매대가 인하율이 크고, 5G망을 제공하는 것은 긍정적”이라면서도 “수익배분 도매제공의 의무화, 설비를 가진 업체에 대한 접속료 정산 도입 등의 제도적 개선이 필요하다”고 말했다.\"\"\""
   ]
  },
  {
   "cell_type": "code",
   "execution_count": 90,
   "id": "c199245c",
   "metadata": {},
   "outputs": [
    {
     "name": "stdout",
     "output_type": "stream",
     "text": [
      "[('5', 'NR'), ('G', 'OL'), ('이동', 'NNG'), ('통신망', 'NNG'), ('을', 'JKO')]\n",
      "Wall time: 831 ms\n"
     ]
    }
   ],
   "source": [
    "%%time\n",
    "print(kkma.pos(text3)[:5])"
   ]
  },
  {
   "cell_type": "code",
   "execution_count": 91,
   "id": "505420bc",
   "metadata": {},
   "outputs": [
    {
     "name": "stdout",
     "output_type": "stream",
     "text": [
      "[('5', 'SN'), ('G', 'SL'), ('이동', 'NNG'), ('통신망', 'NNG'), ('을', 'JKO')]\n",
      "Wall time: 31.9 ms\n"
     ]
    }
   ],
   "source": [
    "%%time\n",
    "print(komoran.pos(text3)[:5])"
   ]
  },
  {
   "cell_type": "code",
   "execution_count": 92,
   "id": "b419b879",
   "metadata": {},
   "outputs": [
    {
     "name": "stdout",
     "output_type": "stream",
     "text": [
      "[('5G', 'N'), ('이동통신망', 'N'), ('을', 'J'), ('빌리', 'P'), ('어', 'E')]\n",
      "Wall time: 168 ms\n"
     ]
    }
   ],
   "source": [
    "%%time\n",
    "print(hannanum.pos(text3)[:5])"
   ]
  },
  {
   "cell_type": "code",
   "execution_count": 93,
   "id": "dee27cfb",
   "metadata": {},
   "outputs": [
    {
     "name": "stdout",
     "output_type": "stream",
     "text": [
      "[('5', 'SN'), ('G', 'SL'), ('이동', 'NNG'), ('통신망', 'NNG'), ('을', 'JKO')]\n",
      "Wall time: 14 ms\n"
     ]
    }
   ],
   "source": [
    "%%time\n",
    "print(mecab_pos(text3)[:5])"
   ]
  },
  {
   "cell_type": "code",
   "execution_count": 94,
   "id": "4f72e765",
   "metadata": {},
   "outputs": [
    {
     "name": "stdout",
     "output_type": "stream",
     "text": [
      "[('5', 'Number'), ('G', 'Alpha'), ('이', 'Determiner'), ('동', 'Modifier'), ('통신망', 'Noun')]\n",
      "Wall time: 93.7 ms\n"
     ]
    }
   ],
   "source": [
    "%%time\n",
    "print(okt.pos(text3)[:5])"
   ]
  },
  {
   "cell_type": "markdown",
   "id": "77d8dac2",
   "metadata": {},
   "source": [
    "# 형태소 분석기 제작하기\n",
    "\n",
    "> 1. 사용할 형태소 분석기 불러오기(import)\n",
    "\n",
    "> 2. 텍스트 전처리 하기(작업에 따라 다름)\n",
    "\n",
    "> 3. 형태소 / POS tagging 하기"
   ]
  },
  {
   "cell_type": "code",
   "execution_count": 95,
   "id": "0d3679f5",
   "metadata": {},
   "outputs": [],
   "source": [
    "def text_cleaning(doc):\n",
    "    # 한국어를 제외한 글자를 제거하는 함수.\n",
    "    doc = re.sub(\"[^ㄱ_ㅎㅏ_ㅣ가_힣 ]\",\"\", doc)\n",
    "    return doc\n",
    "\n",
    "def define_stopwords(path):\n",
    "    \n",
    "    SW = set()\n",
    "    # 불용어를 추가하는 방법 1.\n",
    "    SW.add(\"있다\")\n",
    "    \n",
    "    \n",
    "    # 불용어를 추가하는 방법 2.\n",
    "    # stopword-ko.txt에 직접 추가하기\n",
    "    \n",
    "    \n",
    "    with open(path) as f:\n",
    "        for word in f:\n",
    "            SW.add(word)\n",
    "            \n",
    "    return SW\n",
    "\n",
    "def text_tokenizing(doc):\n",
    "    \n",
    "    # list comprehension을 풀어서 쓴 코드.\n",
    "#     tokenized_doc = []\n",
    "    \n",
    "#     for word in mecab.morphs(doc):\n",
    "#         if word not in SW and len(word) > 1:\n",
    "#             tokenized_doc.append(word)\n",
    "            \n",
    "#     return tokenized_doc\n",
    "    \n",
    "    \n",
    "    \n",
    "    \n",
    "    \n",
    "    \n",
    "    return [word for word in mecab_pos(doc) if word not in SW and len(word) > 1]"
   ]
  },
  {
   "cell_type": "markdown",
   "id": "350bac6e",
   "metadata": {},
   "source": [
    "## 1. 토픽 모델링을 위한 라이브러리 불러오기"
   ]
  },
  {
   "cell_type": "code",
   "execution_count": 96,
   "id": "c3357c20",
   "metadata": {},
   "outputs": [
    {
     "name": "stdout",
     "output_type": "stream",
     "text": [
      "Requirement already satisfied: gensim in c:\\programdata\\anaconda3\\envs\\textmining\\lib\\site-packages (4.0.1)\n",
      "Requirement already satisfied: scipy>=0.18.1 in c:\\programdata\\anaconda3\\envs\\textmining\\lib\\site-packages (from gensim) (1.5.0)\n",
      "Requirement already satisfied: Cython==0.29.21 in c:\\programdata\\anaconda3\\envs\\textmining\\lib\\site-packages (from gensim) (0.29.21)\n",
      "Requirement already satisfied: dataclasses in c:\\programdata\\anaconda3\\envs\\textmining\\lib\\site-packages (from gensim) (0.8)\n",
      "Requirement already satisfied: numpy>=1.11.3 in c:\\programdata\\anaconda3\\envs\\textmining\\lib\\site-packages (from gensim) (1.17.0)\n",
      "Requirement already satisfied: smart-open>=1.8.1 in c:\\programdata\\anaconda3\\envs\\textmining\\lib\\site-packages (from gensim) (5.1.0)\n"
     ]
    }
   ],
   "source": [
    "!pip install gensim"
   ]
  },
  {
   "cell_type": "code",
   "execution_count": 97,
   "id": "4aca7bae",
   "metadata": {
    "scrolled": true
   },
   "outputs": [],
   "source": [
    "from tqdm import tqdm_notebook # 시간 바\n",
    "from konlpy.tag import Mecab # 형태소 분석기\n",
    "import string # 특수문자\n",
    "import warnings\n",
    "from gensim import corpora  , models\n",
    "\n",
    "import re\n",
    "import numpy as np\n",
    "import pickle\n",
    "import matplotlib.pyplot as plt\n",
    "%matplotlib inline\n",
    "warnings.filterwarnings(\"ignore\", category=DeprecationWarning) # 경고 알림이 뜨면 모두 무시합니다."
   ]
  },
  {
   "cell_type": "code",
   "execution_count": 98,
   "id": "c0b7d761",
   "metadata": {},
   "outputs": [],
   "source": [
    "with open(\"naver_news_title.pk\",\"wb\") as f:\n",
    "    pickle.dump(naver_news_title, f)\n",
    "    \n",
    "with open(\"naver_news_content.pk\",\"wb\") as f:\n",
    "    pickle.dump(naver_news_content, f)\n"
   ]
  },
  {
   "cell_type": "code",
   "execution_count": 99,
   "id": "aaf80c42",
   "metadata": {},
   "outputs": [],
   "source": [
    "import string"
   ]
  },
  {
   "cell_type": "code",
   "execution_count": 100,
   "id": "e5fb3fd8",
   "metadata": {},
   "outputs": [],
   "source": [
    "def read_documents(input_file_name):\n",
    "    \n",
    "    corpus = []\n",
    "    \n",
    "    # pk 파일을 읽어서 리스트로 변환하여 돌려줌.\n",
    "\n",
    "    with open(input_file_name, \"rb\") as f:\n",
    "        temp_corpus = pickle.load(f)\n",
    "        \n",
    "    for page in temp_corpus:\n",
    "        corpus += page\n",
    "        \n",
    "    return corpus\n",
    "\n",
    "def text_cleaning(docs):\n",
    "    # 한국어를 제외한 글자를 제거하는 함수를 편의를 위해 조금 변형해보자.\n",
    "    cleaned_docs = []\n",
    "    for doc in docs:\n",
    "        temp_doc = re.sub(\"[^ㄱ-ㅎㅏ-ㅣ가-힣 ]\", \"\", doc)\n",
    "        cleaned_docs.append(temp_doc)\n",
    "    return cleaned_docs\n",
    "\n",
    "def define_stopwords(path):\n",
    "    \n",
    "    SW = set()\n",
    "    # 불용어를 추가하는 방법 1.\n",
    "    # 특수 문자를 추가해보자.\n",
    "    for i in string.punctuation:\n",
    "        SW.add(i)\n",
    "    \n",
    "    # 불용어를 추가하는 방법 2.\n",
    "    # stopwords-ko.txt에 직접 추가\n",
    "    \n",
    "    with open(path) as f:\n",
    "        for word in f:\n",
    "            SW.add(word)\n",
    "\n",
    "    return SW\n",
    "\n",
    "\n",
    "def text_tokenizing(corpus, tokenizer):\n",
    "    # 명사 추출 / 형태소 분석 두 가지를 선택할 수 있게 만들어주는 함수를 만들어보자.\n",
    "    mecab = MeCab.Tagger()\n",
    "    token_corpus = []\n",
    "    # tqdm을 사용하여 진행 과정을 볼 수 있게 만들어보자.\n",
    "    if tokenizer == \"nown\":\n",
    "        for n in tqdm_notebook(range(len(corpus))):\n",
    "            token_text = mecab.nouns(corpus[n])\n",
    "            token_text = [word for word in token_text if word not in SW and len(word) >1]\n",
    "            token_corpus.append(token_text)\n",
    "            \n",
    "    elif tokenizer == \"morph\":\n",
    "        for n in tqdm_notebook(range(len(corpus))):\n",
    "            token_text = mecab.nouns(corpus[n])\n",
    "            token_text = [word for word in token_text if word not in SW and len(word) >1]\n",
    "            token_corpus.append(token_text)\n",
    "    \n",
    "    elif tokenizer == \"word\":\n",
    "        for n in tqdm_notebook(range(len(corpus))):\n",
    "            token_text = corpus[n].split()\n",
    "            token_text = [word for word in token_text if word not in SW and len(word) >1]\n",
    "            token_corpus.append(token_text)\n",
    "            \n",
    "    return token_corpus\n",
    "\n",
    "# 함수를 불러오는 (메인) 코드.\n",
    "input_file_name = \"D:/연구알바/naver_news_content.pk\"\n",
    "documents = read_documents(input_file_name)\n",
    "SW = define_stopwords(\"D:/연구알바/stopwords-ko.txt\")\n",
    "cleaned_text = text_cleaning(documents)\n",
    "tokenized_text = text_tokenizing(cleaned_text, tokenizer=\"noun\") #tokenizer= \"noun\" or \"morph\" or \"word\""
   ]
  },
  {
   "cell_type": "code",
   "execution_count": 102,
   "id": "bf2596d2",
   "metadata": {},
   "outputs": [
    {
     "data": {
      "text/plain": [
       "[]"
      ]
     },
     "execution_count": 102,
     "metadata": {},
     "output_type": "execute_result"
    }
   ],
   "source": [
    "# 결과확인\n",
    "tokenized_text"
   ]
  },
  {
   "cell_type": "code",
   "execution_count": null,
   "id": "c89aeddb",
   "metadata": {},
   "outputs": [],
   "source": []
  }
 ],
 "metadata": {
  "kernelspec": {
   "display_name": "project_1",
   "language": "python",
   "name": "textmining"
  },
  "language_info": {
   "codemirror_mode": {
    "name": "ipython",
    "version": 3
   },
   "file_extension": ".py",
   "mimetype": "text/x-python",
   "name": "python",
   "nbconvert_exporter": "python",
   "pygments_lexer": "ipython3",
   "version": "3.6.10"
  },
  "toc": {
   "base_numbering": 1,
   "nav_menu": {},
   "number_sections": false,
   "sideBar": true,
   "skip_h1_title": false,
   "title_cell": "Table of Contents",
   "title_sidebar": "Contents",
   "toc_cell": false,
   "toc_position": {},
   "toc_section_display": true,
   "toc_window_display": false
  }
 },
 "nbformat": 4,
 "nbformat_minor": 5
}
