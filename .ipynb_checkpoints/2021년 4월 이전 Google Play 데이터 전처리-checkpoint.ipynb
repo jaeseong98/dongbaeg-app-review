{
 "cells": [
  {
   "cell_type": "code",
   "execution_count": 1,
   "metadata": {},
   "outputs": [],
   "source": [
    "import os\n",
    "import datetime as dt\n",
    "import pandas as pd\n",
    "pd.set_option('display.max_rows', None)"
   ]
  },
  {
   "cell_type": "code",
   "execution_count": 2,
   "metadata": {},
   "outputs": [
    {
     "data": {
      "text/plain": [
       "'/home/a201843240/동백전 연구'"
      ]
     },
     "execution_count": 2,
     "metadata": {},
     "output_type": "execute_result"
    }
   ],
   "source": [
    "os.getcwd()"
   ]
  },
  {
   "cell_type": "code",
   "execution_count": 3,
   "metadata": {},
   "outputs": [
    {
     "data": {
      "text/plain": [
       "['4월이후_data.csv',\n",
       " '2021년 4월 이전 Google Play 데이터 전처리.ipynb',\n",
       " '.ipynb_checkpoints',\n",
       " '2021년 4월 이후 Google Play 데이터 전처리.ipynb',\n",
       " '웹크롤링-구글플레이.ipynb',\n",
       " '4월이전_data.csv']"
      ]
     },
     "execution_count": 3,
     "metadata": {},
     "output_type": "execute_result"
    }
   ],
   "source": [
    "os.listdir()"
   ]
  },
  {
   "cell_type": "code",
   "execution_count": 4,
   "metadata": {},
   "outputs": [],
   "source": [
    "df = pd.read_csv('4월이전_data.csv')"
   ]
  },
  {
   "cell_type": "code",
   "execution_count": 5,
   "metadata": {},
   "outputs": [
    {
     "data": {
      "text/html": [
       "<div>\n",
       "<style scoped>\n",
       "    .dataframe tbody tr th:only-of-type {\n",
       "        vertical-align: middle;\n",
       "    }\n",
       "\n",
       "    .dataframe tbody tr th {\n",
       "        vertical-align: top;\n",
       "    }\n",
       "\n",
       "    .dataframe thead th {\n",
       "        text-align: right;\n",
       "    }\n",
       "</style>\n",
       "<table border=\"1\" class=\"dataframe\">\n",
       "  <thead>\n",
       "    <tr style=\"text-align: right;\">\n",
       "      <th></th>\n",
       "      <th>DATE</th>\n",
       "      <th>STAR</th>\n",
       "      <th>LIKE</th>\n",
       "      <th>REVIEW</th>\n",
       "    </tr>\n",
       "  </thead>\n",
       "  <tbody>\n",
       "    <tr>\n",
       "      <th>0</th>\n",
       "      <td>2021년 2월 27일</td>\n",
       "      <td>별표 5개 만점에 5개를 받았습니다.</td>\n",
       "      <td>132.0</td>\n",
       "      <td>동백전 잘쓰고 있었는데 4월부터 코나아이로 이관된다니 너무 아쉽습니다ㅠㅠ 코나카드로...</td>\n",
       "    </tr>\n",
       "    <tr>\n",
       "      <th>1</th>\n",
       "      <td>2021년 3월 27일</td>\n",
       "      <td>별표 5개 만점에 5개를 받았습니다.</td>\n",
       "      <td>77.0</td>\n",
       "      <td>앱도깔끔하고 너무잘썻는데 어디로 이관된다하니 이용자입장에선 짜증나네요.. 전혀 불만...</td>\n",
       "    </tr>\n",
       "    <tr>\n",
       "      <th>2</th>\n",
       "      <td>2021년 2월 9일</td>\n",
       "      <td>별표 5개 만점에 1개를 받았습니다.</td>\n",
       "      <td>65.0</td>\n",
       "      <td>본인인증에 재발송 안하고 다음을 클릭했는데.. 왜 계속 인증번호가 날아오고...본인...</td>\n",
       "    </tr>\n",
       "    <tr>\n",
       "      <th>3</th>\n",
       "      <td>2021년 2월 9일</td>\n",
       "      <td>별표 5개 만점에 3개를 받았습니다.</td>\n",
       "      <td>8.0</td>\n",
       "      <td>초기에 앱 오류 및 접속 잘 안됨 하나카드 엉망 지금 2021년 1월 잘됨 좋음</td>\n",
       "    </tr>\n",
       "    <tr>\n",
       "      <th>4</th>\n",
       "      <td>2021년 2월 24일</td>\n",
       "      <td>별표 5개 만점에 5개를 받았습니다.</td>\n",
       "      <td>7.0</td>\n",
       "      <td>안드로이드11로 업데이트 후 알림이 부분적으로 오지 않습니다.</td>\n",
       "    </tr>\n",
       "  </tbody>\n",
       "</table>\n",
       "</div>"
      ],
      "text/plain": [
       "           DATE                  STAR   LIKE  \\\n",
       "0  2021년 2월 27일  별표 5개 만점에 5개를 받았습니다.  132.0   \n",
       "1  2021년 3월 27일  별표 5개 만점에 5개를 받았습니다.   77.0   \n",
       "2   2021년 2월 9일  별표 5개 만점에 1개를 받았습니다.   65.0   \n",
       "3   2021년 2월 9일  별표 5개 만점에 3개를 받았습니다.    8.0   \n",
       "4  2021년 2월 24일  별표 5개 만점에 5개를 받았습니다.    7.0   \n",
       "\n",
       "                                              REVIEW  \n",
       "0  동백전 잘쓰고 있었는데 4월부터 코나아이로 이관된다니 너무 아쉽습니다ㅠㅠ 코나카드로...  \n",
       "1  앱도깔끔하고 너무잘썻는데 어디로 이관된다하니 이용자입장에선 짜증나네요.. 전혀 불만...  \n",
       "2  본인인증에 재발송 안하고 다음을 클릭했는데.. 왜 계속 인증번호가 날아오고...본인...  \n",
       "3       초기에 앱 오류 및 접속 잘 안됨 하나카드 엉망 지금 2021년 1월 잘됨 좋음  \n",
       "4                 안드로이드11로 업데이트 후 알림이 부분적으로 오지 않습니다.  "
      ]
     },
     "execution_count": 5,
     "metadata": {},
     "output_type": "execute_result"
    }
   ],
   "source": [
    "df.head()"
   ]
  },
  {
   "cell_type": "code",
   "execution_count": 6,
   "metadata": {},
   "outputs": [
    {
     "data": {
      "text/plain": [
       "(1715, 4)"
      ]
     },
     "execution_count": 6,
     "metadata": {},
     "output_type": "execute_result"
    }
   ],
   "source": [
    "df.shape"
   ]
  },
  {
   "cell_type": "code",
   "execution_count": 7,
   "metadata": {},
   "outputs": [
    {
     "name": "stdout",
     "output_type": "stream",
     "text": [
      "<class 'pandas.core.frame.DataFrame'>\n",
      "RangeIndex: 1715 entries, 0 to 1714\n",
      "Data columns (total 4 columns):\n",
      " #   Column  Non-Null Count  Dtype  \n",
      "---  ------  --------------  -----  \n",
      " 0   DATE    1715 non-null   object \n",
      " 1   STAR    1715 non-null   object \n",
      " 2   LIKE    275 non-null    float64\n",
      " 3   REVIEW  1715 non-null   object \n",
      "dtypes: float64(1), object(3)\n",
      "memory usage: 53.7+ KB\n"
     ]
    }
   ],
   "source": [
    "df.info(null_counts=True)"
   ]
  },
  {
   "cell_type": "markdown",
   "metadata": {},
   "source": [
    "__날짜 전처리__"
   ]
  },
  {
   "cell_type": "code",
   "execution_count": 8,
   "metadata": {},
   "outputs": [],
   "source": [
    "df['DATE'] = df['DATE'].str.replace('년 ', '-') # 'yyyy-m-dd' 형식으로 변환\n",
    "df['DATE'] = df['DATE'].str.replace('월 ', '-')\n",
    "df['DATE'] = df['DATE'].str.replace('일', '')\n",
    "\n",
    "df['DATE'] = df['DATE'].astype('datetime64') # datetime 형식으로 변환"
   ]
  },
  {
   "cell_type": "code",
   "execution_count": 9,
   "metadata": {},
   "outputs": [
    {
     "data": {
      "text/plain": [
       "0   2021-02-27\n",
       "1   2021-03-27\n",
       "2   2021-02-09\n",
       "3   2021-02-09\n",
       "4   2021-02-24\n",
       "Name: DATE, dtype: datetime64[ns]"
      ]
     },
     "execution_count": 9,
     "metadata": {},
     "output_type": "execute_result"
    }
   ],
   "source": [
    "df['DATE'].head()"
   ]
  },
  {
   "cell_type": "markdown",
   "metadata": {},
   "source": [
    "__별점 전처리__"
   ]
  },
  {
   "cell_type": "code",
   "execution_count": 10,
   "metadata": {},
   "outputs": [],
   "source": [
    "df['STAR'] = df['STAR'].str[10:11].astype('int') # 별점 숫자만 추출, 문자형식을 정수로 변환"
   ]
  },
  {
   "cell_type": "code",
   "execution_count": 11,
   "metadata": {},
   "outputs": [
    {
     "data": {
      "text/plain": [
       "0    5\n",
       "1    5\n",
       "2    1\n",
       "3    3\n",
       "4    5\n",
       "Name: STAR, dtype: int64"
      ]
     },
     "execution_count": 11,
     "metadata": {},
     "output_type": "execute_result"
    }
   ],
   "source": [
    "df['STAR'].head()"
   ]
  },
  {
   "cell_type": "markdown",
   "metadata": {},
   "source": [
    "__추천수 전처리__"
   ]
  },
  {
   "cell_type": "code",
   "execution_count": 12,
   "metadata": {},
   "outputs": [],
   "source": [
    "df['LIKE'] = df['LIKE'].fillna(0).astype('int') # 실수를 정수로 변환"
   ]
  },
  {
   "cell_type": "code",
   "execution_count": 13,
   "metadata": {},
   "outputs": [
    {
     "data": {
      "text/plain": [
       "0    132\n",
       "1     77\n",
       "2     65\n",
       "3      8\n",
       "4      7\n",
       "Name: LIKE, dtype: int64"
      ]
     },
     "execution_count": 13,
     "metadata": {},
     "output_type": "execute_result"
    }
   ],
   "source": [
    "df['LIKE'].head()"
   ]
  },
  {
   "cell_type": "code",
   "execution_count": 14,
   "metadata": {},
   "outputs": [
    {
     "data": {
      "text/html": [
       "<div>\n",
       "<style scoped>\n",
       "    .dataframe tbody tr th:only-of-type {\n",
       "        vertical-align: middle;\n",
       "    }\n",
       "\n",
       "    .dataframe tbody tr th {\n",
       "        vertical-align: top;\n",
       "    }\n",
       "\n",
       "    .dataframe thead th {\n",
       "        text-align: right;\n",
       "    }\n",
       "</style>\n",
       "<table border=\"1\" class=\"dataframe\">\n",
       "  <thead>\n",
       "    <tr style=\"text-align: right;\">\n",
       "      <th></th>\n",
       "      <th>DATE</th>\n",
       "      <th>STAR</th>\n",
       "      <th>LIKE</th>\n",
       "      <th>REVIEW</th>\n",
       "    </tr>\n",
       "  </thead>\n",
       "  <tbody>\n",
       "    <tr>\n",
       "      <th>53</th>\n",
       "      <td>2020-07-27</td>\n",
       "      <td>4</td>\n",
       "      <td>285</td>\n",
       "      <td>잘쓰고있는데 잔액 확인하고 싶을 때마다 일일이 들어가서 확인하는게 너무 불편해요. ...</td>\n",
       "    </tr>\n",
       "    <tr>\n",
       "      <th>25</th>\n",
       "      <td>2020-04-21</td>\n",
       "      <td>3</td>\n",
       "      <td>208</td>\n",
       "      <td>캐시백 많이 되고 취지 및 실사용에 대해서는 아주 만족하고 있습니다. 다만, 앱의 ...</td>\n",
       "    </tr>\n",
       "    <tr>\n",
       "      <th>0</th>\n",
       "      <td>2021-02-27</td>\n",
       "      <td>5</td>\n",
       "      <td>132</td>\n",
       "      <td>동백전 잘쓰고 있었는데 4월부터 코나아이로 이관된다니 너무 아쉽습니다ㅠㅠ 코나카드로...</td>\n",
       "    </tr>\n",
       "    <tr>\n",
       "      <th>67</th>\n",
       "      <td>2020-04-13</td>\n",
       "      <td>1</td>\n",
       "      <td>115</td>\n",
       "      <td>갑자기 4월 10일(금) 점심시간때부터 \"네트워크상태가 원활하지 않습니다. 연결상태...</td>\n",
       "    </tr>\n",
       "    <tr>\n",
       "      <th>27</th>\n",
       "      <td>2020-05-08</td>\n",
       "      <td>5</td>\n",
       "      <td>100</td>\n",
       "      <td>앱으로 카드 신청할 땐 와이파이 안되서 데이터로 신청했고요. 카드 받고 나선 데이터...</td>\n",
       "    </tr>\n",
       "    <tr>\n",
       "      <th>36</th>\n",
       "      <td>2020-04-13</td>\n",
       "      <td>3</td>\n",
       "      <td>77</td>\n",
       "      <td>안드로이드 5.0 사용자 입니다 얼마전까지 앱으로 충전 사용등모든 기능이 이루어졌었...</td>\n",
       "    </tr>\n",
       "    <tr>\n",
       "      <th>1</th>\n",
       "      <td>2021-03-27</td>\n",
       "      <td>5</td>\n",
       "      <td>77</td>\n",
       "      <td>앱도깔끔하고 너무잘썻는데 어디로 이관된다하니 이용자입장에선 짜증나네요.. 전혀 불만...</td>\n",
       "    </tr>\n",
       "    <tr>\n",
       "      <th>167</th>\n",
       "      <td>2020-11-14</td>\n",
       "      <td>2</td>\n",
       "      <td>75</td>\n",
       "      <td>알뜰폰 유심으로 변경후 인증된 폰번호와 일치하지 않다는 메세지나옴ㅡ초기화해주세오ㅡ ...</td>\n",
       "    </tr>\n",
       "    <tr>\n",
       "      <th>2</th>\n",
       "      <td>2021-02-09</td>\n",
       "      <td>1</td>\n",
       "      <td>65</td>\n",
       "      <td>본인인증에 재발송 안하고 다음을 클릭했는데.. 왜 계속 인증번호가 날아오고...본인...</td>\n",
       "    </tr>\n",
       "    <tr>\n",
       "      <th>357</th>\n",
       "      <td>2020-12-30</td>\n",
       "      <td>3</td>\n",
       "      <td>60</td>\n",
       "      <td>업데이트가 안되시는분들은 구글스토어 앱정보에서 업데이트 삭제(구글 스토어) 하시고 ...</td>\n",
       "    </tr>\n",
       "  </tbody>\n",
       "</table>\n",
       "</div>"
      ],
      "text/plain": [
       "          DATE  STAR  LIKE                                             REVIEW\n",
       "53  2020-07-27     4   285  잘쓰고있는데 잔액 확인하고 싶을 때마다 일일이 들어가서 확인하는게 너무 불편해요. ...\n",
       "25  2020-04-21     3   208  캐시백 많이 되고 취지 및 실사용에 대해서는 아주 만족하고 있습니다. 다만, 앱의 ...\n",
       "0   2021-02-27     5   132  동백전 잘쓰고 있었는데 4월부터 코나아이로 이관된다니 너무 아쉽습니다ㅠㅠ 코나카드로...\n",
       "67  2020-04-13     1   115  갑자기 4월 10일(금) 점심시간때부터 \"네트워크상태가 원활하지 않습니다. 연결상태...\n",
       "27  2020-05-08     5   100  앱으로 카드 신청할 땐 와이파이 안되서 데이터로 신청했고요. 카드 받고 나선 데이터...\n",
       "36  2020-04-13     3    77  안드로이드 5.0 사용자 입니다 얼마전까지 앱으로 충전 사용등모든 기능이 이루어졌었...\n",
       "1   2021-03-27     5    77  앱도깔끔하고 너무잘썻는데 어디로 이관된다하니 이용자입장에선 짜증나네요.. 전혀 불만...\n",
       "167 2020-11-14     2    75  알뜰폰 유심으로 변경후 인증된 폰번호와 일치하지 않다는 메세지나옴ㅡ초기화해주세오ㅡ ...\n",
       "2   2021-02-09     1    65  본인인증에 재발송 안하고 다음을 클릭했는데.. 왜 계속 인증번호가 날아오고...본인...\n",
       "357 2020-12-30     3    60  업데이트가 안되시는분들은 구글스토어 앱정보에서 업데이트 삭제(구글 스토어) 하시고 ..."
      ]
     },
     "execution_count": 14,
     "metadata": {},
     "output_type": "execute_result"
    }
   ],
   "source": [
    "df_like = df.sort_values(by=['LIKE'], ascending=False) # 추천수 기준으로 내림차순 정렬해서 살펴봄 (275개 행에 추천수 존재)\n",
    "\n",
    "df_like.head(10)"
   ]
  },
  {
   "cell_type": "markdown",
   "metadata": {},
   "source": [
    "========================================================================================================="
   ]
  },
  {
   "cell_type": "code",
   "execution_count": 15,
   "metadata": {},
   "outputs": [],
   "source": [
    "df = df[['DATE', 'STAR', 'REVIEW', 'LIKE']].sort_values(by=['DATE']) # 열 순서 조정, 날짜 기준으로 오름차순"
   ]
  },
  {
   "cell_type": "code",
   "execution_count": 16,
   "metadata": {
    "scrolled": true
   },
   "outputs": [
    {
     "data": {
      "text/html": [
       "<div>\n",
       "<style scoped>\n",
       "    .dataframe tbody tr th:only-of-type {\n",
       "        vertical-align: middle;\n",
       "    }\n",
       "\n",
       "    .dataframe tbody tr th {\n",
       "        vertical-align: top;\n",
       "    }\n",
       "\n",
       "    .dataframe thead th {\n",
       "        text-align: right;\n",
       "    }\n",
       "</style>\n",
       "<table border=\"1\" class=\"dataframe\">\n",
       "  <thead>\n",
       "    <tr style=\"text-align: right;\">\n",
       "      <th></th>\n",
       "      <th>DATE</th>\n",
       "      <th>STAR</th>\n",
       "      <th>REVIEW</th>\n",
       "      <th>LIKE</th>\n",
       "    </tr>\n",
       "  </thead>\n",
       "  <tbody>\n",
       "    <tr>\n",
       "      <th>279</th>\n",
       "      <td>2019-12-27</td>\n",
       "      <td>5</td>\n",
       "      <td>부산에도 기다리던 지역화폐가 나왔네요 앱도 깔끔하고 카드도 바로 신청하고 잘 사용하...</td>\n",
       "      <td>8</td>\n",
       "    </tr>\n",
       "    <tr>\n",
       "      <th>1682</th>\n",
       "      <td>2019-12-27</td>\n",
       "      <td>5</td>\n",
       "      <td>화이팅</td>\n",
       "      <td>4</td>\n",
       "    </tr>\n",
       "    <tr>\n",
       "      <th>809</th>\n",
       "      <td>2019-12-28</td>\n",
       "      <td>5</td>\n",
       "      <td>기다렸었는데 앞으로 잘 쓸게요^^</td>\n",
       "      <td>4</td>\n",
       "    </tr>\n",
       "    <tr>\n",
       "      <th>698</th>\n",
       "      <td>2019-12-28</td>\n",
       "      <td>5</td>\n",
       "      <td>동백전으로 여기저기 많이 사용해 볼게요. 부산 경제에도 많은 도움이 되면 좋겠습니다.</td>\n",
       "      <td>4</td>\n",
       "    </tr>\n",
       "    <tr>\n",
       "      <th>558</th>\n",
       "      <td>2019-12-28</td>\n",
       "      <td>5</td>\n",
       "      <td>부산 동백전 쓰기 편하게 잘 만들어졌네요 부산에서 혜택이 많았겠네요</td>\n",
       "      <td>5</td>\n",
       "    </tr>\n",
       "    <tr>\n",
       "      <th>639</th>\n",
       "      <td>2019-12-28</td>\n",
       "      <td>5</td>\n",
       "      <td>잘 사용해 볼게요. 동백전으로 혜택 많이 받으면 좋겠습니다.</td>\n",
       "      <td>4</td>\n",
       "    </tr>\n",
       "    <tr>\n",
       "      <th>1204</th>\n",
       "      <td>2019-12-28</td>\n",
       "      <td>5</td>\n",
       "      <td>가자 글로벌 테스트베드 부산!</td>\n",
       "      <td>3</td>\n",
       "    </tr>\n",
       "    <tr>\n",
       "      <th>72</th>\n",
       "      <td>2019-12-29</td>\n",
       "      <td>5</td>\n",
       "      <td>오~ 부산도 드디어 모바일 지역화폐가 나왔네요!~ 앱설치하고 카드신청도 해봤는데요 ...</td>\n",
       "      <td>53</td>\n",
       "    </tr>\n",
       "    <tr>\n",
       "      <th>610</th>\n",
       "      <td>2019-12-30</td>\n",
       "      <td>5</td>\n",
       "      <td>군더더기 없이 사용하기 편하고 좋습니다. ^^</td>\n",
       "      <td>2</td>\n",
       "    </tr>\n",
       "    <tr>\n",
       "      <th>553</th>\n",
       "      <td>2019-12-30</td>\n",
       "      <td>5</td>\n",
       "      <td>설치가 아주 간단하고 쉽네요</td>\n",
       "      <td>2</td>\n",
       "    </tr>\n",
       "  </tbody>\n",
       "</table>\n",
       "</div>"
      ],
      "text/plain": [
       "           DATE  STAR                                             REVIEW  LIKE\n",
       "279  2019-12-27     5  부산에도 기다리던 지역화폐가 나왔네요 앱도 깔끔하고 카드도 바로 신청하고 잘 사용하...     8\n",
       "1682 2019-12-27     5                                                화이팅     4\n",
       "809  2019-12-28     5                                 기다렸었는데 앞으로 잘 쓸게요^^     4\n",
       "698  2019-12-28     5    동백전으로 여기저기 많이 사용해 볼게요. 부산 경제에도 많은 도움이 되면 좋겠습니다.     4\n",
       "558  2019-12-28     5              부산 동백전 쓰기 편하게 잘 만들어졌네요 부산에서 혜택이 많았겠네요     5\n",
       "639  2019-12-28     5                  잘 사용해 볼게요. 동백전으로 혜택 많이 받으면 좋겠습니다.     4\n",
       "1204 2019-12-28     5                                   가자 글로벌 테스트베드 부산!     3\n",
       "72   2019-12-29     5  오~ 부산도 드디어 모바일 지역화폐가 나왔네요!~ 앱설치하고 카드신청도 해봤는데요 ...    53\n",
       "610  2019-12-30     5                          군더더기 없이 사용하기 편하고 좋습니다. ^^     2\n",
       "553  2019-12-30     5                                    설치가 아주 간단하고 쉽네요     2"
      ]
     },
     "execution_count": 16,
     "metadata": {},
     "output_type": "execute_result"
    }
   ],
   "source": [
    "df.head(10)"
   ]
  },
  {
   "cell_type": "code",
   "execution_count": 17,
   "metadata": {},
   "outputs": [
    {
     "data": {
      "text/html": [
       "<div>\n",
       "<style scoped>\n",
       "    .dataframe tbody tr th:only-of-type {\n",
       "        vertical-align: middle;\n",
       "    }\n",
       "\n",
       "    .dataframe tbody tr th {\n",
       "        vertical-align: top;\n",
       "    }\n",
       "\n",
       "    .dataframe thead th {\n",
       "        text-align: right;\n",
       "    }\n",
       "</style>\n",
       "<table border=\"1\" class=\"dataframe\">\n",
       "  <thead>\n",
       "    <tr style=\"text-align: right;\">\n",
       "      <th></th>\n",
       "      <th>DATE</th>\n",
       "      <th>STAR</th>\n",
       "      <th>REVIEW</th>\n",
       "      <th>LIKE</th>\n",
       "    </tr>\n",
       "  </thead>\n",
       "  <tbody>\n",
       "    <tr>\n",
       "      <th>839</th>\n",
       "      <td>2021-03-29</td>\n",
       "      <td>5</td>\n",
       "      <td>부산동백전사랑하요</td>\n",
       "      <td>0</td>\n",
       "    </tr>\n",
       "    <tr>\n",
       "      <th>1256</th>\n",
       "      <td>2021-03-31</td>\n",
       "      <td>5</td>\n",
       "      <td>아듀 동백</td>\n",
       "      <td>0</td>\n",
       "    </tr>\n",
       "    <tr>\n",
       "      <th>1255</th>\n",
       "      <td>2021-04-01</td>\n",
       "      <td>5</td>\n",
       "      <td>도성무</td>\n",
       "      <td>0</td>\n",
       "    </tr>\n",
       "    <tr>\n",
       "      <th>549</th>\n",
       "      <td>2021-04-01</td>\n",
       "      <td>1</td>\n",
       "      <td>동백전 카드에 있는 돈을 쓸수 있는건가요?? 이관 될 줄 몰랐는데요ㅠㅠ</td>\n",
       "      <td>1</td>\n",
       "    </tr>\n",
       "    <tr>\n",
       "      <th>536</th>\n",
       "      <td>2021-04-05</td>\n",
       "      <td>1</td>\n",
       "      <td>동백전 되나요? 전 코나로 계속 문의하라뜨네요~ ㅠ</td>\n",
       "      <td>1</td>\n",
       "    </tr>\n",
       "    <tr>\n",
       "      <th>5</th>\n",
       "      <td>2021-04-05</td>\n",
       "      <td>1</td>\n",
       "      <td>왜 연계 사용이 안되나요? 코나아이로 자동 연결되게 해야 되는거 아닌가요?</td>\n",
       "      <td>3</td>\n",
       "    </tr>\n",
       "    <tr>\n",
       "      <th>486</th>\n",
       "      <td>2021-04-05</td>\n",
       "      <td>1</td>\n",
       "      <td>대체 어 떤 정치적 목적과 꽌시로 멀쩡히 잘운영하던업체를 이관한단말입니까???</td>\n",
       "      <td>2</td>\n",
       "    </tr>\n",
       "    <tr>\n",
       "      <th>13</th>\n",
       "      <td>2021-04-05</td>\n",
       "      <td>1</td>\n",
       "      <td>서비스 종료인데 구 어플 안내리냐?? 새 업체 어플인줄알고 또깔앗자나 이것들 정신못...</td>\n",
       "      <td>1</td>\n",
       "    </tr>\n",
       "    <tr>\n",
       "      <th>10</th>\n",
       "      <td>2021-04-06</td>\n",
       "      <td>5</td>\n",
       "      <td>역시 예전 동백전이 디자인도 예뻤고 앱 구성이 간단해서 좋았던것같습니다 새로운 동백...</td>\n",
       "      <td>0</td>\n",
       "    </tr>\n",
       "    <tr>\n",
       "      <th>471</th>\n",
       "      <td>2021-04-11</td>\n",
       "      <td>5</td>\n",
       "      <td>지나고 보니 kt 동백전이 좋았다는 것을 깨달았네요.</td>\n",
       "      <td>0</td>\n",
       "    </tr>\n",
       "  </tbody>\n",
       "</table>\n",
       "</div>"
      ],
      "text/plain": [
       "           DATE  STAR                                             REVIEW  LIKE\n",
       "839  2021-03-29     5                                          부산동백전사랑하요     0\n",
       "1256 2021-03-31     5                                              아듀 동백     0\n",
       "1255 2021-04-01     5                                                도성무     0\n",
       "549  2021-04-01     1            동백전 카드에 있는 돈을 쓸수 있는건가요?? 이관 될 줄 몰랐는데요ㅠㅠ     1\n",
       "536  2021-04-05     1                       동백전 되나요? 전 코나로 계속 문의하라뜨네요~ ㅠ     1\n",
       "5    2021-04-05     1          왜 연계 사용이 안되나요? 코나아이로 자동 연결되게 해야 되는거 아닌가요?     3\n",
       "486  2021-04-05     1        대체 어 떤 정치적 목적과 꽌시로 멀쩡히 잘운영하던업체를 이관한단말입니까???     2\n",
       "13   2021-04-05     1  서비스 종료인데 구 어플 안내리냐?? 새 업체 어플인줄알고 또깔앗자나 이것들 정신못...     1\n",
       "10   2021-04-06     5  역시 예전 동백전이 디자인도 예뻤고 앱 구성이 간단해서 좋았던것같습니다 새로운 동백...     0\n",
       "471  2021-04-11     5                      지나고 보니 kt 동백전이 좋았다는 것을 깨달았네요.     0"
      ]
     },
     "execution_count": 17,
     "metadata": {},
     "output_type": "execute_result"
    }
   ],
   "source": [
    "df.tail(10)"
   ]
  },
  {
   "cell_type": "code",
   "execution_count": 18,
   "metadata": {},
   "outputs": [
    {
     "name": "stdout",
     "output_type": "stream",
     "text": [
      "<class 'pandas.core.frame.DataFrame'>\n",
      "Int64Index: 1715 entries, 279 to 471\n",
      "Data columns (total 4 columns):\n",
      " #   Column  Non-Null Count  Dtype         \n",
      "---  ------  --------------  -----         \n",
      " 0   DATE    1715 non-null   datetime64[ns]\n",
      " 1   STAR    1715 non-null   int64         \n",
      " 2   REVIEW  1715 non-null   object        \n",
      " 3   LIKE    1715 non-null   int64         \n",
      "dtypes: datetime64[ns](1), int64(2), object(1)\n",
      "memory usage: 67.0+ KB\n"
     ]
    }
   ],
   "source": [
    "df.info()"
   ]
  },
  {
   "cell_type": "code",
   "execution_count": 23,
   "metadata": {},
   "outputs": [],
   "source": [
    "df.to_csv('4월이전_googleplay_전처리완료.csv')"
   ]
  }
 ],
 "metadata": {
  "kernelspec": {
   "display_name": "Python 3",
   "language": "python",
   "name": "python3"
  },
  "language_info": {
   "codemirror_mode": {
    "name": "ipython",
    "version": 3
   },
   "file_extension": ".py",
   "mimetype": "text/x-python",
   "name": "python",
   "nbconvert_exporter": "python",
   "pygments_lexer": "ipython3",
   "version": "3.6.10"
  },
  "toc": {
   "base_numbering": 1,
   "nav_menu": {},
   "number_sections": true,
   "sideBar": true,
   "skip_h1_title": false,
   "title_cell": "Table of Contents",
   "title_sidebar": "Contents",
   "toc_cell": false,
   "toc_position": {},
   "toc_section_display": true,
   "toc_window_display": false
  }
 },
 "nbformat": 4,
 "nbformat_minor": 4
}
