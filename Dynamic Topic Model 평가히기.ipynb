{
 "cells": [
  {
   "cell_type": "code",
   "execution_count": 2,
   "id": "35d9fdec",
   "metadata": {},
   "outputs": [],
   "source": [
    "import pandas as pd\n",
    "import numpy as np\n",
    "import pickle\n",
    "from pprint import pprint\n",
    "import re"
   ]
  },
  {
   "cell_type": "code",
   "execution_count": 3,
   "id": "b4e8a640",
   "metadata": {
    "scrolled": true
   },
   "outputs": [
    {
     "name": "stdout",
     "output_type": "stream",
     "text": [
      "         DATE  STAR                                             REVIEW  LIKE\n",
      "0  2019-12-27     5  부산에도 기다리던 지역화폐가 나왔네요 앱도 깔끔하고 카드도 바로 신청하고 잘 사용하...     8\n",
      "1  2019-12-27     5                                                화이팅     4\n",
      "2  2019-12-28     5                                   기다렸었는데 앞으로 잘 쓸게요     4\n",
      "3  2019-12-28     5      동백전으로 여기저기 많이 사용해 볼게요 부산 경제에도 많은 도움이 되면 좋겠습니다     4\n",
      "4  2019-12-28     5              부산 동백전 쓰기 편하게 잘 만들어졌네요 부산에서 혜택이 많았겠네요     5\n",
      "<class 'pandas.core.frame.DataFrame'>\n",
      "RangeIndex: 2871 entries, 0 to 2870\n",
      "Data columns (total 4 columns):\n",
      " #   Column  Non-Null Count  Dtype \n",
      "---  ------  --------------  ----- \n",
      " 0   DATE    2871 non-null   object\n",
      " 1   STAR    2871 non-null   int64 \n",
      " 2   REVIEW  2871 non-null   object\n",
      " 3   LIKE    2871 non-null   int64 \n",
      "dtypes: int64(2), object(2)\n",
      "memory usage: 89.8+ KB\n",
      "None\n"
     ]
    }
   ],
   "source": [
    "with open(\"D:/cleaned_data.pk\", \"rb\") as f:\n",
    "    data = pickle.load(f)\n",
    "\n",
    "data.reset_index(drop=True, inplace=True)\n",
    "print(data.head())\n",
    "print(data.info())"
   ]
  },
  {
   "cell_type": "code",
   "execution_count": null,
   "id": "0f8bcfed",
   "metadata": {},
   "outputs": [],
   "source": []
  }
 ],
 "metadata": {
  "kernelspec": {
   "display_name": "Python 3",
   "language": "python",
   "name": "python3"
  },
  "language_info": {
   "codemirror_mode": {
    "name": "ipython",
    "version": 3
   },
   "file_extension": ".py",
   "mimetype": "text/x-python",
   "name": "python",
   "nbconvert_exporter": "python",
   "pygments_lexer": "ipython3",
   "version": "3.6.10"
  },
  "toc": {
   "base_numbering": 1,
   "nav_menu": {},
   "number_sections": true,
   "sideBar": true,
   "skip_h1_title": false,
   "title_cell": "Table of Contents",
   "title_sidebar": "Contents",
   "toc_cell": false,
   "toc_position": {},
   "toc_section_display": true,
   "toc_window_display": false
  }
 },
 "nbformat": 4,
 "nbformat_minor": 5
}
