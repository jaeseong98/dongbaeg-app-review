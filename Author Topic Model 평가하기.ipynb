{
 "cells": [
  {
   "cell_type": "code",
   "execution_count": 1,
   "id": "83123be5",
   "metadata": {},
   "outputs": [
    {
     "name": "stderr",
     "output_type": "stream",
     "text": [
      "C:\\ProgramData\\Anaconda3\\envs\\textmining\\lib\\site-packages\\gensim\\similarities\\__init__.py:15: UserWarning: The gensim.similarities.levenshtein submodule is disabled, because the optional Levenshtein package <https://pypi.org/project/python-Levenshtein/> is unavailable. Install Levenhstein (e.g. `pip install python-Levenshtein`) to suppress this warning.\n",
      "  warnings.warn(msg)\n"
     ]
    }
   ],
   "source": [
    "from gensim.models import AuthorTopicModel\n",
    "from gensim.corpora import Dictionary, bleicorpus\n",
    "from gensim import corpora\n",
    "from tqdm import tqdm_notebook\n",
    "from pprint import pprint\n",
    "\n",
    "\n",
    "\n",
    "# 사용자간의 유사성을 평가하기 위한 measure를 사용하기 위해 불러오기\n",
    "from gensim.matutils import hellinger\n",
    "from gensim import matutils\n",
    "\n",
    "import pandas as pd\n",
    "import os"
   ]
  },
  {
   "cell_type": "code",
   "execution_count": 2,
   "id": "4c0b0e57",
   "metadata": {},
   "outputs": [],
   "source": [
    "# Author Topic Model 실행\n",
    "NUM_TOPICS = 4\n",
    "\n",
    "if not os.path.exists(\"dongnoun_model\"):\n",
    "    model = AuthorTopicModel(corpus = corpus, id2word = dictionary.id2token , num_topics = NUM_TOPICS,\n",
    "                            author2doc = author2doc , passes = noun0)\n",
    "    model.save(\"dongnoun_model\")\n",
    "else:\n",
    "    model = AuthorTopicModel.load(\"dongnoun_model\")"
   ]
  },
  {
   "cell_type": "code",
   "execution_count": 3,
   "id": "d3e9cd77",
   "metadata": {},
   "outputs": [
    {
     "data": {
      "text/plain": [
       "[('인증', 0.01739123662487431),\n",
       " ('알람', 0.016008289295582866),\n",
       " ('계좌', 0.015825125058413263),\n",
       " ('뱅크', 0.012701070355468316),\n",
       " ('도움', 0.01175529699033745),\n",
       " ('카드', 0.010589066165320658),\n",
       " ('버전', 0.010122900178913416),\n",
       " ('이걸', 0.009795041910391341),\n",
       " ('휴대폰', 0.009177273806147006),\n",
       " ('조아', 0.009038601499930547)]"
      ]
     },
     "execution_count": 3,
     "metadata": {},
     "output_type": "execute_result"
    }
   ],
   "source": [
    "# 학습 결과 확인하기\n",
    "model.show_topic(0)"
   ]
  },
  {
   "cell_type": "code",
   "execution_count": 4,
   "id": "63b1f581",
   "metadata": {},
   "outputs": [],
   "source": [
    "# 토픽 라벨 지정\n",
    "topic_labels= [\"Topic0\",\"Topic1\",\"Topic2\",\"Topic3\"]"
   ]
  },
  {
   "cell_type": "code",
   "execution_count": 5,
   "id": "ecc8e070",
   "metadata": {
    "scrolled": true
   },
   "outputs": [
    {
     "name": "stdout",
     "output_type": "stream",
     "text": [
      "Label : Topic0\n",
      "Words : 인증 알람 계좌 뱅크 도움 카드 버전 이걸 휴대폰 조아 방법 터치 문자 사업 크기 금융 결제 등록 은행 수신 \n",
      "\n",
      "Label : Topic1\n",
      "Words : 카드 사용 발급 기존 불편 이전 등록 페이 신규 가능 삼성 선불카드 신청 금액 잔액 기능 예전 건지 하나 체크카드 \n",
      "\n",
      "Label : Topic2\n",
      "Words : 사용 충전 결제 확인 불편 금액 가맹점 업데이트 내역 오류 가능 잔액 캐시 카드 개선 연결 접속 이용 하나 실행 \n",
      "\n",
      "Label : Topic3\n",
      "Words : 사용 포인트 편리 혜택 부산 적립 감사 캐시 최고 지역 프로 금액 만족 기대 유용 구분 경제 시백 이벤트 현금 \n",
      "\n"
     ]
    }
   ],
   "source": [
    "# 토픽별로 단어 확인하기\n",
    "for topics in model.show_topics(model.num_topics):\n",
    "    print(\"Label : \"+ topic_labels[topics[0]])\n",
    "    words = \"\"\n",
    "    for word , prob in model.show_topic(topics[0],topn=20):\n",
    "        words = words + word +\" \"\n",
    "    print(\"Words :\",words)\n",
    "    print()"
   ]
  },
  {
   "cell_type": "code",
   "execution_count": 6,
   "id": "5e330cd2",
   "metadata": {},
   "outputs": [],
   "source": [
    "## 평점별로 토픽 분포 확인하기\n",
    "def show_authors(star):\n",
    "    print(\"Star : \", star)\n",
    "    print(\"Docs\" , model.author2doc[star])\n",
    "    print(\"\\nTopic of Distribution : \")\n",
    "    print([(topic_labels[topic[0]] , topic[1]) for topic in model[star]])"
   ]
  },
  {
   "cell_type": "code",
   "execution_count": 7,
   "id": "e403ee52",
   "metadata": {
    "scrolled": true
   },
   "outputs": [
    {
     "name": "stdout",
     "output_type": "stream",
     "text": [
      "Star :  5\n",
      "Docs [0, 1, 2, 3, 4, 5, 6, 7, 8, 10, 12, 13, 15, 16, 17, 19, 20, 54, 55, 63, 73, 75, 81, 82, 83, 88, 89, 90, 93, 97, 98, 99, 105, 123, 124, 126, 128, 129, 130, 131, 132, 136, 137, 138, 142, 143, 144, 145, 146, 147, 149, 151, 152, 153, 154, 155, 156, 157, 158, 159, 160, 161, 162, 163, 164, 166, 167, 168, 170, 171, 172, 175, 178, 179, 180, 181, 184, 186, 187, 191, 192, 198, 204, 206, 208, 210, 212, 214, 217, 221, 222, 223, 224, 225, 226, 227, 228, 230, 232, 235, 237, 238, 240, 241, 242, 244, 245, 246, 249, 250, 252, 253, 254, 256, 258, 262, 267, 268, 275, 276, 278, 280, 293, 304, 314, 315, 317, 321, 325, 327, 328, 329, 330, 331, 332, 333, 334, 335, 336, 337, 338, 339, 340, 341, 342, 343, 344, 346, 347, 348, 349, 352, 353, 354, 355, 356, 357, 358, 359, 362, 363, 364, 365, 370, 371, 372, 373, 374, 375, 376, 377, 379, 380, 381, 383, 385, 387, 389, 390, 391, 393, 394, 395, 398, 400, 401, 402, 404, 405, 406, 407, 408, 409, 410, 411, 412, 413, 414, 415, 418, 419, 420, 421, 422, 423, 424, 425, 426, 427, 428, 429, 430, 431, 433, 434, 435, 436, 437, 439, 441, 442, 443, 444, 446, 448, 449, 450, 451, 452, 455, 456, 457, 461, 464, 467, 469, 470, 471, 472, 479, 480, 482, 487, 490, 495, 508, 512, 513, 532, 533, 535, 536, 541, 542, 545, 549, 551, 554, 561, 567, 572, 575, 593, 595, 598, 601, 609, 633, 638, 643, 664, 667, 668, 671, 672, 676, 678, 693, 708, 727, 776, 787, 789, 790, 791, 793, 794, 795, 796, 797, 798, 799, 800, 802, 803, 804, 806, 807, 808, 809, 810, 811, 812, 813, 814, 816, 817, 819, 820, 821, 822, 823, 825, 826, 827, 829, 830, 831, 832, 835, 836, 837, 838, 839, 840, 841, 842, 843, 846, 848, 849, 850, 852, 853, 855, 856, 857, 858, 860, 863, 867, 868, 869, 870, 871, 873, 874, 875, 876, 877, 878, 879, 881, 882, 884, 885, 888, 890, 892, 893, 895, 896, 897, 899, 901, 902, 903, 904, 905, 906, 907, 908, 909, 910, 911, 913, 914, 916, 918, 919, 921, 922, 923, 925, 927, 928, 929, 931, 932, 934, 935, 936, 937, 938, 939, 941, 942, 943, 944, 945, 947, 949, 950, 951, 953, 954, 956, 959, 961, 962, 963, 964, 966, 967, 969, 970, 972, 974, 976, 977, 980, 983, 985, 986, 987, 990, 991, 994, 995, 998, 999, 1000, 1001, 1002, 1005, 1008, 1011, 1012, 1014, 1015, 1016, 1017, 1018, 1019, 1020, 1022, 1024, 1025, 1026, 1027, 1029, 1032, 1034, 1035, 1037, 1040, 1041, 1043, 1046, 1047, 1048, 1049, 1050, 1051, 1053, 1055, 1057, 1059, 1060, 1061, 1063, 1065, 1069, 1070, 1071, 1074, 1075, 1080, 1081, 1082, 1083, 1084, 1085, 1089, 1092, 1093, 1094, 1095, 1097, 1098, 1101, 1103, 1106, 1115, 1116, 1117, 1119, 1120, 1121, 1123, 1127, 1128, 1129, 1130, 1131, 1133, 1136, 1138, 1139, 1142, 1143, 1144, 1145, 1147, 1151, 1154, 1156, 1157, 1158, 1160, 1162, 1164, 1168, 1171, 1175, 1176, 1181, 1182, 1187, 1188, 1189, 1191, 1193, 1194, 1196, 1197, 1199, 1200, 1201, 1202, 1203, 1204, 1205, 1206, 1209, 1210, 1211, 1212, 1213, 1214, 1215, 1216, 1218, 1219, 1221, 1223, 1224, 1225, 1227, 1228, 1229, 1230, 1231, 1232, 1233, 1234, 1235, 1239, 1240, 1242, 1243, 1244, 1247, 1248, 1249, 1250, 1251, 1252, 1254, 1255, 1256, 1257, 1258, 1259, 1260, 1262, 1264, 1265, 1266, 1267, 1268, 1269, 1271, 1272, 1274, 1276, 1277, 1279, 1280, 1281, 1282, 1283, 1284, 1285, 1287, 1288, 1289, 1292, 1293, 1296, 1297, 1298, 1299, 1300, 1301, 1302, 1303, 1304, 1305, 1306, 1307, 1308, 1309, 1310, 1311, 1312, 1313, 1315, 1316, 1318, 1319, 1320, 1322, 1323, 1325, 1326, 1329, 1330, 1331, 1332, 1333, 1335, 1336, 1337, 1338, 1340, 1341, 1342, 1343, 1344, 1346, 1347, 1348, 1349, 1350, 1353, 1354, 1355, 1356, 1357, 1358, 1364, 1365, 1366, 1367, 1368, 1369, 1370, 1371, 1372, 1373, 1375, 1376, 1379, 1381, 1382, 1383, 1384, 1386, 1388, 1390, 1393, 1394, 1396, 1398, 1399, 1400, 1401, 1402, 1404, 1405, 1411, 1414, 1416, 1418, 1419, 1421, 1423, 1424, 1425, 1426, 1427, 1428, 1429, 1430, 1432, 1433, 1434, 1437, 1439, 1440, 1441, 1443, 1444, 1450, 1452, 1453, 1454, 1456, 1457, 1458, 1459, 1461, 1462, 1470, 1471, 1472, 1473, 1474, 1475, 1476, 1477, 1481, 1483, 1484, 1488, 1490, 1494, 1495, 1498, 1500, 1501, 1502, 1504, 1507, 1512, 1513, 1515, 1517, 1518, 1522, 1523, 1524, 1525, 1526, 1529, 1530, 1531, 1532, 1534, 1535, 1536, 1537, 1538, 1539, 1542, 1543, 1544, 1545, 1546, 1547, 1548, 1550, 1551, 1552, 1553, 1554, 1555, 1556, 1558, 1559, 1564, 1565, 1568, 1569, 1570, 1571, 1572, 1573, 1574, 1576, 1578, 1579, 1581, 1582, 1586, 1589, 1593, 1594, 1595, 1596, 1600, 1603, 1607, 1608, 1614, 1616, 1617, 1618, 1620, 1621, 1622, 1623, 1624, 1625, 1626, 1627, 1629, 1631, 1633, 1635, 1637, 1638, 1639, 1640, 1641, 1642, 1643, 1644, 1645, 1646, 1647, 1649, 1651, 1652, 1653, 1654, 1655, 1656, 1658, 1659, 1660, 1662, 1663, 1664, 1666, 1667, 1668, 1669, 1670, 1671, 1672, 1673, 1674, 1679, 1682, 1683, 1684, 1685, 1686, 1687, 1688, 1689, 1690, 1692, 1694, 1697, 1698, 1700, 1702, 1704, 1707, 1716, 1723, 1724, 1725, 1726, 1727, 1731, 1732, 1734, 1735, 1738, 1739, 1740, 1743, 1746, 1747, 1749, 1751, 1752, 1753, 1754, 1755, 1756, 1757, 1763, 1764, 1765, 1767, 1768, 1769, 1771, 1776, 1778, 1779, 1782, 1784, 1785, 1787, 1788, 1789, 1790, 1791, 1792, 1793, 1797, 1798, 1800, 1801, 1802, 1803, 1804, 1805, 1807, 1808, 1812, 1813, 1815, 1818, 1820, 1823, 1824, 1825, 1826, 1828, 1829, 1830, 1832, 1833, 1834, 1835, 1836, 1837, 1838, 1839, 1840, 1841, 1842, 1843, 1845, 1847, 1848, 1849, 1850, 1851, 1853, 1872, 1876, 1877, 1880, 1903, 1906, 1907, 1918, 1923, 1924, 1927, 1937, 1941, 1953, 1955, 1960, 1979, 1981, 1982, 1984, 1988, 1990, 1996, 2005, 2008, 2011, 2014, 2015, 2017, 2023, 2025, 2026, 2036, 2056, 2062, 2075, 2076, 2080, 2087, 2090, 2095, 2098, 2105, 2109, 2122, 2127, 2134, 2135, 2144, 2155, 2181, 2192, 2211, 2222, 2225, 2226, 2254, 2274, 2290, 2296, 2307, 2347, 2360, 2361, 2368, 2372, 2398, 2407, 2410, 2421, 2424, 2432, 2434, 2436, 2439, 2447, 2449, 2451, 2452, 2456, 2474, 2496, 2510, 2519, 2530, 2574, 2579, 2629, 2637, 2641, 2655, 2659, 2665, 2670, 2679, 2686, 2687, 2691, 2692, 2693, 2695, 2701, 2722, 2730, 2731, 2736, 2738, 2740, 2741, 2743, 2750, 2752, 2761, 2767, 2774, 2775, 2777, 2793, 2800, 2804, 2805, 2808, 2809, 2811, 2817, 2819, 2826, 2834, 2835, 2838, 2847, 2850, 2867]\n",
      "\n",
      "Topic of Distribution : \n",
      "[('Topic0', 0.3246000682667971), ('Topic1', 0.5707082888836112), ('Topic2', 0.015314202359868452), ('Topic3', 0.08937744048972308)]\n"
     ]
    }
   ],
   "source": [
    "# 별점 5의 토픽분포 확인\n",
    "show_authors(5)"
   ]
  },
  {
   "cell_type": "code",
   "execution_count": 8,
   "id": "813463c4",
   "metadata": {
    "scrolled": true
   },
   "outputs": [
    {
     "data": {
      "text/plain": [
       "[[(0, 0.24279214539134888),\n",
       "  (1, 0.3180762106019059),\n",
       "  (2, 0.3182920092045578),\n",
       "  (3, 0.12083963480218753)],\n",
       " [(1, 0.2899146415782792), (2, 0.609651009343101), (3, 0.0942937487507775)],\n",
       " [(0, 0.3163044221430441),\n",
       "  (1, 0.31514343681579066),\n",
       "  (2, 0.3575140139448875),\n",
       "  (3, 0.011038127096277722)],\n",
       " [(1, 0.19467691812076507), (2, 0.3457166696268943), (3, 0.4513536836054744)],\n",
       " [(0, 0.3246000682667971),\n",
       "  (1, 0.5707082888836112),\n",
       "  (2, 0.015314202359868452),\n",
       "  (3, 0.08937744048972308)]]"
      ]
     },
     "execution_count": 8,
     "metadata": {},
     "output_type": "execute_result"
    }
   ],
   "source": [
    "[model[author] for author in model.id2author.values()]"
   ]
  },
  {
   "cell_type": "code",
   "execution_count": 9,
   "id": "15e0bda2",
   "metadata": {},
   "outputs": [],
   "source": [
    "# Hellinger Distance를 이용하여 비슷한 토픽을 가진 사용자를 추정하는 함수.\n",
    "\n",
    "\n",
    "# author-topic 분포 만들기\n",
    "author_vecs = [model[author] for author in model.id2author.values()]\n",
    " \n",
    "def similarity(vec1, vec2):\n",
    "    '''Get similarity between two vectors'''\n",
    "    dist = hellinger(matutils.sparse2full(vec1, model.num_topics),\n",
    "                     matutils.sparse2full(vec2, model.num_topics))\n",
    "    sim = 1.0 / (1.0 + dist)\n",
    "    \n",
    "    return sim\n",
    " \n",
    "def get_sims(vec):\n",
    "    '''Get similarity of vector to all authors.'''\n",
    "    sims = [similarity(vec, vec2) for vec2 in author_vecs]\n",
    "    return sims\n",
    " \n",
    "def get_table(star, top_n=10, smallest_author=1):\n",
    "    '''\n",
    "    Get table with similarities, author names, and author sizes.\n",
    "    Return `top_n` authors as a dataframe.\n",
    "    \n",
    "    '''\n",
    "    \n",
    "    # 유사도 측정하기\n",
    "    sims = get_sims(model[star])\n",
    "    \n",
    " \n",
    "    # 저자별 정보 정렬하기\n",
    "    table = []\n",
    "    for elem in enumerate(sims):\n",
    "        author_star = model.id2author[elem[0]]\n",
    "        sim = elem[1]\n",
    "        author_size = len(model.author2doc[author_star])\n",
    "        \n",
    "        table.append((author_star,sim , author_size))\n",
    "        \n",
    "\n",
    "    \n",
    "    # 사용자 패턴 분석 결과를 Dataframe으로 만들기\n",
    "    df =pd.DataFrame(table,columns = [\"Author\",\"Score\",\"Size\"])\n",
    "    df = df.sort_values(\"Score\",ascending = False)[:top_n]\n",
    "    \n",
    "    \n",
    "    return df"
   ]
  },
  {
   "cell_type": "code",
   "execution_count": 10,
   "id": "aa96fc60",
   "metadata": {},
   "outputs": [
    {
     "data": {
      "text/html": [
       "<div>\n",
       "<style scoped>\n",
       "    .dataframe tbody tr th:only-of-type {\n",
       "        vertical-align: middle;\n",
       "    }\n",
       "\n",
       "    .dataframe tbody tr th {\n",
       "        vertical-align: top;\n",
       "    }\n",
       "\n",
       "    .dataframe thead th {\n",
       "        text-align: right;\n",
       "    }\n",
       "</style>\n",
       "<table border=\"1\" class=\"dataframe\">\n",
       "  <thead>\n",
       "    <tr style=\"text-align: right;\">\n",
       "      <th></th>\n",
       "      <th>Author</th>\n",
       "      <th>Score</th>\n",
       "      <th>Size</th>\n",
       "    </tr>\n",
       "  </thead>\n",
       "  <tbody>\n",
       "    <tr>\n",
       "      <th>4</th>\n",
       "      <td>5</td>\n",
       "      <td>1.000000</td>\n",
       "      <td>1090</td>\n",
       "    </tr>\n",
       "    <tr>\n",
       "      <th>0</th>\n",
       "      <td>1</td>\n",
       "      <td>0.743143</td>\n",
       "      <td>1207</td>\n",
       "    </tr>\n",
       "    <tr>\n",
       "      <th>2</th>\n",
       "      <td>3</td>\n",
       "      <td>0.720773</td>\n",
       "      <td>218</td>\n",
       "    </tr>\n",
       "    <tr>\n",
       "      <th>3</th>\n",
       "      <td>4</td>\n",
       "      <td>0.615896</td>\n",
       "      <td>214</td>\n",
       "    </tr>\n",
       "    <tr>\n",
       "      <th>1</th>\n",
       "      <td>2</td>\n",
       "      <td>0.612059</td>\n",
       "      <td>142</td>\n",
       "    </tr>\n",
       "  </tbody>\n",
       "</table>\n",
       "</div>"
      ],
      "text/plain": [
       "   Author     Score  Size\n",
       "4       5  1.000000  1090\n",
       "0       1  0.743143  1207\n",
       "2       3  0.720773   218\n",
       "3       4  0.615896   214\n",
       "1       2  0.612059   142"
      ]
     },
     "execution_count": 10,
     "metadata": {},
     "output_type": "execute_result"
    }
   ],
   "source": [
    "# 별점별 대화 패턴 검증\n",
    "get_table(5)"
   ]
  },
  {
   "cell_type": "code",
   "execution_count": null,
   "id": "694b9210",
   "metadata": {},
   "outputs": [],
   "source": []
  }
 ],
 "metadata": {
  "kernelspec": {
   "display_name": "Python 3",
   "language": "python",
   "name": "python3"
  },
  "language_info": {
   "codemirror_mode": {
    "name": "ipython",
    "version": 3
   },
   "file_extension": ".py",
   "mimetype": "text/x-python",
   "name": "python",
   "nbconvert_exporter": "python",
   "pygments_lexer": "ipython3",
   "version": "3.6.10"
  },
  "toc": {
   "base_numbering": 1,
   "nav_menu": {},
   "number_sections": true,
   "sideBar": true,
   "skip_h1_title": false,
   "title_cell": "Table of Contents",
   "title_sidebar": "Contents",
   "toc_cell": false,
   "toc_position": {},
   "toc_section_display": true,
   "toc_window_display": false
  }
 },
 "nbformat": 4,
 "nbformat_minor": 5
}
